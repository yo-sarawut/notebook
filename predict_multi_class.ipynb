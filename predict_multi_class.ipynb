{
 "cells": [
  {
   "cell_type": "markdown",
   "metadata": {
    "colab_type": "text",
    "id": "view-in-github"
   },
   "source": [
    "<a href=\"https://colab.research.google.com/github/yosarawut/notebook/blob/main/predict_multi_class.ipynb\" target=\"_parent\"><img src=\"https://colab.research.google.com/assets/colab-badge.svg\" alt=\"Open In Colab\"/></a>"
   ]
  },
  {
   "cell_type": "markdown",
   "metadata": {
    "id": "3Iw559W7cPCL"
   },
   "source": [
    "ทดสอบการ Predict จากข้อมูลใบขนสินค้าจากระบบ\n",
    "==="
   ]
  },
  {
   "cell_type": "code",
   "execution_count": null,
   "metadata": {
    "colab": {
     "base_uri": "https://localhost:8080/"
    },
    "id": "mnBeHp-ErwGU",
    "outputId": "0c444ea0-2977-4820-cc31-a82ed070a8a1"
   },
   "outputs": [
    {
     "name": "stdout",
     "output_type": "stream",
     "text": [
      "/bin/bash: -c: line 0: syntax error near unexpected token `('\n",
      "/bin/bash: -c: line 0: `pip install  time()'\n"
     ]
    }
   ],
   "source": [
    "!pip install  time()"
   ]
  },
  {
   "cell_type": "code",
   "execution_count": 1,
   "metadata": {
    "ExecuteTime": {
     "end_time": "2021-02-16T15:42:03.525176Z",
     "start_time": "2021-02-16T15:41:51.741538Z"
    },
    "id": "zV5aOYrib47I"
   },
   "outputs": [],
   "source": [
    "import pandas as pd\n",
    "import numpy as np\n",
    "from time import time\n",
    "from sklearn.pipeline import Pipeline\n",
    "from sklearn.feature_extraction.text import CountVectorizer\n",
    "from sklearn.svm import LinearSVC\n",
    "from sklearn.feature_extraction.text import TfidfTransformer\n",
    "from sklearn.multiclass import OneVsRestClassifier\n",
    "\n",
    "\n",
    "#urls = 'https://github.com/dragon-library/work_space/raw/main/HS_Code/Lab/data/hs_code.xlsx'\n",
    "urls = 'data/test_hs_code.xlsx'\n",
    "types = 'section'\n",
    "#types = \"chapter\"\n",
    "\n",
    "def get_master(sheets,types = 'section'):\n",
    "    data = pd.read_excel(urls,sheet_name= sheets)\n",
    "    data[types] = data[types].map('{:02}'.format)\n",
    "    data = data[[types,'description']]\n",
    "    data['description'] = data['description'].str.lower()\n",
    " #   data = data.rename(columns={'heading' : 'target', 'product_desc' : 'question_text'})\n",
    "     \n",
    "\n",
    "    return data\n",
    "\n",
    "def manage_data(df):\n",
    "    df.columns = ['target', 'data']   \n",
    "    \n",
    "    \n",
    "    return df"
   ]
  },
  {
   "cell_type": "code",
   "execution_count": 17,
   "metadata": {
    "ExecuteTime": {
     "end_time": "2021-02-16T16:23:43.459073Z",
     "start_time": "2021-02-16T16:21:23.520768Z"
    },
    "colab": {
     "base_uri": "https://localhost:8080/"
    },
    "id": "w9epw-NvcX7z",
    "outputId": "2e101a22-95d6-461e-d33f-c152ab88980a"
   },
   "outputs": [
    {
     "name": "stdout",
     "output_type": "stream",
     "text": [
      "Load the dataset: Section\n",
      "Load dataset time:  139.912s\n",
      "size :  81181\n",
      "Wall time: 2min 19s\n"
     ]
    }
   ],
   "source": [
    "%%time\n",
    "types = \"section\"\n",
    "#types = \"chapter\"\n",
    "\n",
    "print(\"Load the dataset: Section\")\n",
    "\n",
    "t0 = time()\n",
    "\n",
    "sheets = '8_digit'\n",
    "eights = get_master(sheets,types)\n",
    "sheets = '6_digit'\n",
    "sixs = get_master(sheets,types)\n",
    "sheets = '4_digit'\n",
    "fours = get_master(sheets,types)\n",
    "sheets = '2_digit'\n",
    "twos = get_master(sheets,types)\n",
    "\n",
    "\n",
    "sheets = 'imp'\n",
    "imp = get_master(sheets,types)\n",
    "\n",
    "data = pd.concat([eights,sixs,fours,twos,exp], ignore_index=True)\n",
    "master = manage_data(data)\n",
    "\n",
    "\n",
    "\n",
    "load_time = time() - t0\n",
    "print(\"Load dataset time:  %0.3fs\" % load_time)\n",
    "\n",
    "print(\"size : \", len(master))\n",
    "\n"
   ]
  },
  {
   "cell_type": "code",
   "execution_count": 18,
   "metadata": {
    "ExecuteTime": {
     "end_time": "2021-02-16T16:23:43.489074Z",
     "start_time": "2021-02-16T16:23:43.463075Z"
    }
   },
   "outputs": [
    {
     "data": {
      "text/html": [
       "<div>\n",
       "<style scoped>\n",
       "    .dataframe tbody tr th:only-of-type {\n",
       "        vertical-align: middle;\n",
       "    }\n",
       "\n",
       "    .dataframe tbody tr th {\n",
       "        vertical-align: top;\n",
       "    }\n",
       "\n",
       "    .dataframe thead th {\n",
       "        text-align: right;\n",
       "    }\n",
       "</style>\n",
       "<table border=\"1\" class=\"dataframe\">\n",
       "  <thead>\n",
       "    <tr style=\"text-align: right;\">\n",
       "      <th></th>\n",
       "      <th>target</th>\n",
       "      <th>data</th>\n",
       "    </tr>\n",
       "  </thead>\n",
       "  <tbody>\n",
       "    <tr>\n",
       "      <th>0</th>\n",
       "      <td>01</td>\n",
       "      <td>horses; live, purebred breeding animals - pure...</td>\n",
       "    </tr>\n",
       "    <tr>\n",
       "      <th>1</th>\n",
       "      <td>01</td>\n",
       "      <td>horses; live, other than purebred breeding ani...</td>\n",
       "    </tr>\n",
       "    <tr>\n",
       "      <th>2</th>\n",
       "      <td>01</td>\n",
       "      <td>asses; live - other</td>\n",
       "    </tr>\n",
       "    <tr>\n",
       "      <th>3</th>\n",
       "      <td>01</td>\n",
       "      <td>mules and hinnies; live-  other</td>\n",
       "    </tr>\n",
       "    <tr>\n",
       "      <th>4</th>\n",
       "      <td>01</td>\n",
       "      <td>cattle; live, purebred breeding animals - pure...</td>\n",
       "    </tr>\n",
       "  </tbody>\n",
       "</table>\n",
       "</div>"
      ],
      "text/plain": [
       "  target                                               data\n",
       "0     01  horses; live, purebred breeding animals - pure...\n",
       "1     01  horses; live, other than purebred breeding ani...\n",
       "2     01                                asses; live - other\n",
       "3     01                    mules and hinnies; live-  other\n",
       "4     01  cattle; live, purebred breeding animals - pure..."
      ]
     },
     "execution_count": 18,
     "metadata": {},
     "output_type": "execute_result"
    }
   ],
   "source": [
    "master.head()"
   ]
  },
  {
   "cell_type": "code",
   "execution_count": 15,
   "metadata": {
    "ExecuteTime": {
     "end_time": "2021-02-16T16:17:44.332000Z",
     "start_time": "2021-02-16T16:17:44.309991Z"
    }
   },
   "outputs": [
    {
     "data": {
      "text/plain": [
       "81181"
      ]
     },
     "execution_count": 15,
     "metadata": {},
     "output_type": "execute_result"
    }
   ],
   "source": [
    "master.shape[0]"
   ]
  },
  {
   "cell_type": "code",
   "execution_count": 16,
   "metadata": {
    "ExecuteTime": {
     "end_time": "2021-02-16T16:18:24.304245Z",
     "start_time": "2021-02-16T16:18:24.293243Z"
    }
   },
   "outputs": [
    {
     "data": {
      "text/plain": [
       "'horses; live, purebred breeding animals - purebred breeding animals'"
      ]
     },
     "execution_count": 16,
     "metadata": {},
     "output_type": "execute_result"
    }
   ],
   "source": [
    "df.iloc[0][1]"
   ]
  },
  {
   "cell_type": "code",
   "execution_count": 19,
   "metadata": {
    "ExecuteTime": {
     "end_time": "2021-02-16T16:26:21.319152Z",
     "start_time": "2021-02-16T16:26:21.277154Z"
    },
    "colab": {
     "base_uri": "https://localhost:8080/"
    },
    "id": "pdNbe004cw5f",
    "outputId": "8be25e15-541d-463a-91cc-e9f59cfa838b"
   },
   "outputs": [
    {
     "data": {
      "text/plain": [
       "Counter({'01': 987,\n",
       "         '02': 889,\n",
       "         '03': 247,\n",
       "         '04': 855,\n",
       "         '05': 989,\n",
       "         '06': 4285,\n",
       "         '07': 6176,\n",
       "         '08': 334,\n",
       "         '09': 447,\n",
       "         '10': 869,\n",
       "         '11': 3465,\n",
       "         '12': 338,\n",
       "         '13': 702,\n",
       "         '14': 158,\n",
       "         '15': 33655,\n",
       "         '16': 18112,\n",
       "         '17': 3661,\n",
       "         '18': 3681,\n",
       "         '19': 56,\n",
       "         '20': 1253,\n",
       "         '21': 22})"
      ]
     },
     "execution_count": 19,
     "metadata": {},
     "output_type": "execute_result"
    }
   ],
   "source": [
    "from collections import Counter\n",
    "Counter(master[\"target\"])"
   ]
  },
  {
   "cell_type": "code",
   "execution_count": 20,
   "metadata": {
    "ExecuteTime": {
     "end_time": "2021-02-16T16:26:29.231910Z",
     "start_time": "2021-02-16T16:26:29.216912Z"
    }
   },
   "outputs": [],
   "source": [
    "# Data Cleaning\n",
    "def clean_str(text):\n",
    "    # remove everything except alphabets\n",
    "    text = re.sub(\"[^a-zA-Z]\", \"\", text)\n",
    "    # remove whitespaces\n",
    "    text = ' '.join(text.split())\n",
    "    text = text.lower()\n",
    "    \n",
    "    return text"
   ]
  },
  {
   "cell_type": "markdown",
   "metadata": {
    "ExecuteTime": {
     "end_time": "2021-02-16T15:44:57.123673Z",
     "start_time": "2021-02-16T15:44:57.075667Z"
    },
    "id": "z2TW_yxjcw_u"
   },
   "source": [
    "import re \n",
    "def clean_str(string):\n",
    "    \"\"\"\n",
    "    Tokenization/string cleaning for dataset\n",
    "    Every dataset is lower cased except\n",
    "    \"\"\"\n",
    "    string = re.sub(r\"\\n\", \"\", string)    \n",
    "    string = re.sub(r\"\\r\", \"\", string) \n",
    "    string = re.sub(r\"[0-9]\", \"digit\", string)\n",
    "    string = re.sub(r\"\\'\", \"\", string)    \n",
    "    string = re.sub(r\"\\\"\", \"\", string)    \n",
    "    \n",
    "    return string.strip().lower()"
   ]
  },
  {
   "cell_type": "code",
   "execution_count": 21,
   "metadata": {
    "ExecuteTime": {
     "end_time": "2021-02-16T16:26:47.974307Z",
     "start_time": "2021-02-16T16:26:33.550697Z"
    },
    "colab": {
     "base_uri": "https://localhost:8080/"
    },
    "id": "bUFT4_y2cxFC",
    "outputId": "3b730337-cf87-4e15-ae0c-5e37a66a3aea",
    "scrolled": true
   },
   "outputs": [
    {
     "name": "stdout",
     "output_type": "stream",
     "text": [
      "train test split dataset\n"
     ]
    }
   ],
   "source": [
    "print(\"train test split dataset\")\n",
    "#train test split\n",
    "df = master.copy()\n",
    "\n",
    "from sklearn.model_selection import train_test_split\n",
    "X = []\n",
    "for i in range(df.shape[0]):\n",
    "    X.append(clean_str(df.iloc[i][1]))\n",
    "y = np.array(df[\"target\"])\n",
    "X_train, X_test, y_train, y_test = train_test_split(X, y, test_size=0.3, random_state=10)"
   ]
  },
  {
   "cell_type": "code",
   "execution_count": 23,
   "metadata": {
    "ExecuteTime": {
     "end_time": "2021-02-16T16:54:42.937219Z",
     "start_time": "2021-02-16T16:28:42.630773Z"
    },
    "colab": {
     "base_uri": "https://localhost:8080/"
    },
    "id": "abF1sb6DcxIH",
    "outputId": "61df516d-0a9b-4c3f-b0a8-e839f25b597f"
   },
   "outputs": [
    {
     "name": "stdout",
     "output_type": "stream",
     "text": [
      "Training: \n",
      "paramater selection\n"
     ]
    },
    {
     "name": "stderr",
     "output_type": "stream",
     "text": [
      "C:\\Users\\ASUS\\.conda\\envs\\env_ml\\lib\\site-packages\\sklearn\\svm\\_base.py:977: ConvergenceWarning: Liblinear failed to converge, increase the number of iterations.\n",
      "  \"the number of iterations.\", ConvergenceWarning)\n"
     ]
    },
    {
     "name": "stdout",
     "output_type": "stream",
     "text": [
      "0.45649898962890817\n",
      "{'tfidf__use_idf': True, 'vectorizer__ngram_range': (1, 1)}\n",
      "Wall time: 26min\n"
     ]
    }
   ],
   "source": [
    "%%time\n",
    "#feature engineering and model selection\n",
    "from sklearn.svm import LinearSVC\n",
    "from sklearn.linear_model import LogisticRegression\n",
    "from sklearn.ensemble import RandomForestClassifier\n",
    "\n",
    "print(\"Training: \")\n",
    "\n",
    "#pipeline of feature engineering and model\n",
    "t0 = time()\n",
    "model = Pipeline([('vectorizer', CountVectorizer()),\n",
    "    ('tfidf', TfidfTransformer()),\n",
    "    ('clf', OneVsRestClassifier(LinearSVC(class_weight=\"balanced\")))])\n",
    "\n",
    "print(\"paramater selection\")\n",
    "#paramater selection\n",
    "from sklearn.model_selection import GridSearchCV\n",
    "parameters = {'vectorizer__ngram_range': [(1, 1), (1, 2),(2,2)],\n",
    "               'tfidf__use_idf': (True, False)}\n",
    "\n",
    "gs_clf_svm = GridSearchCV(model, parameters, n_jobs=-1)\n",
    "gs_clf_svm = gs_clf_svm.fit(X, y)\n",
    "print(gs_clf_svm.best_score_)\n",
    "print(gs_clf_svm.best_params_)"
   ]
  },
  {
   "cell_type": "code",
   "execution_count": 26,
   "metadata": {
    "ExecuteTime": {
     "end_time": "2021-02-16T17:13:32.972860Z",
     "start_time": "2021-02-16T17:12:18.171863Z"
    },
    "colab": {
     "base_uri": "https://localhost:8080/"
    },
    "id": "qrKWDhNccxMP",
    "outputId": "99f120b0-218d-4a0d-d147-0e53903a307e"
   },
   "outputs": [
    {
     "name": "stdout",
     "output_type": "stream",
     "text": [
      "preparing the final pipeline using the selected parameters\n",
      "fit model with training data\n"
     ]
    },
    {
     "name": "stderr",
     "output_type": "stream",
     "text": [
      "C:\\Users\\ASUS\\.conda\\envs\\env_ml\\lib\\site-packages\\sklearn\\svm\\_base.py:977: ConvergenceWarning: Liblinear failed to converge, increase the number of iterations.\n",
      "  \"the number of iterations.\", ConvergenceWarning)\n"
     ]
    },
    {
     "name": "stdout",
     "output_type": "stream",
     "text": [
      "train time: 2689.726s\n",
      "test time:  0.179s\n",
      " Target \n",
      "  ['01' '02' '03' '04' '05' '06' '07' '08' '09' '10' '11' '12' '13' '14'\n",
      " '15' '16' '17' '18' '19' '20' '21']\n",
      "Wall time: 1min 14s\n"
     ]
    }
   ],
   "source": [
    "%%time\n",
    "#preparing the final pipeline using the selected parameters\n",
    "print(\"preparing the final pipeline using the selected parameters\")\n",
    "model = Pipeline([('vectorizer', CountVectorizer(ngram_range=(1,2))),\n",
    "    ('tfidf', TfidfTransformer(use_idf=True)),\n",
    "    ('clf', OneVsRestClassifier(LinearSVC(class_weight=\"balanced\")))])\n",
    "\n",
    "#fit model with training data\n",
    "print(\"fit model with training data\")\n",
    "model.fit(X_train, y_train)\n",
    "train_time = time() - t0\n",
    "print(\"train time: %0.3fs\" % train_time)\n",
    "\n",
    "#evaluation on test data\n",
    "t0 = time()\n",
    "pred = model.predict(X_test)\n",
    "test_time = time() - t0\n",
    "print(\"test time:  %0.3fs\" % test_time)\n",
    "print(\" Target \\n \", model.classes_)"
   ]
  },
  {
   "cell_type": "code",
   "execution_count": 27,
   "metadata": {
    "ExecuteTime": {
     "end_time": "2021-02-16T17:13:33.301857Z",
     "start_time": "2021-02-16T17:13:32.976859Z"
    },
    "colab": {
     "base_uri": "https://localhost:8080/"
    },
    "id": "O0x4Vb-JcxRn",
    "outputId": "6c205b55-729f-4373-adb4-57635ad81091"
   },
   "outputs": [
    {
     "data": {
      "text/plain": [
       "array([[  21,    0,    0,    0,    0,    0,    0,    0,    0,    0,    0,\n",
       "           0,    0,    0,    0,    0,    0,    0,    0,    0,    0],\n",
       "       [   0,   21,    0,    0,    0,    0,    0,    0,    0,    0,    0,\n",
       "           0,    0,    0,    0,    0,    0,    0,    0,    0,    0],\n",
       "       [   0,    0,   14,    0,    0,    0,    0,    0,    0,    0,    0,\n",
       "           0,    0,    0,    0,    0,    0,    0,    0,    0,    0],\n",
       "       [   0,    0,    0,   28,    0,    0,    0,    0,    0,    0,    0,\n",
       "           0,    0,    0,    0,    0,    0,    0,    0,    0,    0],\n",
       "       [   0,    0,    0,    0,   44,    5,    2,    0,    0,    0,    0,\n",
       "           0,    0,    0,    0,    1,    0,    0,    0,    0,    0],\n",
       "       [   0,    0,    0,    0,    3,  193,   10,    0,    0,    0,    0,\n",
       "           0,    0,    0,    1,    2,    0,    0,    0,    0,    0],\n",
       "       [   0,    0,    0,    0,    1,    5,  696,    0,    1,    0,   37,\n",
       "           0,    1,    0,   47,   51,    0,   12,    0,    0,    0],\n",
       "       [   0,    0,    0,    0,    0,    0,    0,   14,    0,    0,    0,\n",
       "           0,    0,    0,    2,    0,    0,    0,    0,    0,    0],\n",
       "       [   0,    0,    0,    0,    0,    0,    0,    0,   23,    0,    0,\n",
       "           0,    0,    0,    0,    0,    0,    0,    0,    0,    0],\n",
       "       [   0,    0,    0,    0,    0,    0,    1,    0,    0,   43,    1,\n",
       "           0,    0,    0,    0,    1,    0,    0,    0,    0,    0],\n",
       "       [   0,    0,    0,    0,    0,    1,    9,    1,    0,    0,  191,\n",
       "           1,    0,    0,    3,    2,    0,    0,    0,    0,    0],\n",
       "       [   0,    0,    0,    0,    0,    0,    1,    0,    0,    0,    0,\n",
       "          30,    0,    0,    0,    0,    0,    0,    0,    0,    0],\n",
       "       [   0,    0,    0,    0,    0,    1,    0,    0,    0,    0,    0,\n",
       "           0,   39,    0,    4,    1,    0,    0,    0,    0,    0],\n",
       "       [   0,    0,    0,    0,    0,    0,    0,    0,    0,    0,    0,\n",
       "           0,    0,    4,    0,    0,    0,    0,    0,    0,    0],\n",
       "       [ 299,  255,   66,  215,  233, 1082, 1131,   82,  123,  236,  743,\n",
       "          62,  165,   33, 9844, 3679,  324,  782,   10,  282,    5],\n",
       "       [   0,    0,    0,    0,    0,    2,   17,    0,    0,    3,    1,\n",
       "           0,    0,    0,  177, 1643,    1,   11,    0,    3,    0],\n",
       "       [   0,    0,    0,    0,    0,    0,    0,    0,    0,    0,    0,\n",
       "           0,    0,    0,    6,    0,  772,    0,    0,    1,    0],\n",
       "       [   0,    0,    0,    0,    0,    0,    2,    0,    0,    0,    0,\n",
       "           0,    0,    0,   59,   47,    0,  274,    0,    0,    0],\n",
       "       [   0,    0,    0,    0,    0,    0,    0,    0,    0,    0,    0,\n",
       "           0,    0,    0,    0,    0,    0,    0,    4,    0,    0],\n",
       "       [   0,    0,    0,    0,    0,    1,    1,    0,    0,    0,    0,\n",
       "           0,    0,    0,    8,    6,    1,    2,    0,   91,    0],\n",
       "       [   0,    0,    0,    0,    0,    0,    0,    0,    0,    0,    0,\n",
       "           0,    0,    0,    0,    0,    0,    0,    0,    0,    2]],\n",
       "      dtype=int64)"
      ]
     },
     "execution_count": 27,
     "metadata": {},
     "output_type": "execute_result"
    }
   ],
   "source": [
    "from sklearn.metrics import confusion_matrix, accuracy_score\n",
    "confusion_matrix(pred, y_test)"
   ]
  },
  {
   "cell_type": "code",
   "execution_count": 28,
   "metadata": {
    "ExecuteTime": {
     "end_time": "2021-02-16T17:13:33.363859Z",
     "start_time": "2021-02-16T17:13:33.304860Z"
    },
    "colab": {
     "base_uri": "https://localhost:8080/"
    },
    "id": "A3s58KWOcxUa",
    "outputId": "cd162961-a53f-456d-c074-155522fa538d"
   },
   "outputs": [
    {
     "data": {
      "text/plain": [
       "0.5744610962841306"
      ]
     },
     "execution_count": 28,
     "metadata": {},
     "output_type": "execute_result"
    }
   ],
   "source": [
    "## เริ่ีม predict\n",
    "\n",
    "accuracy_score(y_test, pred)"
   ]
  },
  {
   "cell_type": "code",
   "execution_count": 29,
   "metadata": {
    "ExecuteTime": {
     "end_time": "2021-02-16T17:13:34.094859Z",
     "start_time": "2021-02-16T17:13:33.366862Z"
    },
    "colab": {
     "base_uri": "https://localhost:8080/"
    },
    "id": "mOmxnfHJhvDY",
    "outputId": "e12e7a30-fbd7-4b7c-df14-d83b17ec63d1"
   },
   "outputs": [
    {
     "name": "stdout",
     "output_type": "stream",
     "text": [
      "              precision    recall  f1-score   support\n",
      "\n",
      "          01       1.00      0.07      0.12       320\n",
      "          02       1.00      0.08      0.14       276\n",
      "          03       1.00      0.17      0.30        80\n",
      "          04       1.00      0.12      0.21       243\n",
      "          05       0.85      0.16      0.26       281\n",
      "          06       0.92      0.15      0.26      1290\n",
      "          07       0.82      0.37      0.51      1870\n",
      "          08       0.88      0.14      0.25        97\n",
      "          09       1.00      0.16      0.27       147\n",
      "          10       0.93      0.15      0.26       282\n",
      "          11       0.92      0.20      0.32       973\n",
      "          12       0.97      0.32      0.48        93\n",
      "          13       0.87      0.19      0.31       205\n",
      "          14       1.00      0.11      0.20        37\n",
      "          15       0.50      0.97      0.66     10151\n",
      "          16       0.88      0.30      0.45      5433\n",
      "          17       0.99      0.70      0.82      1098\n",
      "          18       0.72      0.25      0.37      1081\n",
      "          19       1.00      0.29      0.44        14\n",
      "          20       0.83      0.24      0.37       377\n",
      "          21       1.00      0.29      0.44         7\n",
      "\n",
      "    accuracy                           0.57     24355\n",
      "   macro avg       0.91      0.26      0.36     24355\n",
      "weighted avg       0.72      0.57      0.52     24355\n",
      "\n"
     ]
    }
   ],
   "source": [
    "from sklearn.metrics import classification_report\n",
    "print(classification_report(y_test, pred))"
   ]
  },
  {
   "cell_type": "code",
   "execution_count": null,
   "metadata": {
    "id": "vDGInS1N-leR"
   },
   "outputs": [],
   "source": []
  },
  {
   "cell_type": "code",
   "execution_count": null,
   "metadata": {
    "id": "GxF81g1ThvIo"
   },
   "outputs": [],
   "source": [
    "#save the model\n",
    "print(\"Save Model\")\n",
    "import joblib\n",
    "#joblib.dump(model, 'model_section.pkl', compress=1)"
   ]
  },
  {
   "cell_type": "code",
   "execution_count": null,
   "metadata": {
    "id": "sZLadkBNhvOh"
   },
   "outputs": [],
   "source": []
  },
  {
   "cell_type": "code",
   "execution_count": null,
   "metadata": {
    "id": "8PFHzASqhvRJ"
   },
   "outputs": [],
   "source": []
  }
 ],
 "metadata": {
  "colab": {
   "authorship_tag": "ABX9TyPUyHFxV+3vE/UqKYeNgw1N",
   "collapsed_sections": [],
   "include_colab_link": true,
   "name": "test_predict_multi_class.ipynb",
   "provenance": []
  },
  "hide_input": false,
  "kernelspec": {
   "display_name": "env_ml",
   "language": "python",
   "name": "env_ml"
  },
  "language_info": {
   "codemirror_mode": {
    "name": "ipython",
    "version": 3
   },
   "file_extension": ".py",
   "mimetype": "text/x-python",
   "name": "python",
   "nbconvert_exporter": "python",
   "pygments_lexer": "ipython3",
   "version": "3.6.12"
  },
  "latex_envs": {
   "LaTeX_envs_menu_present": true,
   "autoclose": false,
   "autocomplete": true,
   "bibliofile": "biblio.bib",
   "cite_by": "apalike",
   "current_citInitial": 1,
   "eqLabelWithNumbers": true,
   "eqNumInitial": 1,
   "hotkeys": {
    "equation": "Ctrl-E",
    "itemize": "Ctrl-I"
   },
   "labels_anchors": false,
   "latex_user_defs": false,
   "report_style_numbering": false,
   "user_envs_cfg": false
  },
  "toc": {
   "base_numbering": 1,
   "nav_menu": {},
   "number_sections": false,
   "sideBar": true,
   "skip_h1_title": false,
   "title_cell": "Table of Contents",
   "title_sidebar": "Contents",
   "toc_cell": false,
   "toc_position": {},
   "toc_section_display": true,
   "toc_window_display": false
  }
 },
 "nbformat": 4,
 "nbformat_minor": 1
}
