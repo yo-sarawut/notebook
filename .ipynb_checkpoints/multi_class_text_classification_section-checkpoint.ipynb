{
 "cells": [
  {
   "cell_type": "markdown",
   "metadata": {
    "colab_type": "text",
    "id": "view-in-github"
   },
   "source": [
    "<a href=\"https://colab.research.google.com/github/yosarawut/notebook/blob/main/multi_class_text_classification_section.ipynb\" target=\"_parent\"><img src=\"https://colab.research.google.com/assets/colab-badge.svg\" alt=\"Open In Colab\"/></a>"
   ]
  },
  {
   "cell_type": "markdown",
   "metadata": {
    "id": "Fnx5tVUB2m83"
   },
   "source": [
    "Multi Class Text Classification with LSTM using TensorFlow 2.0\n",
    "===\n",
    "\n",
    "Recurrent Neural Networks, Long Short Term Memory\n",
    "\n",
    "- https://towardsdatascience.com/multi-class-text-classification-with-lstm-using-tensorflow-2-0-d88627c10a35"
   ]
  },
  {
   "cell_type": "markdown",
   "metadata": {
    "id": "Z9m01kuO8BFS"
   },
   "source": [
    "## 4 Digit"
   ]
  },
  {
   "cell_type": "code",
   "execution_count": 1,
   "metadata": {
    "id": "2lidfsRH2m87"
   },
   "outputs": [],
   "source": [
    "#!pip install tensorflow -q\n",
    "#!pip install matplotlib -q"
   ]
  },
  {
   "cell_type": "code",
   "execution_count": 1,
   "metadata": {
    "ExecuteTime": {
     "end_time": "2021-02-03T16:26:01.811951Z",
     "start_time": "2021-02-03T16:25:44.753881Z"
    },
    "colab": {
     "base_uri": "https://localhost:8080/"
    },
    "id": "66TGumeF2m8-",
    "outputId": "4eaa8d57-da2a-4825-a9d2-ada46a565d24"
   },
   "outputs": [
    {
     "ename": "ModuleNotFoundError",
     "evalue": "No module named 'nltk'",
     "output_type": "error",
     "traceback": [
      "\u001b[1;31m---------------------------------------------------------------------------\u001b[0m",
      "\u001b[1;31mModuleNotFoundError\u001b[0m                       Traceback (most recent call last)",
      "\u001b[1;32m<ipython-input-1-ceaba2d55f1b>\u001b[0m in \u001b[0;36m<module>\u001b[1;34m\u001b[0m\n\u001b[0;32m      4\u001b[0m \u001b[1;32mfrom\u001b[0m \u001b[0mtensorflow\u001b[0m\u001b[1;33m.\u001b[0m\u001b[0mkeras\u001b[0m\u001b[1;33m.\u001b[0m\u001b[0mpreprocessing\u001b[0m\u001b[1;33m.\u001b[0m\u001b[0mtext\u001b[0m \u001b[1;32mimport\u001b[0m \u001b[0mTokenizer\u001b[0m\u001b[1;33m\u001b[0m\u001b[1;33m\u001b[0m\u001b[0m\n\u001b[0;32m      5\u001b[0m \u001b[1;32mfrom\u001b[0m \u001b[0mtensorflow\u001b[0m\u001b[1;33m.\u001b[0m\u001b[0mkeras\u001b[0m\u001b[1;33m.\u001b[0m\u001b[0mpreprocessing\u001b[0m\u001b[1;33m.\u001b[0m\u001b[0msequence\u001b[0m \u001b[1;32mimport\u001b[0m \u001b[0mpad_sequences\u001b[0m\u001b[1;33m\u001b[0m\u001b[1;33m\u001b[0m\u001b[0m\n\u001b[1;32m----> 6\u001b[1;33m \u001b[1;32mimport\u001b[0m \u001b[0mnltk\u001b[0m\u001b[1;33m\u001b[0m\u001b[1;33m\u001b[0m\u001b[0m\n\u001b[0m\u001b[0;32m      7\u001b[0m \u001b[0mnltk\u001b[0m\u001b[1;33m.\u001b[0m\u001b[0mdownload\u001b[0m\u001b[1;33m(\u001b[0m\u001b[1;34m'stopwords'\u001b[0m\u001b[1;33m)\u001b[0m\u001b[1;33m\u001b[0m\u001b[1;33m\u001b[0m\u001b[0m\n\u001b[0;32m      8\u001b[0m \u001b[1;32mimport\u001b[0m \u001b[0mpandas\u001b[0m \u001b[1;32mas\u001b[0m \u001b[0mpd\u001b[0m\u001b[1;33m\u001b[0m\u001b[1;33m\u001b[0m\u001b[0m\n",
      "\u001b[1;31mModuleNotFoundError\u001b[0m: No module named 'nltk'"
     ]
    }
   ],
   "source": [
    "import csv\n",
    "import tensorflow as tf\n",
    "import numpy as np\n",
    "from tensorflow.keras.preprocessing.text import Tokenizer\n",
    "from tensorflow.keras.preprocessing.sequence import pad_sequences\n",
    "import nltk\n",
    "nltk.download('stopwords')\n",
    "import pandas as pd\n",
    "from nltk.corpus import stopwords\n",
    "STOPWORDS = set(stopwords.words('english'))\n",
    "%matplotlib inline\n",
    "\n",
    "print(tf.__version__)"
   ]
  },
  {
   "cell_type": "code",
   "execution_count": null,
   "metadata": {
    "ExecuteTime": {
     "end_time": "2021-02-03T16:26:01.817945Z",
     "start_time": "2021-02-03T16:25:44.763Z"
    },
    "id": "lPYLwjdCPOez"
   },
   "outputs": [],
   "source": [
    "import pandas as pd\n",
    "import numpy as np\n",
    "import joblib\n",
    "from time import time\n",
    "\n",
    "\n",
    "def get_data(urls, sheets, types):\n",
    "    data = \"\"\n",
    "    t0 = time()\n",
    "    a = []\n",
    "    i = 0\n",
    "    for s in sheets:\n",
    "        s = pd.read_excel(urls, sheet_name=s)\n",
    "        s = s[[types, 'description']]\n",
    "        s['description'] = s['description'].str.lower()\n",
    "        if i == 0:\n",
    "            data = s.copy()\n",
    "        else:\n",
    "            data = pd.concat([data, s], ignore_index=True)\n",
    "        i += 1\n",
    "    data.columns = ['target', 'data']\n",
    "    data['target'] = data['target'].apply(str)\n",
    "    load_time = time() - t0\n",
    "    print(\"Load dataset time:  %0.3fs\" % load_time)\n",
    "\n",
    "    return data"
   ]
  },
  {
   "cell_type": "code",
   "execution_count": null,
   "metadata": {
    "ExecuteTime": {
     "end_time": "2021-02-03T16:26:01.819946Z",
     "start_time": "2021-02-03T16:25:44.775Z"
    },
    "colab": {
     "base_uri": "https://localhost:8080/",
     "height": 427
    },
    "id": "hIbk2Q-mPYSS",
    "outputId": "759de41c-5158-4822-bd17-6c4c90d6f2ea"
   },
   "outputs": [],
   "source": [
    "t0 = time()\n",
    "urls = 'https://github.com/dragon-library/work_space/raw/main/HS_Code/Lab/data/hs_code.xlsx'\n",
    "\n",
    "types = 'section'\n",
    "#sheets = ['8_digit','6_digit','4_digit', 'test_01', 'Declaration_2019_10']\n",
    "sheets = ['8_digit','6_digit','4_digit', '2_digit']\n",
    "df = get_data(urls,sheets,types)\n",
    "\n",
    "print(len(df))\n",
    "df.columns = ['category', 'text']\n",
    "\n",
    "print(len(df))\n",
    "\n",
    "load_time = time() - t0\n",
    "print(\"Load data time:  %0.3fs\" % load_time)\n",
    "df.sample(10)"
   ]
  },
  {
   "cell_type": "code",
   "execution_count": null,
   "metadata": {
    "ExecuteTime": {
     "end_time": "2021-02-03T16:26:01.822946Z",
     "start_time": "2021-02-03T16:25:44.783Z"
    },
    "id": "38E7fIkF2m8_"
   },
   "outputs": [],
   "source": [
    "vocab_size = 5000\n",
    "embedding_dim = 64\n",
    "max_length = 200\n",
    "trunc_type = 'post'\n",
    "padding_type = 'post'\n",
    "oov_tok = '<OOV>'\n",
    "training_portion = .8"
   ]
  },
  {
   "cell_type": "code",
   "execution_count": null,
   "metadata": {
    "ExecuteTime": {
     "end_time": "2021-02-03T16:26:01.824946Z",
     "start_time": "2021-02-03T16:25:44.790Z"
    },
    "id": "QEsXtLS7RWkP"
   },
   "outputs": [],
   "source": [
    "labels = df.category\n",
    "articles = df.text"
   ]
  },
  {
   "cell_type": "code",
   "execution_count": null,
   "metadata": {
    "ExecuteTime": {
     "end_time": "2021-02-03T16:26:01.826946Z",
     "start_time": "2021-02-03T16:25:44.797Z"
    },
    "colab": {
     "base_uri": "https://localhost:8080/"
    },
    "id": "BeizbrDM2m8_",
    "outputId": "6085858f-e7b6-40fe-82ec-f96e59563057"
   },
   "outputs": [],
   "source": [
    "train_size = int(len(articles) * training_portion)\n",
    "\n",
    "train_articles = articles[0: train_size]\n",
    "train_labels = labels[0: train_size]\n",
    "\n",
    "validation_articles = articles[train_size:]\n",
    "validation_labels = labels[train_size:]\n",
    "\n",
    "print(train_size)\n",
    "print(len(train_articles))\n",
    "print(len(train_labels))\n",
    "print(len(validation_articles))\n",
    "print(len(validation_labels))"
   ]
  },
  {
   "cell_type": "code",
   "execution_count": null,
   "metadata": {
    "ExecuteTime": {
     "end_time": "2021-02-03T16:26:01.828947Z",
     "start_time": "2021-02-03T16:25:44.803Z"
    },
    "colab": {
     "base_uri": "https://localhost:8080/"
    },
    "id": "eeWD5oVe2m8_",
    "outputId": "289307bb-9a67-42ba-fbf0-5f81ea37806a"
   },
   "outputs": [],
   "source": [
    "tokenizer = Tokenizer(num_words = vocab_size, oov_token=oov_tok)\n",
    "tokenizer.fit_on_texts(train_articles)\n",
    "word_index = tokenizer.word_index\n",
    "dict(list(word_index.items())[0:10])"
   ]
  },
  {
   "cell_type": "code",
   "execution_count": null,
   "metadata": {
    "ExecuteTime": {
     "end_time": "2021-02-03T16:26:01.830947Z",
     "start_time": "2021-02-03T16:25:44.809Z"
    },
    "colab": {
     "base_uri": "https://localhost:8080/"
    },
    "id": "Qtx1PoAW2m8_",
    "outputId": "53bdd3cb-2973-4cb6-9798-6088892eb4bb"
   },
   "outputs": [],
   "source": [
    "train_sequences = tokenizer.texts_to_sequences(train_articles)\n",
    "print(train_sequences[10])"
   ]
  },
  {
   "cell_type": "code",
   "execution_count": null,
   "metadata": {
    "ExecuteTime": {
     "end_time": "2021-02-03T16:26:01.833946Z",
     "start_time": "2021-02-03T16:25:44.814Z"
    },
    "colab": {
     "base_uri": "https://localhost:8080/"
    },
    "id": "gVQXONnr2m8_",
    "outputId": "d986ef7e-16f9-4fc4-b11c-fac5c239f2be"
   },
   "outputs": [],
   "source": [
    "train_padded = pad_sequences(train_sequences, maxlen=max_length, padding=padding_type, truncating=trunc_type)\n",
    "print(len(train_sequences[0]))\n",
    "print(len(train_padded[0]))\n",
    "\n",
    "print(len(train_sequences[1]))\n",
    "print(len(train_padded[1]))\n",
    "\n",
    "print(len(train_sequences[10]))\n",
    "print(len(train_padded[10]))"
   ]
  },
  {
   "cell_type": "code",
   "execution_count": null,
   "metadata": {
    "ExecuteTime": {
     "end_time": "2021-02-03T16:26:01.835945Z",
     "start_time": "2021-02-03T16:25:44.820Z"
    },
    "colab": {
     "base_uri": "https://localhost:8080/"
    },
    "id": "f1_HfalA2m8_",
    "outputId": "031f3f72-f6e4-4a35-d5a8-c92f37cf29e8"
   },
   "outputs": [],
   "source": [
    "print(train_padded[10])"
   ]
  },
  {
   "cell_type": "code",
   "execution_count": null,
   "metadata": {
    "ExecuteTime": {
     "end_time": "2021-02-03T16:26:01.837947Z",
     "start_time": "2021-02-03T16:25:44.827Z"
    },
    "colab": {
     "base_uri": "https://localhost:8080/"
    },
    "id": "N-3SjygY2m8_",
    "outputId": "f281557a-4631-4573-cbf0-bd5f1ca10f8f"
   },
   "outputs": [],
   "source": [
    "validation_sequences = tokenizer.texts_to_sequences(validation_articles)\n",
    "validation_padded = pad_sequences(validation_sequences, maxlen=max_length, padding=padding_type, truncating=trunc_type)\n",
    "\n",
    "print(len(validation_sequences))\n",
    "print(validation_padded.shape)"
   ]
  },
  {
   "cell_type": "code",
   "execution_count": null,
   "metadata": {
    "ExecuteTime": {
     "end_time": "2021-02-03T16:26:01.839946Z",
     "start_time": "2021-02-03T16:25:44.834Z"
    },
    "colab": {
     "base_uri": "https://localhost:8080/"
    },
    "id": "efwDgV3r2m8_",
    "outputId": "93378588-75c8-41c2-d8be-da9877e719cf"
   },
   "outputs": [],
   "source": [
    "label_tokenizer = Tokenizer()\n",
    "label_tokenizer.fit_on_texts(labels)\n",
    "\n",
    "training_label_seq = np.array(label_tokenizer.texts_to_sequences(train_labels))\n",
    "validation_label_seq = np.array(label_tokenizer.texts_to_sequences(validation_labels))\n",
    "print(training_label_seq[0])\n",
    "print(training_label_seq[1])\n",
    "print(training_label_seq[2])\n",
    "print(training_label_seq.shape)\n",
    "\n",
    "print(validation_label_seq[0])\n",
    "print(validation_label_seq[1])\n",
    "print(validation_label_seq[2])\n",
    "print(validation_label_seq.shape)"
   ]
  },
  {
   "cell_type": "code",
   "execution_count": null,
   "metadata": {
    "ExecuteTime": {
     "end_time": "2021-02-03T16:26:01.841947Z",
     "start_time": "2021-02-03T16:25:44.840Z"
    },
    "colab": {
     "base_uri": "https://localhost:8080/"
    },
    "id": "zslzyWW32m9A",
    "outputId": "874e64aa-92ce-4161-b429-76f977b14175"
   },
   "outputs": [],
   "source": [
    "reverse_word_index = dict([(value, key) for (key, value) in word_index.items()])\n",
    "\n",
    "def decode_article(text):\n",
    "    return ' '.join([reverse_word_index.get(i, '?') for i in text])\n",
    "print(decode_article(train_padded[10]))\n",
    "print('---')\n",
    "print(train_articles[10])"
   ]
  },
  {
   "cell_type": "code",
   "execution_count": null,
   "metadata": {
    "ExecuteTime": {
     "end_time": "2021-02-03T16:26:01.844948Z",
     "start_time": "2021-02-03T16:25:44.844Z"
    },
    "colab": {
     "base_uri": "https://localhost:8080/"
    },
    "id": "2JNawmyh2m9A",
    "outputId": "0c894698-3472-4cbb-98ce-c5eae80c18ea"
   },
   "outputs": [],
   "source": [
    "model = tf.keras.Sequential([\n",
    "    # Add an Embedding layer expecting input vocab of size 5000, and output embedding dimension of size 64 we set at the top\n",
    "    tf.keras.layers.Embedding(vocab_size, embedding_dim),\n",
    "    tf.keras.layers.Bidirectional(tf.keras.layers.LSTM(embedding_dim)),\n",
    "#    tf.keras.layers.Bidirectional(tf.keras.layers.LSTM(32)),\n",
    "    # use ReLU in place of tanh function since they are very good alternatives of each other.\n",
    "    tf.keras.layers.Dense(embedding_dim, activation='relu'),\n",
    "    # Add a Dense layer with 6 units and softmax activation.\n",
    "    # When we have multiple outputs, softmax convert outputs layers into a probability distribution.\n",
    "    tf.keras.layers.Dense(100, activation='softmax')\n",
    "])\n",
    "model.summary()"
   ]
  },
  {
   "cell_type": "code",
   "execution_count": null,
   "metadata": {
    "ExecuteTime": {
     "end_time": "2021-02-03T16:26:01.846948Z",
     "start_time": "2021-02-03T16:25:44.849Z"
    },
    "colab": {
     "base_uri": "https://localhost:8080/"
    },
    "id": "BG20wv1n2m9A",
    "outputId": "e9d8ee24-3f1c-41e8-92d8-8b4811e338ef"
   },
   "outputs": [],
   "source": [
    "print(set(labels))"
   ]
  },
  {
   "cell_type": "code",
   "execution_count": null,
   "metadata": {
    "ExecuteTime": {
     "end_time": "2021-02-03T16:26:01.848944Z",
     "start_time": "2021-02-03T16:25:44.854Z"
    },
    "colab": {
     "base_uri": "https://localhost:8080/"
    },
    "id": "HigYTD0V2m9A",
    "outputId": "5cab60d7-f62d-4ef1-e31f-74c0c59a96c2"
   },
   "outputs": [],
   "source": [
    "model.compile(loss='sparse_categorical_crossentropy', optimizer='adam', metrics=['accuracy'])\n",
    "num_epochs = 5\n",
    "history = model.fit(train_padded, training_label_seq, epochs=num_epochs, validation_data=(validation_padded, validation_label_seq), verbose=2)"
   ]
  },
  {
   "cell_type": "code",
   "execution_count": null,
   "metadata": {
    "ExecuteTime": {
     "end_time": "2021-02-03T16:26:01.851947Z",
     "start_time": "2021-02-03T16:25:44.860Z"
    },
    "colab": {
     "base_uri": "https://localhost:8080/",
     "height": 541
    },
    "id": "oOJdZ8bv2m9A",
    "outputId": "674a1fed-654b-4cb4-88ac-bf6e53393c74"
   },
   "outputs": [],
   "source": [
    "import matplotlib.pyplot as plt\n",
    "\n",
    "def plot_graphs(history, string):\n",
    "      plt.plot(history.history[string])\n",
    "      plt.plot(history.history['val_'+string])\n",
    "      plt.xlabel(\"Epochs\")\n",
    "  plt.ylabel(string)\n",
    "  plt.legend([string, 'val_'+string])\n",
    "  plt.show()\n",
    "  \n",
    "plot_graphs(history, \"accuracy\")\n",
    "plot_graphs(history, \"loss\")"
   ]
  },
  {
   "cell_type": "code",
   "execution_count": null,
   "metadata": {
    "ExecuteTime": {
     "end_time": "2021-02-03T16:26:01.853946Z",
     "start_time": "2021-02-03T16:25:44.866Z"
    },
    "colab": {
     "base_uri": "https://localhost:8080/",
     "height": 669
    },
    "id": "RQBY--nv2m9A",
    "outputId": "5a53953b-b190-42be-841d-06120c212d79"
   },
   "outputs": [],
   "source": [
    "df.head(20)"
   ]
  },
  {
   "cell_type": "code",
   "execution_count": null,
   "metadata": {
    "id": "SbHUNd-R9vuD"
   },
   "outputs": [],
   "source": []
  }
 ],
 "metadata": {
  "colab": {
   "collapsed_sections": [],
   "include_colab_link": true,
   "name": "multi-class-text-classification-section.ipynb",
   "provenance": []
  },
  "hide_input": false,
  "kernelspec": {
   "display_name": "env_ml",
   "language": "python",
   "name": "env_ml"
  },
  "language_info": {
   "codemirror_mode": {
    "name": "ipython",
    "version": 3
   },
   "file_extension": ".py",
   "mimetype": "text/x-python",
   "name": "python",
   "nbconvert_exporter": "python",
   "pygments_lexer": "ipython3",
   "version": "3.6.12"
  },
  "latex_envs": {
   "LaTeX_envs_menu_present": true,
   "autoclose": false,
   "autocomplete": true,
   "bibliofile": "biblio.bib",
   "cite_by": "apalike",
   "current_citInitial": 1,
   "eqLabelWithNumbers": true,
   "eqNumInitial": 1,
   "hotkeys": {
    "equation": "Ctrl-E",
    "itemize": "Ctrl-I"
   },
   "labels_anchors": false,
   "latex_user_defs": false,
   "report_style_numbering": false,
   "user_envs_cfg": false
  },
  "nbTranslate": {
   "displayLangs": [
    "*"
   ],
   "hotkey": "alt-t",
   "langInMainMenu": true,
   "sourceLang": "en",
   "targetLang": "fr",
   "useGoogleTranslate": true
  },
  "toc": {
   "base_numbering": 1,
   "nav_menu": {},
   "number_sections": false,
   "sideBar": true,
   "skip_h1_title": false,
   "title_cell": "Table of Contents",
   "title_sidebar": "Contents",
   "toc_cell": false,
   "toc_position": {
    "height": "calc(100% - 180px)",
    "left": "10px",
    "top": "150px",
    "width": "269.797px"
   },
   "toc_section_display": true,
   "toc_window_display": true
  }
 },
 "nbformat": 4,
 "nbformat_minor": 1
}
