{
 "cells": [
  {
   "cell_type": "markdown",
   "metadata": {
    "colab_type": "text",
    "id": "view-in-github"
   },
   "source": [
    "<a href=\"https://colab.research.google.com/github/yosarawut/notebook/blob/main/multi_class_text_classification_with_lstm.ipynb\" target=\"_parent\"><img src=\"https://colab.research.google.com/assets/colab-badge.svg\" alt=\"Open In Colab\"/></a>"
   ]
  },
  {
   "cell_type": "markdown",
   "metadata": {
    "id": "Fnx5tVUB2m83"
   },
   "source": [
    "Multi Class Text Classification with LSTM using TensorFlow 2.0\n",
    "===\n",
    "\n",
    "Recurrent Neural Networks, Long Short Term Memory\n",
    "\n",
    "- https://towardsdatascience.com/multi-class-text-classification-with-lstm-using-tensorflow-2-0-d88627c10a35"
   ]
  },
  {
   "cell_type": "code",
   "execution_count": 1,
   "metadata": {
    "ExecuteTime": {
     "end_time": "2021-02-02T14:14:33.062221Z",
     "start_time": "2021-02-02T14:14:18.504317Z"
    },
    "id": "2lidfsRH2m87"
   },
   "outputs": [
    {
     "name": "stderr",
     "output_type": "stream",
     "text": [
      "WARNING: Error parsing requirements for grpcio: [Errno 2] No such file or directory: 'c:\\\\users\\\\asus\\\\.conda\\\\envs\\\\env_ml\\\\lib\\\\site-packages\\\\grpcio-1.34.0.dist-info\\\\METADATA'\n",
      "ERROR: Could not install packages due to an EnvironmentError: [Errno 2] No such file or directory: 'c:\\\\users\\\\asus\\\\.conda\\\\envs\\\\env_ml\\\\lib\\\\site-packages\\\\grpcio-1.34.0.dist-info\\\\RECORD'\n",
      "\n"
     ]
    }
   ],
   "source": [
    "!pip install tensorflow -q"
   ]
  },
  {
   "cell_type": "code",
   "execution_count": 2,
   "metadata": {
    "ExecuteTime": {
     "end_time": "2021-02-02T14:14:38.628220Z",
     "start_time": "2021-02-02T14:14:33.066221Z"
    },
    "id": "kQhUtrh499rq"
   },
   "outputs": [
    {
     "name": "stderr",
     "output_type": "stream",
     "text": [
      "WARNING: Error parsing requirements for grpcio: [Errno 2] No such file or directory: 'c:\\\\users\\\\asus\\\\.conda\\\\envs\\\\env_ml\\\\lib\\\\site-packages\\\\grpcio-1.34.0.dist-info\\\\METADATA'\n"
     ]
    }
   ],
   "source": [
    "!pip install matplotlib -q"
   ]
  },
  {
   "cell_type": "code",
   "execution_count": null,
   "metadata": {
    "ExecuteTime": {
     "start_time": "2021-02-02T14:14:18.516Z"
    },
    "colab": {
     "base_uri": "https://localhost:8080/"
    },
    "id": "66TGumeF2m8-",
    "outputId": "f26c8fe2-867f-4b9b-ccfe-6695e7b68662"
   },
   "outputs": [
    {
     "name": "stderr",
     "output_type": "stream",
     "text": [
      "C:\\Users\\ASUS\\.conda\\envs\\env_ml\\lib\\site-packages\\tensorflow\\python\\framework\\dtypes.py:516: FutureWarning: Passing (type, 1) or '1type' as a synonym of type is deprecated; in a future version of numpy, it will be understood as (type, (1,)) / '(1,)type'.\n",
      "  _np_qint8 = np.dtype([(\"qint8\", np.int8, 1)])\n",
      "C:\\Users\\ASUS\\.conda\\envs\\env_ml\\lib\\site-packages\\tensorflow\\python\\framework\\dtypes.py:517: FutureWarning: Passing (type, 1) or '1type' as a synonym of type is deprecated; in a future version of numpy, it will be understood as (type, (1,)) / '(1,)type'.\n",
      "  _np_quint8 = np.dtype([(\"quint8\", np.uint8, 1)])\n",
      "C:\\Users\\ASUS\\.conda\\envs\\env_ml\\lib\\site-packages\\tensorflow\\python\\framework\\dtypes.py:518: FutureWarning: Passing (type, 1) or '1type' as a synonym of type is deprecated; in a future version of numpy, it will be understood as (type, (1,)) / '(1,)type'.\n",
      "  _np_qint16 = np.dtype([(\"qint16\", np.int16, 1)])\n",
      "C:\\Users\\ASUS\\.conda\\envs\\env_ml\\lib\\site-packages\\tensorflow\\python\\framework\\dtypes.py:519: FutureWarning: Passing (type, 1) or '1type' as a synonym of type is deprecated; in a future version of numpy, it will be understood as (type, (1,)) / '(1,)type'.\n",
      "  _np_quint16 = np.dtype([(\"quint16\", np.uint16, 1)])\n",
      "C:\\Users\\ASUS\\.conda\\envs\\env_ml\\lib\\site-packages\\tensorflow\\python\\framework\\dtypes.py:520: FutureWarning: Passing (type, 1) or '1type' as a synonym of type is deprecated; in a future version of numpy, it will be understood as (type, (1,)) / '(1,)type'.\n",
      "  _np_qint32 = np.dtype([(\"qint32\", np.int32, 1)])\n",
      "C:\\Users\\ASUS\\.conda\\envs\\env_ml\\lib\\site-packages\\tensorflow\\python\\framework\\dtypes.py:525: FutureWarning: Passing (type, 1) or '1type' as a synonym of type is deprecated; in a future version of numpy, it will be understood as (type, (1,)) / '(1,)type'.\n",
      "  np_resource = np.dtype([(\"resource\", np.ubyte, 1)])\n"
     ]
    }
   ],
   "source": [
    "import csv\n",
    "import tensorflow as tf\n",
    "import numpy as np\n",
    "from tensorflow.keras.preprocessing.text import Tokenizer\n",
    "from tensorflow.keras.preprocessing.sequence import pad_sequences\n",
    "import nltk\n",
    "nltk.download('stopwords')\n",
    "import pandas as pd\n",
    "from nltk.corpus import stopwords\n",
    "STOPWORDS = set(stopwords.words('english'))\n",
    "%matplotlib inline\n",
    "\n",
    "print(tf.__version__)"
   ]
  },
  {
   "cell_type": "code",
   "execution_count": null,
   "metadata": {
    "ExecuteTime": {
     "start_time": "2021-02-02T14:14:18.520Z"
    },
    "id": "lPYLwjdCPOez"
   },
   "outputs": [],
   "source": [
    "import pandas as pd\n",
    "import numpy as np\n",
    "import joblib\n",
    "from time import time\n",
    "\n",
    "\n",
    "def get_data(urls, sheets, types):\n",
    "    data = \"\"\n",
    "    t0 = time()\n",
    "    a = []\n",
    "    i = 0\n",
    "    for s in sheets:\n",
    "        s = pd.read_excel(urls, sheet_name=s)\n",
    "        s = s[[types, 'description']]\n",
    "        s['description'] = s['description'].str.lower()\n",
    "        print(len(s))\n",
    "        if i == 0:\n",
    "            data = s.copy()\n",
    "        else:\n",
    "            data = pd.concat([data, s], ignore_index=True)\n",
    "        i += 1\n",
    "    data.columns = ['target', 'data']\n",
    "    data['target'] = data['target'].apply(str)\n",
    "    load_time = time() - t0\n",
    "    print(\"Load dataset time:  %0.3fs\" % load_time)\n",
    "\n",
    "    return data"
   ]
  },
  {
   "cell_type": "code",
   "execution_count": null,
   "metadata": {
    "ExecuteTime": {
     "start_time": "2021-02-02T14:14:18.525Z"
    },
    "colab": {
     "base_uri": "https://localhost:8080/",
     "height": 427
    },
    "id": "hIbk2Q-mPYSS",
    "outputId": "abab7915-3a5f-40b9-a0b5-73f7b899221a"
   },
   "outputs": [],
   "source": [
    "t0 = time()\n",
    "urls = 'https://github.com/dragon-library/work_space/raw/main/HS_Code/Lab/data/hs_code.xlsx'\n",
    "types = 'section'\n",
    "#sheets = ['8_digit','6_digit','4_digit', 'test_01', 'Declaration_2019_10']\n",
    "sheets = ['8_digit','6_digit','4_digit', '2_digit']\n",
    "df = get_data(urls,sheets,types)\n",
    "\n",
    "print(len(df))\n",
    "df.columns = ['category', 'text']\n",
    "\n",
    "print(len(df))\n",
    "\n",
    "load_time = time() - t0\n",
    "print(\"Load data time:  %0.3fs\" % load_time)\n",
    "df.sample(10)"
   ]
  },
  {
   "cell_type": "code",
   "execution_count": null,
   "metadata": {
    "ExecuteTime": {
     "start_time": "2021-02-02T14:14:18.530Z"
    },
    "id": "38E7fIkF2m8_"
   },
   "outputs": [],
   "source": [
    "vocab_size = 5000\n",
    "embedding_dim = 64\n",
    "max_length = 200\n",
    "trunc_type = 'post'\n",
    "padding_type = 'post'\n",
    "oov_tok = '<OOV>'\n",
    "training_portion = .8"
   ]
  },
  {
   "cell_type": "code",
   "execution_count": null,
   "metadata": {
    "ExecuteTime": {
     "start_time": "2021-02-02T14:14:18.535Z"
    },
    "id": "QEsXtLS7RWkP"
   },
   "outputs": [],
   "source": [
    "labels = df.category\n",
    "articles = df.text"
   ]
  },
  {
   "cell_type": "code",
   "execution_count": null,
   "metadata": {
    "ExecuteTime": {
     "start_time": "2021-02-02T14:14:18.538Z"
    },
    "colab": {
     "base_uri": "https://localhost:8080/"
    },
    "id": "BeizbrDM2m8_",
    "outputId": "481e14a5-6eb0-4b67-8c92-469122bfb426"
   },
   "outputs": [],
   "source": [
    "train_size = int(len(articles) * training_portion)\n",
    "\n",
    "train_articles = articles[0: train_size]\n",
    "train_labels = labels[0: train_size]\n",
    "\n",
    "validation_articles = articles[train_size:]\n",
    "validation_labels = labels[train_size:]\n",
    "\n",
    "print(train_size)\n",
    "print(len(train_articles))\n",
    "print(len(train_labels))\n",
    "print(len(validation_articles))\n",
    "print(len(validation_labels))"
   ]
  },
  {
   "cell_type": "code",
   "execution_count": null,
   "metadata": {
    "ExecuteTime": {
     "start_time": "2021-02-02T14:14:18.543Z"
    },
    "colab": {
     "base_uri": "https://localhost:8080/"
    },
    "id": "eeWD5oVe2m8_",
    "outputId": "44d52912-d322-4e6b-ae1f-0f549c001ee7"
   },
   "outputs": [],
   "source": [
    "tokenizer = Tokenizer(num_words = vocab_size, oov_token=oov_tok)\n",
    "tokenizer.fit_on_texts(train_articles)\n",
    "word_index = tokenizer.word_index\n",
    "dict(list(word_index.items())[0:10])"
   ]
  },
  {
   "cell_type": "code",
   "execution_count": null,
   "metadata": {
    "ExecuteTime": {
     "start_time": "2021-02-02T14:14:18.547Z"
    },
    "colab": {
     "base_uri": "https://localhost:8080/"
    },
    "id": "Qtx1PoAW2m8_",
    "outputId": "ad396a09-783a-406b-e4fb-520591f6fe96"
   },
   "outputs": [],
   "source": [
    "train_sequences = tokenizer.texts_to_sequences(train_articles)\n",
    "print(train_sequences[10])"
   ]
  },
  {
   "cell_type": "code",
   "execution_count": null,
   "metadata": {
    "ExecuteTime": {
     "start_time": "2021-02-02T14:14:18.550Z"
    },
    "colab": {
     "base_uri": "https://localhost:8080/"
    },
    "id": "gVQXONnr2m8_",
    "outputId": "502eb4a8-1fc6-45a9-fd53-895c246c7692"
   },
   "outputs": [],
   "source": [
    "train_padded = pad_sequences(train_sequences, maxlen=max_length, padding=padding_type, truncating=trunc_type)\n",
    "print(len(train_sequences[0]))\n",
    "print(len(train_padded[0]))\n",
    "\n",
    "print(len(train_sequences[1]))\n",
    "print(len(train_padded[1]))\n",
    "\n",
    "print(len(train_sequences[10]))\n",
    "print(len(train_padded[10]))"
   ]
  },
  {
   "cell_type": "code",
   "execution_count": null,
   "metadata": {
    "ExecuteTime": {
     "start_time": "2021-02-02T14:14:18.554Z"
    },
    "colab": {
     "base_uri": "https://localhost:8080/"
    },
    "id": "f1_HfalA2m8_",
    "outputId": "9cbcb763-ef50-4eb0-e2dc-908223082dad"
   },
   "outputs": [],
   "source": [
    "print(train_padded[10])"
   ]
  },
  {
   "cell_type": "code",
   "execution_count": null,
   "metadata": {
    "ExecuteTime": {
     "start_time": "2021-02-02T14:14:18.559Z"
    },
    "colab": {
     "base_uri": "https://localhost:8080/"
    },
    "id": "N-3SjygY2m8_",
    "outputId": "405976a0-e0e5-4de8-8fd9-9203eb2ef435"
   },
   "outputs": [],
   "source": [
    "validation_sequences = tokenizer.texts_to_sequences(validation_articles)\n",
    "validation_padded = pad_sequences(validation_sequences, maxlen=max_length, padding=padding_type, truncating=trunc_type)\n",
    "\n",
    "print(len(validation_sequences))\n",
    "print(validation_padded.shape)"
   ]
  },
  {
   "cell_type": "code",
   "execution_count": null,
   "metadata": {
    "ExecuteTime": {
     "start_time": "2021-02-02T14:14:18.563Z"
    },
    "colab": {
     "base_uri": "https://localhost:8080/"
    },
    "id": "efwDgV3r2m8_",
    "outputId": "1d24e321-5bc0-4aca-ca1f-8a8aa231f488"
   },
   "outputs": [],
   "source": [
    "label_tokenizer = Tokenizer()\n",
    "label_tokenizer.fit_on_texts(labels)\n",
    "\n",
    "training_label_seq = np.array(label_tokenizer.texts_to_sequences(train_labels))\n",
    "validation_label_seq = np.array(label_tokenizer.texts_to_sequences(validation_labels))\n",
    "print(training_label_seq[0])\n",
    "print(training_label_seq[1])\n",
    "print(training_label_seq[2])\n",
    "print(training_label_seq.shape)\n",
    "\n",
    "print(validation_label_seq[0])\n",
    "print(validation_label_seq[1])\n",
    "print(validation_label_seq[2])\n",
    "print(validation_label_seq.shape)"
   ]
  },
  {
   "cell_type": "code",
   "execution_count": null,
   "metadata": {
    "ExecuteTime": {
     "start_time": "2021-02-02T14:14:18.568Z"
    },
    "colab": {
     "base_uri": "https://localhost:8080/"
    },
    "id": "zslzyWW32m9A",
    "outputId": "e760a804-4f99-480b-bc2f-a967e874d008"
   },
   "outputs": [],
   "source": [
    "reverse_word_index = dict([(value, key) for (key, value) in word_index.items()])\n",
    "\n",
    "def decode_article(text):\n",
    "    return ' '.join([reverse_word_index.get(i, '?') for i in text])\n",
    "print(decode_article(train_padded[10]))\n",
    "print('---')\n",
    "print(train_articles[10])"
   ]
  },
  {
   "cell_type": "code",
   "execution_count": null,
   "metadata": {
    "ExecuteTime": {
     "start_time": "2021-02-02T14:14:18.572Z"
    },
    "colab": {
     "base_uri": "https://localhost:8080/"
    },
    "id": "2JNawmyh2m9A",
    "outputId": "f9d68069-2627-4923-cc98-84e3605b8984"
   },
   "outputs": [],
   "source": [
    "model = tf.keras.Sequential([\n",
    "    # Add an Embedding layer expecting input vocab of size 5000, and output embedding dimension of size 64 we set at the top\n",
    "    tf.keras.layers.Embedding(vocab_size, embedding_dim),\n",
    "    tf.keras.layers.Bidirectional(tf.keras.layers.LSTM(embedding_dim)),\n",
    "#    tf.keras.layers.Bidirectional(tf.keras.layers.LSTM(32)),\n",
    "    # use ReLU in place of tanh function since they are very good alternatives of each other.\n",
    "    tf.keras.layers.Dense(embedding_dim, activation='relu'),\n",
    "    # Add a Dense layer with 6 units and softmax activation.\n",
    "    # When we have multiple outputs, softmax convert outputs layers into a probability distribution.\n",
    "    tf.keras.layers.Dense(32, activation='softmax')\n",
    "])\n",
    "model.summary()"
   ]
  },
  {
   "cell_type": "code",
   "execution_count": null,
   "metadata": {
    "ExecuteTime": {
     "start_time": "2021-02-02T14:14:18.576Z"
    },
    "colab": {
     "base_uri": "https://localhost:8080/"
    },
    "id": "BG20wv1n2m9A",
    "outputId": "b8199afb-efc9-491e-aa2c-8f24ef993e81"
   },
   "outputs": [],
   "source": [
    "print(set(labels))"
   ]
  },
  {
   "cell_type": "code",
   "execution_count": null,
   "metadata": {
    "ExecuteTime": {
     "start_time": "2021-02-02T14:14:18.580Z"
    },
    "colab": {
     "base_uri": "https://localhost:8080/"
    },
    "id": "HigYTD0V2m9A",
    "outputId": "6bc53f2c-2059-401c-a1f2-161edfed090b"
   },
   "outputs": [],
   "source": [
    "model.compile(loss='sparse_categorical_crossentropy', optimizer='adam', metrics=['accuracy'])\n",
    "num_epochs = 5\n",
    "history = model.fit(train_padded, training_label_seq, epochs=num_epochs, validation_data=(validation_padded, validation_label_seq), verbose=2)"
   ]
  },
  {
   "cell_type": "code",
   "execution_count": null,
   "metadata": {
    "ExecuteTime": {
     "start_time": "2021-02-02T14:14:18.584Z"
    },
    "colab": {
     "base_uri": "https://localhost:8080/"
    },
    "id": "oOJdZ8bv2m9A",
    "outputId": "b59bc528-6fc4-4bb7-ff75-1ba651ddcf28"
   },
   "outputs": [],
   "source": [
    "import matplotlib.pyplot as plt\n",
    "\n",
    "def plot_graphs(history, string):\n",
    "    plt.plot(history.history[string])\n",
    "    plt.plot(history.history['val_'+string])\n",
    "    plt.xlabel(\"Epochs\")\n",
    "    plt.ylabel(string)\n",
    "    plt.legend([string, 'val_'+string])\n",
    "    plt.show()\n",
    "\n",
    "plot_graphs(history, \"accuracy\")\n",
    "plot_graphs(history, \"loss\")"
   ]
  },
  {
   "cell_type": "markdown",
   "metadata": {},
   "source": [
    "## Save Model"
   ]
  },
  {
   "cell_type": "code",
   "execution_count": null,
   "metadata": {
    "ExecuteTime": {
     "start_time": "2021-02-02T14:14:18.698Z"
    },
    "colab": {
     "base_uri": "https://localhost:8080/",
     "height": 324
    },
    "id": "6D-p-RCF3uPT",
    "outputId": "28a8ad1a-9663-4d6d-eee6-318aa3b96bca"
   },
   "outputs": [],
   "source": [
    " #save the model\n",
    "print(\"Save Model\")\n",
    "\n",
    "joblib.dump(model, 'data/new_model/model_section.pkl', compress=1)\n",
    "print(\"Create Model.. success\")"
   ]
  },
  {
   "cell_type": "code",
   "execution_count": null,
   "metadata": {
    "id": "RQBY--nv2m9A"
   },
   "outputs": [],
   "source": []
  }
 ],
 "metadata": {
  "colab": {
   "collapsed_sections": [],
   "include_colab_link": true,
   "name": "test-multi-class-text-classification-with-lstm.ipynb",
   "provenance": [],
   "toc_visible": true
  },
  "hide_input": false,
  "kernelspec": {
   "display_name": "env_ml",
   "language": "python",
   "name": "env_ml"
  },
  "language_info": {
   "codemirror_mode": {
    "name": "ipython",
    "version": 3
   },
   "file_extension": ".py",
   "mimetype": "text/x-python",
   "name": "python",
   "nbconvert_exporter": "python",
   "pygments_lexer": "ipython3",
   "version": "3.6.12"
  },
  "latex_envs": {
   "LaTeX_envs_menu_present": true,
   "autoclose": false,
   "autocomplete": true,
   "bibliofile": "biblio.bib",
   "cite_by": "apalike",
   "current_citInitial": 1,
   "eqLabelWithNumbers": true,
   "eqNumInitial": 1,
   "hotkeys": {
    "equation": "Ctrl-E",
    "itemize": "Ctrl-I"
   },
   "labels_anchors": false,
   "latex_user_defs": false,
   "report_style_numbering": false,
   "user_envs_cfg": false
  },
  "nbTranslate": {
   "displayLangs": [
    "*"
   ],
   "hotkey": "alt-t",
   "langInMainMenu": true,
   "sourceLang": "en",
   "targetLang": "fr",
   "useGoogleTranslate": true
  },
  "toc": {
   "base_numbering": 1,
   "nav_menu": {},
   "number_sections": false,
   "sideBar": true,
   "skip_h1_title": false,
   "title_cell": "Table of Contents",
   "title_sidebar": "Contents",
   "toc_cell": false,
   "toc_position": {
    "height": "calc(100% - 180px)",
    "left": "10px",
    "top": "150px",
    "width": "269.797px"
   },
   "toc_section_display": true,
   "toc_window_display": true
  }
 },
 "nbformat": 4,
 "nbformat_minor": 1
}
