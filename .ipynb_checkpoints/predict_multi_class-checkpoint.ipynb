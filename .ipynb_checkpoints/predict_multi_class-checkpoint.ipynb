{
 "cells": [
  {
   "cell_type": "markdown",
   "metadata": {
    "colab_type": "text",
    "id": "view-in-github"
   },
   "source": [
    "<a href=\"https://colab.research.google.com/github/yosarawut/notebook/blob/main/predict_multi_class.ipynb\" target=\"_parent\"><img src=\"https://colab.research.google.com/assets/colab-badge.svg\" alt=\"Open In Colab\"/></a>"
   ]
  },
  {
   "cell_type": "markdown",
   "metadata": {
    "id": "3Iw559W7cPCL"
   },
   "source": [
    "ทดสอบการ Predict จากข้อมูลใบขนสินค้าจากระบบ\n",
    "==="
   ]
  },
  {
   "cell_type": "code",
   "execution_count": null,
   "metadata": {
    "colab": {
     "base_uri": "https://localhost:8080/"
    },
    "id": "mnBeHp-ErwGU",
    "outputId": "0c444ea0-2977-4820-cc31-a82ed070a8a1"
   },
   "outputs": [
    {
     "name": "stdout",
     "output_type": "stream",
     "text": [
      "/bin/bash: -c: line 0: syntax error near unexpected token `('\n",
      "/bin/bash: -c: line 0: `pip install  time()'\n"
     ]
    }
   ],
   "source": [
    "!pip install  time()"
   ]
  },
  {
   "cell_type": "code",
   "execution_count": null,
   "metadata": {
    "id": "zV5aOYrib47I"
   },
   "outputs": [],
   "source": [
    "import pandas as pd\n",
    "import numpy as np\n",
    "from time import time\n",
    "from sklearn.pipeline import Pipeline\n",
    "from sklearn.feature_extraction.text import CountVectorizer\n",
    "from sklearn.svm import LinearSVC\n",
    "from sklearn.feature_extraction.text import TfidfTransformer\n",
    "from sklearn.multiclass import OneVsRestClassifier\n",
    "\n",
    "\n",
    "urls = 'https://github.com/dragon-library/work_space/raw/main/HS_Code/Lab/data/hs_code.xlsx'\n",
    "#urls = 'data/hs_code.xlsx'\n",
    "types = 'section'\n",
    "#types = \"chapter\"\n",
    "\n",
    "def get_master(sheets,types = 'section'):\n",
    "    data = pd.read_excel(urls,sheet_name= sheets)\n",
    "    data[types] = data[types].map('{:02}'.format)\n",
    "    data = data[[types,'description']]\n",
    "    data['description'] = data['description'].str.lower()\n",
    " #   data = data.rename(columns={'heading' : 'target', 'product_desc' : 'question_text'})\n",
    "     \n",
    "\n",
    "    return data\n",
    "\n",
    "def manage_data(df):\n",
    "    df.columns = ['target', 'data']   \n",
    "    \n",
    "    \n",
    "    return df"
   ]
  },
  {
   "cell_type": "code",
   "execution_count": null,
   "metadata": {
    "colab": {
     "base_uri": "https://localhost:8080/"
    },
    "id": "w9epw-NvcX7z",
    "outputId": "2e101a22-95d6-461e-d33f-c152ab88980a"
   },
   "outputs": [
    {
     "name": "stdout",
     "output_type": "stream",
     "text": [
      "Load the dataset: Section\n",
      "Load dataset time:  69.345s\n",
      "49137\n",
      "CPU times: user 1min 4s, sys: 378 ms, total: 1min 4s\n",
      "Wall time: 1min 9s\n"
     ]
    }
   ],
   "source": [
    "%%time\n",
    "types = \"section\"\n",
    "#types = \"chapter\"\n",
    "\n",
    "print(\"Load the dataset: Section\")\n",
    "\n",
    "t0 = time()\n",
    "\n",
    "sheets = '8_digit'\n",
    "eights = get_master(sheets,types)\n",
    "sheets = '6_digit'\n",
    "sixs = get_master(sheets,types)\n",
    "sheets = '4_digit'\n",
    "fours = get_master(sheets,types)\n",
    "sheets = '2_digit'\n",
    "twos = get_master(sheets,types)\n",
    "\n",
    "sheets = 'test_01'\n",
    "ex_data = get_master(sheets,types)\n",
    "\n",
    "sheets = 'Declaration_2019_10'\n",
    "tests = get_master(sheets,types)\n",
    "\n",
    "data = pd.concat([eights,sixs,fours,twos,ex_data,tests], ignore_index=True)\n",
    "twenty_train = manage_data(data)\n",
    "\n",
    "\n",
    "\n",
    "load_time = time() - t0\n",
    "print(\"Load dataset time:  %0.3fs\" % load_time)\n",
    "\n",
    "print(len(twenty_train))\n",
    "\n",
    "twenty_train.head()"
   ]
  },
  {
   "cell_type": "code",
   "execution_count": null,
   "metadata": {
    "colab": {
     "base_uri": "https://localhost:8080/"
    },
    "id": "pdNbe004cw5f",
    "outputId": "8be25e15-541d-463a-91cc-e9f59cfa838b"
   },
   "outputs": [
    {
     "data": {
      "text/plain": [
       "Counter({'00': 1,\n",
       "         '01': 1721,\n",
       "         '02': 1487,\n",
       "         '03': 327,\n",
       "         '04': 2208,\n",
       "         '05': 691,\n",
       "         '06': 5045,\n",
       "         '07': 2868,\n",
       "         '08': 483,\n",
       "         '09': 745,\n",
       "         '10': 901,\n",
       "         '11': 4048,\n",
       "         '12': 394,\n",
       "         '13': 992,\n",
       "         '14': 590,\n",
       "         '15': 10406,\n",
       "         '16': 8452,\n",
       "         '17': 5134,\n",
       "         '18': 1470,\n",
       "         '19': 89,\n",
       "         '20': 1053,\n",
       "         '21': 33})"
      ]
     },
     "execution_count": 3,
     "metadata": {
      "tags": []
     },
     "output_type": "execute_result"
    }
   ],
   "source": [
    "from collections import Counter\n",
    "Counter(twenty_train[\"target\"])"
   ]
  },
  {
   "cell_type": "code",
   "execution_count": null,
   "metadata": {
    "id": "z2TW_yxjcw_u"
   },
   "outputs": [],
   "source": [
    "import re \n",
    "def clean_str(string):\n",
    "    \"\"\"\n",
    "    Tokenization/string cleaning for dataset\n",
    "    Every dataset is lower cased except\n",
    "    \"\"\"\n",
    "    string = re.sub(r\"\\n\", \"\", string)    \n",
    "    string = re.sub(r\"\\r\", \"\", string) \n",
    "    string = re.sub(r\"[0-9]\", \"digit\", string)\n",
    "    string = re.sub(r\"\\'\", \"\", string)    \n",
    "    string = re.sub(r\"\\\"\", \"\", string)    \n",
    "    return string.strip().lower()"
   ]
  },
  {
   "cell_type": "code",
   "execution_count": null,
   "metadata": {
    "colab": {
     "base_uri": "https://localhost:8080/"
    },
    "id": "bUFT4_y2cxFC",
    "outputId": "3b730337-cf87-4e15-ae0c-5e37a66a3aea"
   },
   "outputs": [
    {
     "name": "stdout",
     "output_type": "stream",
     "text": [
      "train test split dataset\n"
     ]
    }
   ],
   "source": [
    "print(\"train test split dataset\")\n",
    "#train test split\n",
    "df = twenty_train.copy()\n",
    "from sklearn.model_selection import train_test_split\n",
    "X = []\n",
    "for i in range(df.shape[0]):\n",
    "    X.append(clean_str(df.iloc[i][1]))\n",
    "y = np.array(df[\"target\"])\n",
    "X_train, X_test, y_train, y_test = train_test_split(X, y, test_size=0.3, random_state=5)"
   ]
  },
  {
   "cell_type": "code",
   "execution_count": null,
   "metadata": {
    "colab": {
     "base_uri": "https://localhost:8080/"
    },
    "id": "abF1sb6DcxIH",
    "outputId": "61df516d-0a9b-4c3f-b0a8-e839f25b597f"
   },
   "outputs": [
    {
     "name": "stdout",
     "output_type": "stream",
     "text": [
      "Training: \n",
      "paramater selection\n"
     ]
    },
    {
     "name": "stderr",
     "output_type": "stream",
     "text": [
      "/usr/local/lib/python3.6/dist-packages/sklearn/model_selection/_split.py:667: UserWarning: The least populated class in y has only 1 members, which is less than n_splits=5.\n",
      "  % (min_groups, self.n_splits)), UserWarning)\n",
      "/usr/local/lib/python3.6/dist-packages/sklearn/svm/_base.py:947: ConvergenceWarning: Liblinear failed to converge, increase the number of iterations.\n",
      "  \"the number of iterations.\", ConvergenceWarning)\n"
     ]
    },
    {
     "name": "stdout",
     "output_type": "stream",
     "text": [
      "0.8787668028484148\n",
      "{'tfidf__use_idf': True, 'vectorizer__ngram_range': (1, 2)}\n"
     ]
    }
   ],
   "source": [
    "#feature engineering and model selection\n",
    "from sklearn.svm import LinearSVC\n",
    "from sklearn.linear_model import LogisticRegression\n",
    "from sklearn.ensemble import RandomForestClassifier\n",
    "\n",
    "print(\"Training: \")\n",
    "\n",
    "#pipeline of feature engineering and model\n",
    "t0 = time()\n",
    "model = Pipeline([('vectorizer', CountVectorizer()),\n",
    "    ('tfidf', TfidfTransformer()),\n",
    "    ('clf', OneVsRestClassifier(LinearSVC(class_weight=\"balanced\")))])\n",
    "\n",
    "print(\"paramater selection\")\n",
    "#paramater selection\n",
    "from sklearn.model_selection import GridSearchCV\n",
    "parameters = {'vectorizer__ngram_range': [(1, 1), (1, 2),(2,2)],\n",
    "               'tfidf__use_idf': (True, False)}\n",
    "\n",
    "gs_clf_svm = GridSearchCV(model, parameters, n_jobs=-1)\n",
    "gs_clf_svm = gs_clf_svm.fit(X, y)\n",
    "print(gs_clf_svm.best_score_)\n",
    "print(gs_clf_svm.best_params_)"
   ]
  },
  {
   "cell_type": "code",
   "execution_count": null,
   "metadata": {
    "colab": {
     "base_uri": "https://localhost:8080/"
    },
    "id": "qrKWDhNccxMP",
    "outputId": "99f120b0-218d-4a0d-d147-0e53903a307e"
   },
   "outputs": [
    {
     "name": "stdout",
     "output_type": "stream",
     "text": [
      "preparing the final pipeline using the selected parameters\n",
      "fit model with training data\n"
     ]
    },
    {
     "name": "stderr",
     "output_type": "stream",
     "text": [
      "/usr/local/lib/python3.6/dist-packages/sklearn/svm/_base.py:947: ConvergenceWarning: Liblinear failed to converge, increase the number of iterations.\n",
      "  \"the number of iterations.\", ConvergenceWarning)\n"
     ]
    },
    {
     "name": "stdout",
     "output_type": "stream",
     "text": [
      "train time: 677.113s\n",
      "test time:  0.420s\n",
      " Target \n",
      "  ['00' '01' '02' '03' '04' '05' '06' '07' '08' '09' '10' '11' '12' '13'\n",
      " '14' '15' '16' '17' '18' '19' '20' '21']\n"
     ]
    }
   ],
   "source": [
    "#preparing the final pipeline using the selected parameters\n",
    "%%time\n",
    "print(\"preparing the final pipeline using the selected parameters\")\n",
    "model = Pipeline([('vectorizer', CountVectorizer(ngram_range=(1,2))),\n",
    "    ('tfidf', TfidfTransformer(use_idf=True)),\n",
    "    ('clf', OneVsRestClassifier(LinearSVC(class_weight=\"balanced\")))])\n",
    "\n",
    "#fit model with training data\n",
    "print(\"fit model with training data\")\n",
    "model.fit(X_train, y_train)\n",
    "train_time = time() - t0\n",
    "print(\"train time: %0.3fs\" % train_time)\n",
    "\n",
    "#evaluation on test data\n",
    "t0 = time()\n",
    "pred = model.predict(X_test)\n",
    "test_time = time() - t0\n",
    "print(\"test time:  %0.3fs\" % test_time)\n",
    "print(\" Target \\n \", model.classes_)"
   ]
  },
  {
   "cell_type": "code",
   "execution_count": null,
   "metadata": {
    "colab": {
     "base_uri": "https://localhost:8080/"
    },
    "id": "O0x4Vb-JcxRn",
    "outputId": "6c205b55-729f-4373-adb4-57635ad81091"
   },
   "outputs": [
    {
     "data": {
      "text/plain": [
       "array([[ 513,    1,    1,    1,    0,    2,    0,    0,    0,    0,    0,\n",
       "           0,    0,    0,    0,    0,    0,    0,    0,    0,    0],\n",
       "       [   0,  456,    0,    3,    0,    0,    0,    0,    0,    0,    0,\n",
       "           0,    0,    0,    0,    0,    0,    0,    0,    0,    0],\n",
       "       [   0,    0,   89,    1,    0,    0,    0,    0,    0,    0,    0,\n",
       "           0,    0,    0,    0,    0,    0,    0,    0,    0,    0],\n",
       "       [   1,    2,    3,  630,    0,    9,    1,    0,    1,    0,    1,\n",
       "           0,    0,    1,    4,    6,    2,    1,    0,    1,    0],\n",
       "       [   0,    0,    0,    1,  196,    1,    0,    0,    0,    0,    0,\n",
       "           0,    1,    0,    0,    0,    1,    0,    0,    1,    0],\n",
       "       [   1,    2,    2,   13,    4, 1453,    9,    0,    0,    3,    4,\n",
       "           0,    0,    2,   10,   18,    3,    6,    0,    1,    0],\n",
       "       [   1,    0,    0,    0,    0,    7,  737,    1,    1,    0,    3,\n",
       "           1,    1,    0,   11,   21,   37,    7,    0,    3,    0],\n",
       "       [   0,    0,    0,    0,    0,    0,    0,  143,    0,    0,    1,\n",
       "           1,    0,    0,    1,    0,    0,    0,    0,    0,    0],\n",
       "       [   0,    0,    0,    0,    0,    0,    1,    0,  217,    0,    1,\n",
       "           0,    0,    0,    0,    1,    0,    0,    0,    1,    0],\n",
       "       [   0,    0,    0,    1,    0,    4,    3,    0,    1,  254,    1,\n",
       "           0,    0,    1,    2,    5,    1,    4,    0,    0,    0],\n",
       "       [   0,    0,    0,    0,    0,    0,    0,    1,    0,    4, 1189,\n",
       "           0,    0,    0,    0,    1,    2,    0,    0,    2,    0],\n",
       "       [   1,    0,    0,    0,    0,    0,    2,    2,    0,    0,    1,\n",
       "         134,    0,    3,    0,    0,    1,    1,    0,    2,    0],\n",
       "       [   0,    0,    0,    0,    1,    3,    5,    0,    1,    2,    0,\n",
       "           0,  291,    2,    6,    4,    7,    0,    0,    1,    0],\n",
       "       [   0,    0,    0,    1,    0,    0,    0,    0,    0,    1,    2,\n",
       "           0,    1,  165,    2,    3,    1,    0,    0,    3,    0],\n",
       "       [   0,    0,    0,    1,    1,   15,    9,    0,    1,    2,    0,\n",
       "           2,    2,    2, 2915,   23,   35,    2,    0,    3,    0],\n",
       "       [   1,    1,    0,    2,    4,   36,   49,    3,    0,   11,    7,\n",
       "           0,    0,    4,   50, 2348,   66,   33,    0,    5,    0],\n",
       "       [   0,    0,    0,    0,    1,    2,   55,    1,    1,    1,    0,\n",
       "           1,    7,    1,   74,   71, 1339,   10,    0,    6,    0],\n",
       "       [   0,    0,    0,    0,    0,    0,    3,    1,    0,    1,    0,\n",
       "           1,    0,    1,    3,   11,    6,  380,    0,    0,    0],\n",
       "       [   0,    0,    0,    0,    0,    0,    0,    0,    0,    0,    0,\n",
       "           0,    0,    0,    0,    0,    0,    1,   19,    0,    0],\n",
       "       [   0,    0,    0,    0,    0,    1,    4,    2,    2,    0,    3,\n",
       "           0,    1,    3,    4,    2,    2,    1,    0,  288,    0],\n",
       "       [   0,    0,    0,    0,    0,    0,    0,    0,    0,    0,    0,\n",
       "           0,    0,    0,    0,    2,    1,    0,    0,    0,   11]])"
      ]
     },
     "execution_count": 8,
     "metadata": {
      "tags": []
     },
     "output_type": "execute_result"
    }
   ],
   "source": [
    "from sklearn.metrics import confusion_matrix, accuracy_score\n",
    "confusion_matrix(pred, y_test)"
   ]
  },
  {
   "cell_type": "code",
   "execution_count": null,
   "metadata": {
    "colab": {
     "base_uri": "https://localhost:8080/"
    },
    "id": "A3s58KWOcxUa",
    "outputId": "cd162961-a53f-456d-c074-155522fa538d"
   },
   "outputs": [
    {
     "data": {
      "text/plain": [
       "0.9338624338624338"
      ]
     },
     "execution_count": 9,
     "metadata": {
      "tags": []
     },
     "output_type": "execute_result"
    }
   ],
   "source": [
    "## เริ่ีม predict\n",
    "\n",
    "accuracy_score(y_test, pred)"
   ]
  },
  {
   "cell_type": "code",
   "execution_count": null,
   "metadata": {
    "colab": {
     "base_uri": "https://localhost:8080/"
    },
    "id": "mOmxnfHJhvDY",
    "outputId": "e12e7a30-fbd7-4b7c-df14-d83b17ec63d1"
   },
   "outputs": [
    {
     "name": "stdout",
     "output_type": "stream",
     "text": [
      "              precision    recall  f1-score   support\n",
      "\n",
      "          01       0.99      0.99      0.99       518\n",
      "          02       0.99      0.99      0.99       462\n",
      "          03       0.99      0.94      0.96        95\n",
      "          04       0.95      0.96      0.96       654\n",
      "          05       0.98      0.95      0.96       207\n",
      "          06       0.95      0.95      0.95      1533\n",
      "          07       0.89      0.84      0.86       878\n",
      "          08       0.98      0.93      0.95       154\n",
      "          09       0.98      0.96      0.97       225\n",
      "          10       0.92      0.91      0.91       279\n",
      "          11       0.99      0.98      0.99      1213\n",
      "          12       0.91      0.96      0.93       140\n",
      "          13       0.90      0.96      0.93       304\n",
      "          14       0.92      0.89      0.91       185\n",
      "          15       0.97      0.95      0.96      3082\n",
      "          16       0.90      0.93      0.91      2516\n",
      "          17       0.85      0.89      0.87      1504\n",
      "          18       0.93      0.85      0.89       446\n",
      "          19       0.95      1.00      0.97        19\n",
      "          20       0.92      0.91      0.91       317\n",
      "          21       0.79      1.00      0.88        11\n",
      "\n",
      "    accuracy                           0.93     14742\n",
      "   macro avg       0.94      0.94      0.94     14742\n",
      "weighted avg       0.93      0.93      0.93     14742\n",
      "\n"
     ]
    }
   ],
   "source": [
    "from sklearn.metrics import classification_report\n",
    "print(classification_report(y_test, pred))"
   ]
  },
  {
   "cell_type": "code",
   "execution_count": null,
   "metadata": {
    "id": "vDGInS1N-leR"
   },
   "outputs": [],
   "source": []
  },
  {
   "cell_type": "code",
   "execution_count": null,
   "metadata": {
    "id": "GxF81g1ThvIo"
   },
   "outputs": [],
   "source": [
    "#save the model\n",
    "print(\"Save Model\")\n",
    "import joblib\n",
    "#joblib.dump(model, 'model_section.pkl', compress=1)"
   ]
  },
  {
   "cell_type": "code",
   "execution_count": null,
   "metadata": {
    "id": "sZLadkBNhvOh"
   },
   "outputs": [],
   "source": []
  },
  {
   "cell_type": "code",
   "execution_count": null,
   "metadata": {
    "id": "8PFHzASqhvRJ"
   },
   "outputs": [],
   "source": []
  }
 ],
 "metadata": {
  "colab": {
   "authorship_tag": "ABX9TyPUyHFxV+3vE/UqKYeNgw1N",
   "collapsed_sections": [],
   "include_colab_link": true,
   "name": "test_predict_multi_class.ipynb",
   "provenance": []
  },
  "hide_input": false,
  "kernelspec": {
   "display_name": "Python 3",
   "language": "python",
   "name": "python3"
  },
  "language_info": {
   "codemirror_mode": {
    "name": "ipython",
    "version": 3
   },
   "file_extension": ".py",
   "mimetype": "text/x-python",
   "name": "python",
   "nbconvert_exporter": "python",
   "pygments_lexer": "ipython3",
   "version": "3.8.6"
  },
  "latex_envs": {
   "LaTeX_envs_menu_present": true,
   "autoclose": false,
   "autocomplete": true,
   "bibliofile": "biblio.bib",
   "cite_by": "apalike",
   "current_citInitial": 1,
   "eqLabelWithNumbers": true,
   "eqNumInitial": 1,
   "hotkeys": {
    "equation": "Ctrl-E",
    "itemize": "Ctrl-I"
   },
   "labels_anchors": false,
   "latex_user_defs": false,
   "report_style_numbering": false,
   "user_envs_cfg": false
  },
  "toc": {
   "base_numbering": 1,
   "nav_menu": {},
   "number_sections": false,
   "sideBar": true,
   "skip_h1_title": false,
   "title_cell": "Table of Contents",
   "title_sidebar": "Contents",
   "toc_cell": false,
   "toc_position": {},
   "toc_section_display": true,
   "toc_window_display": false
  }
 },
 "nbformat": 4,
 "nbformat_minor": 1
}
