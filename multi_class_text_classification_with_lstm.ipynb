{
 "cells": [
  {
   "cell_type": "markdown",
   "metadata": {
    "colab_type": "text",
    "id": "view-in-github"
   },
   "source": [
    "<a href=\"https://colab.research.google.com/github/yosarawut/notebook/blob/main/multi_class_text_classification_with_lstm.ipynb\" target=\"_parent\"><img src=\"https://colab.research.google.com/assets/colab-badge.svg\" alt=\"Open In Colab\"/></a>"
   ]
  },
  {
   "cell_type": "markdown",
   "metadata": {
    "id": "Fnx5tVUB2m83"
   },
   "source": [
    "Multi Class Text Classification with LSTM using TensorFlow 2.0\n",
    "===\n",
    "\n",
    "Recurrent Neural Networks, Long Short Term Memory\n",
    "\n",
    "- https://towardsdatascience.com/multi-class-text-classification-with-lstm-using-tensorflow-2-0-d88627c10a35"
   ]
  },
  {
   "cell_type": "code",
   "execution_count": 1,
   "metadata": {
    "ExecuteTime": {
     "end_time": "2021-02-02T14:14:33.062221Z",
     "start_time": "2021-02-02T14:14:18.504317Z"
    },
    "id": "2lidfsRH2m87"
   },
   "outputs": [
    {
     "name": "stderr",
     "output_type": "stream",
     "text": [
      "WARNING: Error parsing requirements for grpcio: [Errno 2] No such file or directory: 'c:\\\\users\\\\asus\\\\.conda\\\\envs\\\\env_ml\\\\lib\\\\site-packages\\\\grpcio-1.34.0.dist-info\\\\METADATA'\n",
      "ERROR: Could not install packages due to an EnvironmentError: [Errno 2] No such file or directory: 'c:\\\\users\\\\asus\\\\.conda\\\\envs\\\\env_ml\\\\lib\\\\site-packages\\\\grpcio-1.34.0.dist-info\\\\RECORD'\n",
      "\n"
     ]
    }
   ],
   "source": [
    "!pip install tensorflow -q"
   ]
  },
  {
   "cell_type": "code",
   "execution_count": 2,
   "metadata": {
    "ExecuteTime": {
     "end_time": "2021-02-02T14:14:38.628220Z",
     "start_time": "2021-02-02T14:14:33.066221Z"
    },
    "id": "kQhUtrh499rq"
   },
   "outputs": [
    {
     "name": "stderr",
     "output_type": "stream",
     "text": [
      "WARNING: Error parsing requirements for grpcio: [Errno 2] No such file or directory: 'c:\\\\users\\\\asus\\\\.conda\\\\envs\\\\env_ml\\\\lib\\\\site-packages\\\\grpcio-1.34.0.dist-info\\\\METADATA'\n"
     ]
    }
   ],
   "source": [
    "!pip install matplotlib -q"
   ]
  },
  {
   "cell_type": "code",
   "execution_count": 1,
   "metadata": {
    "ExecuteTime": {
     "end_time": "2021-02-02T14:20:18.164041Z",
     "start_time": "2021-02-02T14:20:13.269553Z"
    }
   },
   "outputs": [
    {
     "name": "stderr",
     "output_type": "stream",
     "text": [
      "WARNING: Error parsing requirements for grpcio: [Errno 2] No such file or directory: 'c:\\\\users\\\\asus\\\\.conda\\\\envs\\\\env_ml\\\\lib\\\\site-packages\\\\grpcio-1.34.0.dist-info\\\\METADATA'\n"
     ]
    }
   ],
   "source": [
    "!pip install nltk -q"
   ]
  },
  {
   "cell_type": "code",
   "execution_count": null,
   "metadata": {
    "ExecuteTime": {
     "start_time": "2021-02-02T14:20:14.639Z"
    },
    "colab": {
     "base_uri": "https://localhost:8080/"
    },
    "id": "66TGumeF2m8-",
    "outputId": "f26c8fe2-867f-4b9b-ccfe-6695e7b68662"
   },
   "outputs": [
    {
     "name": "stderr",
     "output_type": "stream",
     "text": [
      "C:\\Users\\ASUS\\.conda\\envs\\workspace\\lib\\site-packages\\numpy\\_distributor_init.py:32: UserWarning: loaded more than 1 DLL from .libs:\n",
      "C:\\Users\\ASUS\\.conda\\envs\\workspace\\lib\\site-packages\\numpy\\.libs\\libopenblas.PYQHXLVVQ7VESDPUVUADXEVJOBGHJPAY.gfortran-win_amd64.dll\n",
      "C:\\Users\\ASUS\\.conda\\envs\\workspace\\lib\\site-packages\\numpy\\.libs\\libopenblas.QVLO2T66WEPI7JZ63PS3HMOHFEY472BC.gfortran-win_amd64.dll\n",
      "  stacklevel=1)\n"
     ]
    },
    {
     "name": "stdout",
     "output_type": "stream",
     "text": [
      "WARNING:tensorflow:From C:\\Users\\ASUS\\.conda\\envs\\workspace\\lib\\site-packages\\tensorflow_core\\python\\ops\\distributions\\distribution.py:265: ReparameterizationType.__init__ (from tensorflow.python.ops.distributions.distribution) is deprecated and will be removed after 2019-01-01.\n",
      "Instructions for updating:\n",
      "The TensorFlow Distributions library has moved to TensorFlow Probability (https://github.com/tensorflow/probability). You should update all references to use `tfp.distributions` instead of `tf.distributions`.\n",
      "WARNING:tensorflow:From C:\\Users\\ASUS\\.conda\\envs\\workspace\\lib\\site-packages\\tensorflow_core\\python\\ops\\distributions\\bernoulli.py:169: RegisterKL.__init__ (from tensorflow.python.ops.distributions.kullback_leibler) is deprecated and will be removed after 2019-01-01.\n",
      "Instructions for updating:\n",
      "The TensorFlow Distributions library has moved to TensorFlow Probability (https://github.com/tensorflow/probability). You should update all references to use `tfp.distributions` instead of `tf.distributions`.\n"
     ]
    },
    {
     "name": "stderr",
     "output_type": "stream",
     "text": [
      "ERROR:root:Internal Python error in the inspect module.\n",
      "Below is the traceback from this internal error.\n",
      "\n",
      "ERROR:root:Internal Python error in the inspect module.\n",
      "Below is the traceback from this internal error.\n",
      "\n",
      "ERROR:root:Internal Python error in the inspect module.\n",
      "Below is the traceback from this internal error.\n",
      "\n"
     ]
    },
    {
     "name": "stdout",
     "output_type": "stream",
     "text": [
      "Traceback (most recent call last):\n",
      "  File \"C:\\Users\\ASUS\\.conda\\envs\\workspace\\lib\\site-packages\\IPython\\core\\interactiveshell.py\", line 3343, in run_code\n",
      "    exec(code_obj, self.user_global_ns, self.user_ns)\n",
      "  File \"<ipython-input-2-ceaba2d55f1b>\", line 2, in <module>\n",
      "    import tensorflow as tf\n",
      "  File \"C:\\Users\\ASUS\\.conda\\envs\\workspace\\lib\\site-packages\\tensorflow\\__init__.py\", line 102, in <module>\n",
      "    from tensorflow_core import *\n",
      "  File \"C:\\Users\\ASUS\\.conda\\envs\\workspace\\lib\\site-packages\\tensorflow_core\\__init__.py\", line 36, in <module>\n",
      "    from tensorflow._api.v1 import compat\n",
      "  File \"C:\\Users\\ASUS\\.conda\\envs\\workspace\\lib\\site-packages\\tensorflow_core\\_api\\v1\\compat\\__init__.py\", line 23, in <module>\n",
      "    from tensorflow._api.v1.compat import v1\n",
      "  File \"C:\\Users\\ASUS\\.conda\\envs\\workspace\\lib\\site-packages\\tensorflow_core\\_api\\v1\\compat\\v1\\__init__.py\", line 40, in <module>\n",
      "    from tensorflow._api.v1.compat.v1 import experimental\n",
      "  File \"C:\\Users\\ASUS\\.conda\\envs\\workspace\\lib\\site-packages\\tensorflow_core\\_api\\v1\\compat\\v1\\experimental\\__init__.py\", line 11, in <module>\n",
      "    from tensorflow.python.ops.control_flow_v2_toggles import output_all_intermediates\n",
      "  File \"C:\\Users\\ASUS\\.conda\\envs\\workspace\\lib\\site-packages\\tensorflow_core\\python\\ops\\control_flow_v2_toggles.py\", line 24, in <module>\n",
      "    from tensorflow.python.ops import control_flow_util_v2\n",
      "  File \"C:\\Users\\ASUS\\.conda\\envs\\workspace\\lib\\site-packages\\tensorflow_core\\python\\ops\\control_flow_util_v2.py\", line 28, in <module>\n",
      "    from tensorflow.python.keras.engine import base_layer_utils\n",
      "  File \"C:\\Users\\ASUS\\.conda\\envs\\workspace\\lib\\site-packages\\tensorflow_core\\python\\keras\\__init__.py\", line 27, in <module>\n",
      "    from tensorflow.python.keras import applications\n",
      "  File \"C:\\Users\\ASUS\\.conda\\envs\\workspace\\lib\\site-packages\\tensorflow_core\\python\\keras\\applications\\__init__.py\", line 25, in <module>\n",
      "    from tensorflow.python.keras import engine\n",
      "  File \"C:\\Users\\ASUS\\.conda\\envs\\workspace\\lib\\site-packages\\tensorflow_core\\python\\keras\\engine\\__init__.py\", line 23, in <module>\n",
      "    from tensorflow.python.keras.engine.base_layer import Layer\n",
      "  File \"C:\\Users\\ASUS\\.conda\\envs\\workspace\\lib\\site-packages\\tensorflow_core\\python\\keras\\engine\\base_layer.py\", line 58, in <module>\n",
      "    from tensorflow.python.keras.saving.saved_model import save as saved_model\n",
      "  File \"C:\\Users\\ASUS\\.conda\\envs\\workspace\\lib\\site-packages\\tensorflow_core\\python\\keras\\saving\\__init__.py\", line 20, in <module>\n",
      "    from tensorflow.python.keras.saving.hdf5_format import load_attributes_from_hdf5_group\n",
      "  File \"C:\\Users\\ASUS\\.conda\\envs\\workspace\\lib\\site-packages\\tensorflow_core\\python\\keras\\saving\\hdf5_format.py\", line 32, in <module>\n",
      "    from tensorflow.python.keras.utils import conv_utils\n",
      "  File \"C:\\Users\\ASUS\\.conda\\envs\\workspace\\lib\\site-packages\\tensorflow_core\\python\\keras\\utils\\__init__.py\", line 38, in <module>\n",
      "    from tensorflow.python.keras.utils.multi_gpu_utils import multi_gpu_model\n",
      "  File \"C:\\Users\\ASUS\\.conda\\envs\\workspace\\lib\\site-packages\\tensorflow_core\\python\\keras\\utils\\multi_gpu_utils.py\", line 22, in <module>\n",
      "    from tensorflow.python.keras.engine.training import Model\n",
      "  File \"C:\\Users\\ASUS\\.conda\\envs\\workspace\\lib\\site-packages\\tensorflow_core\\python\\keras\\engine\\training.py\", line 42, in <module>\n",
      "    from tensorflow.python.keras import metrics as metrics_module\n",
      "  File \"C:\\Users\\ASUS\\.conda\\envs\\workspace\\lib\\site-packages\\tensorflow_core\\python\\keras\\metrics.py\", line 34, in <module>\n",
      "    from tensorflow.python.keras.engine.base_layer import Layer\n",
      "ImportError: cannot import name 'Layer'\n",
      "\n",
      "During handling of the above exception, another exception occurred:\n",
      "\n",
      "Traceback (most recent call last):\n",
      "  File \"C:\\Users\\ASUS\\.conda\\envs\\workspace\\lib\\site-packages\\IPython\\core\\interactiveshell.py\", line 2044, in showtraceback\n",
      "    stb = value._render_traceback_()\n",
      "AttributeError: 'ImportError' object has no attribute '_render_traceback_'\n",
      "\n",
      "During handling of the above exception, another exception occurred:\n",
      "\n",
      "Traceback (most recent call last):\n",
      "  File \"C:\\Users\\ASUS\\.conda\\envs\\workspace\\lib\\site-packages\\IPython\\core\\ultratb.py\", line 1169, in get_records\n",
      "    return _fixed_getinnerframes(etb, number_of_lines_of_context, tb_offset)\n",
      "  File \"C:\\Users\\ASUS\\.conda\\envs\\workspace\\lib\\site-packages\\IPython\\core\\ultratb.py\", line 316, in wrapped\n",
      "    return f(*args, **kwargs)\n",
      "  File \"C:\\Users\\ASUS\\.conda\\envs\\workspace\\lib\\site-packages\\IPython\\core\\ultratb.py\", line 350, in _fixed_getinnerframes\n",
      "    records = fix_frame_records_filenames(inspect.getinnerframes(etb, context))\n",
      "  File \"C:\\Users\\ASUS\\.conda\\envs\\workspace\\lib\\inspect.py\", line 1490, in getinnerframes\n",
      "    frameinfo = (tb.tb_frame,) + getframeinfo(tb, context)\n",
      "  File \"C:\\Users\\ASUS\\.conda\\envs\\workspace\\lib\\inspect.py\", line 1448, in getframeinfo\n",
      "    filename = getsourcefile(frame) or getfile(frame)\n",
      "  File \"C:\\Users\\ASUS\\.conda\\envs\\workspace\\lib\\inspect.py\", line 696, in getsourcefile\n",
      "    if getattr(getmodule(object, filename), '__loader__', None) is not None:\n",
      "  File \"C:\\Users\\ASUS\\.conda\\envs\\workspace\\lib\\inspect.py\", line 733, in getmodule\n",
      "    if ismodule(module) and hasattr(module, '__file__'):\n",
      "  File \"C:\\Users\\ASUS\\.conda\\envs\\workspace\\lib\\site-packages\\tensorflow\\__init__.py\", line 50, in __getattr__\n",
      "    module = self._load()\n",
      "  File \"C:\\Users\\ASUS\\.conda\\envs\\workspace\\lib\\site-packages\\tensorflow\\__init__.py\", line 44, in _load\n",
      "    module = _importlib.import_module(self.__name__)\n",
      "  File \"C:\\Users\\ASUS\\.conda\\envs\\workspace\\lib\\importlib\\__init__.py\", line 126, in import_module\n",
      "    return _bootstrap._gcd_import(name[level:], package, level)\n",
      "  File \"<frozen importlib._bootstrap>\", line 994, in _gcd_import\n",
      "  File \"<frozen importlib._bootstrap>\", line 971, in _find_and_load\n",
      "  File \"<frozen importlib._bootstrap>\", line 941, in _find_and_load_unlocked\n",
      "  File \"<frozen importlib._bootstrap>\", line 219, in _call_with_frames_removed\n",
      "  File \"<frozen importlib._bootstrap>\", line 994, in _gcd_import\n",
      "  File \"<frozen importlib._bootstrap>\", line 971, in _find_and_load\n",
      "  File \"<frozen importlib._bootstrap>\", line 955, in _find_and_load_unlocked\n",
      "  File \"<frozen importlib._bootstrap>\", line 665, in _load_unlocked\n",
      "  File \"<frozen importlib._bootstrap_external>\", line 678, in exec_module\n",
      "  File \"<frozen importlib._bootstrap>\", line 219, in _call_with_frames_removed\n",
      "  File \"C:\\Users\\ASUS\\.conda\\envs\\workspace\\lib\\site-packages\\tensorflow_core\\__init__.py\", line 36, in <module>\n",
      "    from tensorflow._api.v1 import compat\n",
      "  File \"C:\\Users\\ASUS\\.conda\\envs\\workspace\\lib\\site-packages\\tensorflow_core\\_api\\v1\\compat\\__init__.py\", line 23, in <module>\n",
      "    from tensorflow._api.v1.compat import v1\n",
      "  File \"C:\\Users\\ASUS\\.conda\\envs\\workspace\\lib\\site-packages\\tensorflow_core\\_api\\v1\\compat\\v1\\__init__.py\", line 40, in <module>\n",
      "    from tensorflow._api.v1.compat.v1 import experimental\n",
      "  File \"C:\\Users\\ASUS\\.conda\\envs\\workspace\\lib\\site-packages\\tensorflow_core\\_api\\v1\\compat\\v1\\experimental\\__init__.py\", line 11, in <module>\n",
      "    from tensorflow.python.ops.control_flow_v2_toggles import output_all_intermediates\n",
      "  File \"C:\\Users\\ASUS\\.conda\\envs\\workspace\\lib\\site-packages\\tensorflow_core\\python\\ops\\control_flow_v2_toggles.py\", line 24, in <module>\n",
      "    from tensorflow.python.ops import control_flow_util_v2\n",
      "  File \"C:\\Users\\ASUS\\.conda\\envs\\workspace\\lib\\site-packages\\tensorflow_core\\python\\ops\\control_flow_util_v2.py\", line 28, in <module>\n",
      "    from tensorflow.python.keras.engine import base_layer_utils\n",
      "  File \"C:\\Users\\ASUS\\.conda\\envs\\workspace\\lib\\site-packages\\tensorflow_core\\python\\keras\\__init__.py\", line 27, in <module>\n",
      "    from tensorflow.python.keras import applications\n",
      "  File \"C:\\Users\\ASUS\\.conda\\envs\\workspace\\lib\\site-packages\\tensorflow_core\\python\\keras\\applications\\__init__.py\", line 25, in <module>\n",
      "    from tensorflow.python.keras import engine\n",
      "  File \"C:\\Users\\ASUS\\.conda\\envs\\workspace\\lib\\site-packages\\tensorflow_core\\python\\keras\\engine\\__init__.py\", line 23, in <module>\n",
      "    from tensorflow.python.keras.engine.base_layer import Layer\n",
      "  File \"C:\\Users\\ASUS\\.conda\\envs\\workspace\\lib\\site-packages\\tensorflow_core\\python\\keras\\engine\\base_layer.py\", line 58, in <module>\n",
      "    from tensorflow.python.keras.saving.saved_model import save as saved_model\n",
      "  File \"C:\\Users\\ASUS\\.conda\\envs\\workspace\\lib\\site-packages\\tensorflow_core\\python\\keras\\saving\\__init__.py\", line 20, in <module>\n",
      "    from tensorflow.python.keras.saving.hdf5_format import load_attributes_from_hdf5_group\n",
      "  File \"C:\\Users\\ASUS\\.conda\\envs\\workspace\\lib\\site-packages\\tensorflow_core\\python\\keras\\saving\\hdf5_format.py\", line 32, in <module>\n",
      "    from tensorflow.python.keras.utils import conv_utils\n",
      "  File \"C:\\Users\\ASUS\\.conda\\envs\\workspace\\lib\\site-packages\\tensorflow_core\\python\\keras\\utils\\__init__.py\", line 38, in <module>\n",
      "    from tensorflow.python.keras.utils.multi_gpu_utils import multi_gpu_model\n",
      "  File \"C:\\Users\\ASUS\\.conda\\envs\\workspace\\lib\\site-packages\\tensorflow_core\\python\\keras\\utils\\multi_gpu_utils.py\", line 22, in <module>\n",
      "    from tensorflow.python.keras.engine.training import Model\n",
      "  File \"C:\\Users\\ASUS\\.conda\\envs\\workspace\\lib\\site-packages\\tensorflow_core\\python\\keras\\engine\\training.py\", line 42, in <module>\n",
      "    from tensorflow.python.keras import metrics as metrics_module\n",
      "  File \"C:\\Users\\ASUS\\.conda\\envs\\workspace\\lib\\site-packages\\tensorflow_core\\python\\keras\\metrics.py\", line 34, in <module>\n",
      "    from tensorflow.python.keras.engine.base_layer import Layer\n",
      "ImportError: cannot import name 'Layer'\n",
      "Traceback (most recent call last):\n",
      "  File \"C:\\Users\\ASUS\\.conda\\envs\\workspace\\lib\\site-packages\\IPython\\core\\interactiveshell.py\", line 3343, in run_code\n",
      "    exec(code_obj, self.user_global_ns, self.user_ns)\n",
      "  File \"<ipython-input-2-ceaba2d55f1b>\", line 2, in <module>\n",
      "    import tensorflow as tf\n",
      "  File \"C:\\Users\\ASUS\\.conda\\envs\\workspace\\lib\\site-packages\\tensorflow\\__init__.py\", line 102, in <module>\n",
      "    from tensorflow_core import *\n",
      "  File \"C:\\Users\\ASUS\\.conda\\envs\\workspace\\lib\\site-packages\\tensorflow_core\\__init__.py\", line 36, in <module>\n",
      "    from tensorflow._api.v1 import compat\n",
      "  File \"C:\\Users\\ASUS\\.conda\\envs\\workspace\\lib\\site-packages\\tensorflow_core\\_api\\v1\\compat\\__init__.py\", line 23, in <module>\n",
      "    from tensorflow._api.v1.compat import v1\n",
      "  File \"C:\\Users\\ASUS\\.conda\\envs\\workspace\\lib\\site-packages\\tensorflow_core\\_api\\v1\\compat\\v1\\__init__.py\", line 40, in <module>\n",
      "    from tensorflow._api.v1.compat.v1 import experimental\n",
      "  File \"C:\\Users\\ASUS\\.conda\\envs\\workspace\\lib\\site-packages\\tensorflow_core\\_api\\v1\\compat\\v1\\experimental\\__init__.py\", line 11, in <module>\n",
      "    from tensorflow.python.ops.control_flow_v2_toggles import output_all_intermediates\n",
      "  File \"C:\\Users\\ASUS\\.conda\\envs\\workspace\\lib\\site-packages\\tensorflow_core\\python\\ops\\control_flow_v2_toggles.py\", line 24, in <module>\n",
      "    from tensorflow.python.ops import control_flow_util_v2\n",
      "  File \"C:\\Users\\ASUS\\.conda\\envs\\workspace\\lib\\site-packages\\tensorflow_core\\python\\ops\\control_flow_util_v2.py\", line 28, in <module>\n",
      "    from tensorflow.python.keras.engine import base_layer_utils\n",
      "  File \"C:\\Users\\ASUS\\.conda\\envs\\workspace\\lib\\site-packages\\tensorflow_core\\python\\keras\\__init__.py\", line 27, in <module>\n",
      "    from tensorflow.python.keras import applications\n",
      "  File \"C:\\Users\\ASUS\\.conda\\envs\\workspace\\lib\\site-packages\\tensorflow_core\\python\\keras\\applications\\__init__.py\", line 25, in <module>\n",
      "    from tensorflow.python.keras import engine\n",
      "  File \"C:\\Users\\ASUS\\.conda\\envs\\workspace\\lib\\site-packages\\tensorflow_core\\python\\keras\\engine\\__init__.py\", line 23, in <module>\n",
      "    from tensorflow.python.keras.engine.base_layer import Layer\n",
      "  File \"C:\\Users\\ASUS\\.conda\\envs\\workspace\\lib\\site-packages\\tensorflow_core\\python\\keras\\engine\\base_layer.py\", line 58, in <module>\n",
      "    from tensorflow.python.keras.saving.saved_model import save as saved_model\n",
      "  File \"C:\\Users\\ASUS\\.conda\\envs\\workspace\\lib\\site-packages\\tensorflow_core\\python\\keras\\saving\\__init__.py\", line 20, in <module>\n",
      "    from tensorflow.python.keras.saving.hdf5_format import load_attributes_from_hdf5_group\n",
      "  File \"C:\\Users\\ASUS\\.conda\\envs\\workspace\\lib\\site-packages\\tensorflow_core\\python\\keras\\saving\\hdf5_format.py\", line 32, in <module>\n",
      "    from tensorflow.python.keras.utils import conv_utils\n",
      "  File \"C:\\Users\\ASUS\\.conda\\envs\\workspace\\lib\\site-packages\\tensorflow_core\\python\\keras\\utils\\__init__.py\", line 38, in <module>\n",
      "    from tensorflow.python.keras.utils.multi_gpu_utils import multi_gpu_model\n",
      "  File \"C:\\Users\\ASUS\\.conda\\envs\\workspace\\lib\\site-packages\\tensorflow_core\\python\\keras\\utils\\multi_gpu_utils.py\", line 22, in <module>\n",
      "    from tensorflow.python.keras.engine.training import Model\n",
      "  File \"C:\\Users\\ASUS\\.conda\\envs\\workspace\\lib\\site-packages\\tensorflow_core\\python\\keras\\engine\\training.py\", line 42, in <module>\n",
      "    from tensorflow.python.keras import metrics as metrics_module\n",
      "  File \"C:\\Users\\ASUS\\.conda\\envs\\workspace\\lib\\site-packages\\tensorflow_core\\python\\keras\\metrics.py\", line 34, in <module>\n",
      "    from tensorflow.python.keras.engine.base_layer import Layer\n",
      "ImportError: cannot import name 'Layer'\n",
      "\n",
      "During handling of the above exception, another exception occurred:\n",
      "\n",
      "Traceback (most recent call last):\n",
      "  File \"C:\\Users\\ASUS\\.conda\\envs\\workspace\\lib\\site-packages\\IPython\\core\\interactiveshell.py\", line 2044, in showtraceback\n",
      "    stb = value._render_traceback_()\n",
      "AttributeError: 'ImportError' object has no attribute '_render_traceback_'\n",
      "\n",
      "During handling of the above exception, another exception occurred:\n",
      "\n",
      "Traceback (most recent call last):\n",
      "  File \"C:\\Users\\ASUS\\.conda\\envs\\workspace\\lib\\site-packages\\IPython\\core\\interactiveshell.py\", line 3263, in run_ast_nodes\n",
      "    if (await self.run_code(code, result,  async_=asy)):\n",
      "  File \"C:\\Users\\ASUS\\.conda\\envs\\workspace\\lib\\site-packages\\IPython\\core\\interactiveshell.py\", line 3360, in run_code\n",
      "    self.showtraceback(running_compiled_code=True)\n",
      "  File \"C:\\Users\\ASUS\\.conda\\envs\\workspace\\lib\\site-packages\\IPython\\core\\interactiveshell.py\", line 2047, in showtraceback\n",
      "    value, tb, tb_offset=tb_offset)\n",
      "  File \"C:\\Users\\ASUS\\.conda\\envs\\workspace\\lib\\site-packages\\IPython\\core\\ultratb.py\", line 1436, in structured_traceback\n",
      "    self, etype, value, tb, tb_offset, number_of_lines_of_context)\n",
      "  File \"C:\\Users\\ASUS\\.conda\\envs\\workspace\\lib\\site-packages\\IPython\\core\\ultratb.py\", line 1336, in structured_traceback\n",
      "    self, etype, value, tb, tb_offset, number_of_lines_of_context\n",
      "  File \"C:\\Users\\ASUS\\.conda\\envs\\workspace\\lib\\site-packages\\IPython\\core\\ultratb.py\", line 1193, in structured_traceback\n",
      "    tb_offset)\n",
      "  File \"C:\\Users\\ASUS\\.conda\\envs\\workspace\\lib\\site-packages\\IPython\\core\\ultratb.py\", line 1150, in format_exception_as_a_whole\n",
      "    last_unique, recursion_repeat = find_recursion(orig_etype, evalue, records)\n",
      "  File \"C:\\Users\\ASUS\\.conda\\envs\\workspace\\lib\\site-packages\\IPython\\core\\ultratb.py\", line 451, in find_recursion\n",
      "    return len(records), 0\n",
      "TypeError: object of type 'NoneType' has no len()\n",
      "\n",
      "During handling of the above exception, another exception occurred:\n",
      "\n",
      "Traceback (most recent call last):\n",
      "  File \"C:\\Users\\ASUS\\.conda\\envs\\workspace\\lib\\site-packages\\IPython\\core\\interactiveshell.py\", line 2044, in showtraceback\n",
      "    stb = value._render_traceback_()\n",
      "AttributeError: 'TypeError' object has no attribute '_render_traceback_'\n",
      "\n",
      "During handling of the above exception, another exception occurred:\n",
      "\n",
      "Traceback (most recent call last):\n",
      "  File \"C:\\Users\\ASUS\\.conda\\envs\\workspace\\lib\\site-packages\\IPython\\core\\ultratb.py\", line 1169, in get_records\n",
      "    return _fixed_getinnerframes(etb, number_of_lines_of_context, tb_offset)\n",
      "  File \"C:\\Users\\ASUS\\.conda\\envs\\workspace\\lib\\site-packages\\IPython\\core\\ultratb.py\", line 316, in wrapped\n",
      "    return f(*args, **kwargs)\n",
      "  File \"C:\\Users\\ASUS\\.conda\\envs\\workspace\\lib\\site-packages\\IPython\\core\\ultratb.py\", line 350, in _fixed_getinnerframes\n",
      "    records = fix_frame_records_filenames(inspect.getinnerframes(etb, context))\n",
      "  File \"C:\\Users\\ASUS\\.conda\\envs\\workspace\\lib\\inspect.py\", line 1490, in getinnerframes\n",
      "    frameinfo = (tb.tb_frame,) + getframeinfo(tb, context)\n",
      "  File \"C:\\Users\\ASUS\\.conda\\envs\\workspace\\lib\\inspect.py\", line 1448, in getframeinfo\n",
      "    filename = getsourcefile(frame) or getfile(frame)\n",
      "  File \"C:\\Users\\ASUS\\.conda\\envs\\workspace\\lib\\inspect.py\", line 696, in getsourcefile\n",
      "    if getattr(getmodule(object, filename), '__loader__', None) is not None:\n",
      "  File \"C:\\Users\\ASUS\\.conda\\envs\\workspace\\lib\\inspect.py\", line 733, in getmodule\n",
      "    if ismodule(module) and hasattr(module, '__file__'):\n",
      "  File \"C:\\Users\\ASUS\\.conda\\envs\\workspace\\lib\\site-packages\\tensorflow\\__init__.py\", line 50, in __getattr__\n",
      "    module = self._load()\n",
      "  File \"C:\\Users\\ASUS\\.conda\\envs\\workspace\\lib\\site-packages\\tensorflow\\__init__.py\", line 44, in _load\n",
      "    module = _importlib.import_module(self.__name__)\n",
      "  File \"C:\\Users\\ASUS\\.conda\\envs\\workspace\\lib\\importlib\\__init__.py\", line 126, in import_module\n",
      "    return _bootstrap._gcd_import(name[level:], package, level)\n",
      "  File \"<frozen importlib._bootstrap>\", line 994, in _gcd_import\n",
      "  File \"<frozen importlib._bootstrap>\", line 971, in _find_and_load\n",
      "  File \"<frozen importlib._bootstrap>\", line 941, in _find_and_load_unlocked\n",
      "  File \"<frozen importlib._bootstrap>\", line 219, in _call_with_frames_removed\n",
      "  File \"<frozen importlib._bootstrap>\", line 994, in _gcd_import\n",
      "  File \"<frozen importlib._bootstrap>\", line 971, in _find_and_load\n",
      "  File \"<frozen importlib._bootstrap>\", line 955, in _find_and_load_unlocked\n",
      "  File \"<frozen importlib._bootstrap>\", line 665, in _load_unlocked\n",
      "  File \"<frozen importlib._bootstrap_external>\", line 678, in exec_module\n",
      "  File \"<frozen importlib._bootstrap>\", line 219, in _call_with_frames_removed\n",
      "  File \"C:\\Users\\ASUS\\.conda\\envs\\workspace\\lib\\site-packages\\tensorflow_core\\__init__.py\", line 36, in <module>\n",
      "    from tensorflow._api.v1 import compat\n",
      "  File \"C:\\Users\\ASUS\\.conda\\envs\\workspace\\lib\\site-packages\\tensorflow_core\\_api\\v1\\compat\\__init__.py\", line 23, in <module>\n",
      "    from tensorflow._api.v1.compat import v1\n",
      "  File \"C:\\Users\\ASUS\\.conda\\envs\\workspace\\lib\\site-packages\\tensorflow_core\\_api\\v1\\compat\\v1\\__init__.py\", line 40, in <module>\n",
      "    from tensorflow._api.v1.compat.v1 import experimental\n",
      "  File \"C:\\Users\\ASUS\\.conda\\envs\\workspace\\lib\\site-packages\\tensorflow_core\\_api\\v1\\compat\\v1\\experimental\\__init__.py\", line 11, in <module>\n",
      "    from tensorflow.python.ops.control_flow_v2_toggles import output_all_intermediates\n",
      "  File \"C:\\Users\\ASUS\\.conda\\envs\\workspace\\lib\\site-packages\\tensorflow_core\\python\\ops\\control_flow_v2_toggles.py\", line 24, in <module>\n",
      "    from tensorflow.python.ops import control_flow_util_v2\n",
      "  File \"C:\\Users\\ASUS\\.conda\\envs\\workspace\\lib\\site-packages\\tensorflow_core\\python\\ops\\control_flow_util_v2.py\", line 28, in <module>\n",
      "    from tensorflow.python.keras.engine import base_layer_utils\n",
      "  File \"C:\\Users\\ASUS\\.conda\\envs\\workspace\\lib\\site-packages\\tensorflow_core\\python\\keras\\__init__.py\", line 27, in <module>\n",
      "    from tensorflow.python.keras import applications\n",
      "  File \"C:\\Users\\ASUS\\.conda\\envs\\workspace\\lib\\site-packages\\tensorflow_core\\python\\keras\\applications\\__init__.py\", line 25, in <module>\n",
      "    from tensorflow.python.keras import engine\n",
      "  File \"C:\\Users\\ASUS\\.conda\\envs\\workspace\\lib\\site-packages\\tensorflow_core\\python\\keras\\engine\\__init__.py\", line 23, in <module>\n",
      "    from tensorflow.python.keras.engine.base_layer import Layer\n",
      "  File \"C:\\Users\\ASUS\\.conda\\envs\\workspace\\lib\\site-packages\\tensorflow_core\\python\\keras\\engine\\base_layer.py\", line 58, in <module>\n",
      "    from tensorflow.python.keras.saving.saved_model import save as saved_model\n",
      "  File \"C:\\Users\\ASUS\\.conda\\envs\\workspace\\lib\\site-packages\\tensorflow_core\\python\\keras\\saving\\__init__.py\", line 20, in <module>\n",
      "    from tensorflow.python.keras.saving.hdf5_format import load_attributes_from_hdf5_group\n",
      "  File \"C:\\Users\\ASUS\\.conda\\envs\\workspace\\lib\\site-packages\\tensorflow_core\\python\\keras\\saving\\hdf5_format.py\", line 32, in <module>\n",
      "    from tensorflow.python.keras.utils import conv_utils\n",
      "  File \"C:\\Users\\ASUS\\.conda\\envs\\workspace\\lib\\site-packages\\tensorflow_core\\python\\keras\\utils\\__init__.py\", line 38, in <module>\n",
      "    from tensorflow.python.keras.utils.multi_gpu_utils import multi_gpu_model\n",
      "  File \"C:\\Users\\ASUS\\.conda\\envs\\workspace\\lib\\site-packages\\tensorflow_core\\python\\keras\\utils\\multi_gpu_utils.py\", line 22, in <module>\n",
      "    from tensorflow.python.keras.engine.training import Model\n",
      "  File \"C:\\Users\\ASUS\\.conda\\envs\\workspace\\lib\\site-packages\\tensorflow_core\\python\\keras\\engine\\training.py\", line 42, in <module>\n",
      "    from tensorflow.python.keras import metrics as metrics_module\n",
      "  File \"C:\\Users\\ASUS\\.conda\\envs\\workspace\\lib\\site-packages\\tensorflow_core\\python\\keras\\metrics.py\", line 34, in <module>\n",
      "    from tensorflow.python.keras.engine.base_layer import Layer\n",
      "ImportError: cannot import name 'Layer'\n",
      "Traceback (most recent call last):\n",
      "  File \"C:\\Users\\ASUS\\.conda\\envs\\workspace\\lib\\site-packages\\IPython\\core\\interactiveshell.py\", line 3343, in run_code\n",
      "    exec(code_obj, self.user_global_ns, self.user_ns)\n",
      "  File \"<ipython-input-2-ceaba2d55f1b>\", line 2, in <module>\n",
      "    import tensorflow as tf\n",
      "  File \"C:\\Users\\ASUS\\.conda\\envs\\workspace\\lib\\site-packages\\tensorflow\\__init__.py\", line 102, in <module>\n",
      "    from tensorflow_core import *\n",
      "  File \"C:\\Users\\ASUS\\.conda\\envs\\workspace\\lib\\site-packages\\tensorflow_core\\__init__.py\", line 36, in <module>\n",
      "    from tensorflow._api.v1 import compat\n",
      "  File \"C:\\Users\\ASUS\\.conda\\envs\\workspace\\lib\\site-packages\\tensorflow_core\\_api\\v1\\compat\\__init__.py\", line 23, in <module>\n",
      "    from tensorflow._api.v1.compat import v1\n",
      "  File \"C:\\Users\\ASUS\\.conda\\envs\\workspace\\lib\\site-packages\\tensorflow_core\\_api\\v1\\compat\\v1\\__init__.py\", line 40, in <module>\n",
      "    from tensorflow._api.v1.compat.v1 import experimental\n",
      "  File \"C:\\Users\\ASUS\\.conda\\envs\\workspace\\lib\\site-packages\\tensorflow_core\\_api\\v1\\compat\\v1\\experimental\\__init__.py\", line 11, in <module>\n",
      "    from tensorflow.python.ops.control_flow_v2_toggles import output_all_intermediates\n",
      "  File \"C:\\Users\\ASUS\\.conda\\envs\\workspace\\lib\\site-packages\\tensorflow_core\\python\\ops\\control_flow_v2_toggles.py\", line 24, in <module>\n",
      "    from tensorflow.python.ops import control_flow_util_v2\n",
      "  File \"C:\\Users\\ASUS\\.conda\\envs\\workspace\\lib\\site-packages\\tensorflow_core\\python\\ops\\control_flow_util_v2.py\", line 28, in <module>\n",
      "    from tensorflow.python.keras.engine import base_layer_utils\n",
      "  File \"C:\\Users\\ASUS\\.conda\\envs\\workspace\\lib\\site-packages\\tensorflow_core\\python\\keras\\__init__.py\", line 27, in <module>\n",
      "    from tensorflow.python.keras import applications\n",
      "  File \"C:\\Users\\ASUS\\.conda\\envs\\workspace\\lib\\site-packages\\tensorflow_core\\python\\keras\\applications\\__init__.py\", line 25, in <module>\n",
      "    from tensorflow.python.keras import engine\n",
      "  File \"C:\\Users\\ASUS\\.conda\\envs\\workspace\\lib\\site-packages\\tensorflow_core\\python\\keras\\engine\\__init__.py\", line 23, in <module>\n",
      "    from tensorflow.python.keras.engine.base_layer import Layer\n",
      "  File \"C:\\Users\\ASUS\\.conda\\envs\\workspace\\lib\\site-packages\\tensorflow_core\\python\\keras\\engine\\base_layer.py\", line 58, in <module>\n",
      "    from tensorflow.python.keras.saving.saved_model import save as saved_model\n",
      "  File \"C:\\Users\\ASUS\\.conda\\envs\\workspace\\lib\\site-packages\\tensorflow_core\\python\\keras\\saving\\__init__.py\", line 20, in <module>\n",
      "    from tensorflow.python.keras.saving.hdf5_format import load_attributes_from_hdf5_group\n",
      "  File \"C:\\Users\\ASUS\\.conda\\envs\\workspace\\lib\\site-packages\\tensorflow_core\\python\\keras\\saving\\hdf5_format.py\", line 32, in <module>\n",
      "    from tensorflow.python.keras.utils import conv_utils\n",
      "  File \"C:\\Users\\ASUS\\.conda\\envs\\workspace\\lib\\site-packages\\tensorflow_core\\python\\keras\\utils\\__init__.py\", line 38, in <module>\n",
      "    from tensorflow.python.keras.utils.multi_gpu_utils import multi_gpu_model\n",
      "  File \"C:\\Users\\ASUS\\.conda\\envs\\workspace\\lib\\site-packages\\tensorflow_core\\python\\keras\\utils\\multi_gpu_utils.py\", line 22, in <module>\n",
      "    from tensorflow.python.keras.engine.training import Model\n",
      "  File \"C:\\Users\\ASUS\\.conda\\envs\\workspace\\lib\\site-packages\\tensorflow_core\\python\\keras\\engine\\training.py\", line 42, in <module>\n",
      "    from tensorflow.python.keras import metrics as metrics_module\n",
      "  File \"C:\\Users\\ASUS\\.conda\\envs\\workspace\\lib\\site-packages\\tensorflow_core\\python\\keras\\metrics.py\", line 34, in <module>\n",
      "    from tensorflow.python.keras.engine.base_layer import Layer\n",
      "ImportError: cannot import name 'Layer'\n",
      "\n",
      "During handling of the above exception, another exception occurred:\n",
      "\n",
      "Traceback (most recent call last):\n",
      "  File \"C:\\Users\\ASUS\\.conda\\envs\\workspace\\lib\\site-packages\\IPython\\core\\interactiveshell.py\", line 2044, in showtraceback\n",
      "    stb = value._render_traceback_()\n",
      "AttributeError: 'ImportError' object has no attribute '_render_traceback_'\n",
      "\n",
      "During handling of the above exception, another exception occurred:\n",
      "\n",
      "Traceback (most recent call last):\n",
      "  File \"C:\\Users\\ASUS\\.conda\\envs\\workspace\\lib\\site-packages\\IPython\\core\\interactiveshell.py\", line 3263, in run_ast_nodes\n",
      "    if (await self.run_code(code, result,  async_=asy)):\n",
      "  File \"C:\\Users\\ASUS\\.conda\\envs\\workspace\\lib\\site-packages\\IPython\\core\\interactiveshell.py\", line 3360, in run_code\n",
      "    self.showtraceback(running_compiled_code=True)\n",
      "  File \"C:\\Users\\ASUS\\.conda\\envs\\workspace\\lib\\site-packages\\IPython\\core\\interactiveshell.py\", line 2047, in showtraceback\n",
      "    value, tb, tb_offset=tb_offset)\n",
      "  File \"C:\\Users\\ASUS\\.conda\\envs\\workspace\\lib\\site-packages\\IPython\\core\\ultratb.py\", line 1436, in structured_traceback\n",
      "    self, etype, value, tb, tb_offset, number_of_lines_of_context)\n",
      "  File \"C:\\Users\\ASUS\\.conda\\envs\\workspace\\lib\\site-packages\\IPython\\core\\ultratb.py\", line 1336, in structured_traceback\n",
      "    self, etype, value, tb, tb_offset, number_of_lines_of_context\n",
      "  File \"C:\\Users\\ASUS\\.conda\\envs\\workspace\\lib\\site-packages\\IPython\\core\\ultratb.py\", line 1193, in structured_traceback\n",
      "    tb_offset)\n",
      "  File \"C:\\Users\\ASUS\\.conda\\envs\\workspace\\lib\\site-packages\\IPython\\core\\ultratb.py\", line 1150, in format_exception_as_a_whole\n",
      "    last_unique, recursion_repeat = find_recursion(orig_etype, evalue, records)\n",
      "  File \"C:\\Users\\ASUS\\.conda\\envs\\workspace\\lib\\site-packages\\IPython\\core\\ultratb.py\", line 451, in find_recursion\n",
      "    return len(records), 0\n",
      "TypeError: object of type 'NoneType' has no len()\n",
      "\n",
      "During handling of the above exception, another exception occurred:\n",
      "\n",
      "Traceback (most recent call last):\n",
      "  File \"C:\\Users\\ASUS\\.conda\\envs\\workspace\\lib\\site-packages\\IPython\\core\\interactiveshell.py\", line 2044, in showtraceback\n",
      "    stb = value._render_traceback_()\n",
      "AttributeError: 'TypeError' object has no attribute '_render_traceback_'\n",
      "\n",
      "During handling of the above exception, another exception occurred:\n",
      "\n",
      "Traceback (most recent call last):\n",
      "  File \"C:\\Users\\ASUS\\.conda\\envs\\workspace\\lib\\site-packages\\IPython\\core\\interactiveshell.py\", line 2895, in _run_cell\n",
      "    return runner(coro)\n",
      "  File \"C:\\Users\\ASUS\\.conda\\envs\\workspace\\lib\\site-packages\\IPython\\core\\async_helpers.py\", line 68, in _pseudo_sync_runner\n",
      "    coro.send(None)\n",
      "  File \"C:\\Users\\ASUS\\.conda\\envs\\workspace\\lib\\site-packages\\IPython\\core\\interactiveshell.py\", line 3072, in run_cell_async\n",
      "    interactivity=interactivity, compiler=compiler, result=result)\n",
      "  File \"C:\\Users\\ASUS\\.conda\\envs\\workspace\\lib\\site-packages\\IPython\\core\\interactiveshell.py\", line 3282, in run_ast_nodes\n",
      "    self.showtraceback()\n",
      "  File \"C:\\Users\\ASUS\\.conda\\envs\\workspace\\lib\\site-packages\\IPython\\core\\interactiveshell.py\", line 2047, in showtraceback\n",
      "    value, tb, tb_offset=tb_offset)\n",
      "  File \"C:\\Users\\ASUS\\.conda\\envs\\workspace\\lib\\site-packages\\IPython\\core\\ultratb.py\", line 1436, in structured_traceback\n",
      "    self, etype, value, tb, tb_offset, number_of_lines_of_context)\n",
      "  File \"C:\\Users\\ASUS\\.conda\\envs\\workspace\\lib\\site-packages\\IPython\\core\\ultratb.py\", line 1336, in structured_traceback\n",
      "    self, etype, value, tb, tb_offset, number_of_lines_of_context\n",
      "  File \"C:\\Users\\ASUS\\.conda\\envs\\workspace\\lib\\site-packages\\IPython\\core\\ultratb.py\", line 1211, in structured_traceback\n",
      "    chained_exceptions_tb_offset)\n",
      "  File \"C:\\Users\\ASUS\\.conda\\envs\\workspace\\lib\\site-packages\\IPython\\core\\ultratb.py\", line 1150, in format_exception_as_a_whole\n",
      "    last_unique, recursion_repeat = find_recursion(orig_etype, evalue, records)\n",
      "  File \"C:\\Users\\ASUS\\.conda\\envs\\workspace\\lib\\site-packages\\IPython\\core\\ultratb.py\", line 451, in find_recursion\n",
      "    return len(records), 0\n",
      "TypeError: object of type 'NoneType' has no len()\n",
      "\n",
      "During handling of the above exception, another exception occurred:\n",
      "\n",
      "Traceback (most recent call last):\n",
      "  File \"C:\\Users\\ASUS\\.conda\\envs\\workspace\\lib\\site-packages\\IPython\\core\\interactiveshell.py\", line 2044, in showtraceback\n",
      "    stb = value._render_traceback_()\n",
      "AttributeError: 'TypeError' object has no attribute '_render_traceback_'\n",
      "\n",
      "During handling of the above exception, another exception occurred:\n",
      "\n",
      "Traceback (most recent call last):\n",
      "  File \"C:\\Users\\ASUS\\.conda\\envs\\workspace\\lib\\site-packages\\IPython\\core\\ultratb.py\", line 1169, in get_records\n",
      "    return _fixed_getinnerframes(etb, number_of_lines_of_context, tb_offset)\n",
      "  File \"C:\\Users\\ASUS\\.conda\\envs\\workspace\\lib\\site-packages\\IPython\\core\\ultratb.py\", line 316, in wrapped\n",
      "    return f(*args, **kwargs)\n",
      "  File \"C:\\Users\\ASUS\\.conda\\envs\\workspace\\lib\\site-packages\\IPython\\core\\ultratb.py\", line 350, in _fixed_getinnerframes\n",
      "    records = fix_frame_records_filenames(inspect.getinnerframes(etb, context))\n",
      "  File \"C:\\Users\\ASUS\\.conda\\envs\\workspace\\lib\\inspect.py\", line 1490, in getinnerframes\n",
      "    frameinfo = (tb.tb_frame,) + getframeinfo(tb, context)\n",
      "  File \"C:\\Users\\ASUS\\.conda\\envs\\workspace\\lib\\inspect.py\", line 1448, in getframeinfo\n",
      "    filename = getsourcefile(frame) or getfile(frame)\n",
      "  File \"C:\\Users\\ASUS\\.conda\\envs\\workspace\\lib\\inspect.py\", line 696, in getsourcefile\n",
      "    if getattr(getmodule(object, filename), '__loader__', None) is not None:\n",
      "  File \"C:\\Users\\ASUS\\.conda\\envs\\workspace\\lib\\inspect.py\", line 733, in getmodule\n",
      "    if ismodule(module) and hasattr(module, '__file__'):\n",
      "  File \"C:\\Users\\ASUS\\.conda\\envs\\workspace\\lib\\site-packages\\tensorflow\\__init__.py\", line 50, in __getattr__\n",
      "    module = self._load()\n",
      "  File \"C:\\Users\\ASUS\\.conda\\envs\\workspace\\lib\\site-packages\\tensorflow\\__init__.py\", line 44, in _load\n",
      "    module = _importlib.import_module(self.__name__)\n",
      "  File \"C:\\Users\\ASUS\\.conda\\envs\\workspace\\lib\\importlib\\__init__.py\", line 126, in import_module\n",
      "    return _bootstrap._gcd_import(name[level:], package, level)\n",
      "  File \"<frozen importlib._bootstrap>\", line 994, in _gcd_import\n",
      "  File \"<frozen importlib._bootstrap>\", line 971, in _find_and_load\n",
      "  File \"<frozen importlib._bootstrap>\", line 941, in _find_and_load_unlocked\n",
      "  File \"<frozen importlib._bootstrap>\", line 219, in _call_with_frames_removed\n",
      "  File \"<frozen importlib._bootstrap>\", line 994, in _gcd_import\n",
      "  File \"<frozen importlib._bootstrap>\", line 971, in _find_and_load\n",
      "  File \"<frozen importlib._bootstrap>\", line 955, in _find_and_load_unlocked\n",
      "  File \"<frozen importlib._bootstrap>\", line 665, in _load_unlocked\n",
      "  File \"<frozen importlib._bootstrap_external>\", line 678, in exec_module\n",
      "  File \"<frozen importlib._bootstrap>\", line 219, in _call_with_frames_removed\n",
      "  File \"C:\\Users\\ASUS\\.conda\\envs\\workspace\\lib\\site-packages\\tensorflow_core\\__init__.py\", line 36, in <module>\n",
      "    from tensorflow._api.v1 import compat\n",
      "  File \"C:\\Users\\ASUS\\.conda\\envs\\workspace\\lib\\site-packages\\tensorflow_core\\_api\\v1\\compat\\__init__.py\", line 23, in <module>\n",
      "    from tensorflow._api.v1.compat import v1\n",
      "  File \"C:\\Users\\ASUS\\.conda\\envs\\workspace\\lib\\site-packages\\tensorflow_core\\_api\\v1\\compat\\v1\\__init__.py\", line 40, in <module>\n",
      "    from tensorflow._api.v1.compat.v1 import experimental\n",
      "  File \"C:\\Users\\ASUS\\.conda\\envs\\workspace\\lib\\site-packages\\tensorflow_core\\_api\\v1\\compat\\v1\\experimental\\__init__.py\", line 11, in <module>\n",
      "    from tensorflow.python.ops.control_flow_v2_toggles import output_all_intermediates\n",
      "  File \"C:\\Users\\ASUS\\.conda\\envs\\workspace\\lib\\site-packages\\tensorflow_core\\python\\ops\\control_flow_v2_toggles.py\", line 24, in <module>\n",
      "    from tensorflow.python.ops import control_flow_util_v2\n",
      "  File \"C:\\Users\\ASUS\\.conda\\envs\\workspace\\lib\\site-packages\\tensorflow_core\\python\\ops\\control_flow_util_v2.py\", line 28, in <module>\n",
      "    from tensorflow.python.keras.engine import base_layer_utils\n",
      "  File \"C:\\Users\\ASUS\\.conda\\envs\\workspace\\lib\\site-packages\\tensorflow_core\\python\\keras\\__init__.py\", line 27, in <module>\n",
      "    from tensorflow.python.keras import applications\n",
      "  File \"C:\\Users\\ASUS\\.conda\\envs\\workspace\\lib\\site-packages\\tensorflow_core\\python\\keras\\applications\\__init__.py\", line 25, in <module>\n",
      "    from tensorflow.python.keras import engine\n",
      "  File \"C:\\Users\\ASUS\\.conda\\envs\\workspace\\lib\\site-packages\\tensorflow_core\\python\\keras\\engine\\__init__.py\", line 23, in <module>\n",
      "    from tensorflow.python.keras.engine.base_layer import Layer\n",
      "  File \"C:\\Users\\ASUS\\.conda\\envs\\workspace\\lib\\site-packages\\tensorflow_core\\python\\keras\\engine\\base_layer.py\", line 58, in <module>\n",
      "    from tensorflow.python.keras.saving.saved_model import save as saved_model\n",
      "  File \"C:\\Users\\ASUS\\.conda\\envs\\workspace\\lib\\site-packages\\tensorflow_core\\python\\keras\\saving\\__init__.py\", line 20, in <module>\n",
      "    from tensorflow.python.keras.saving.hdf5_format import load_attributes_from_hdf5_group\n",
      "  File \"C:\\Users\\ASUS\\.conda\\envs\\workspace\\lib\\site-packages\\tensorflow_core\\python\\keras\\saving\\hdf5_format.py\", line 32, in <module>\n",
      "    from tensorflow.python.keras.utils import conv_utils\n",
      "  File \"C:\\Users\\ASUS\\.conda\\envs\\workspace\\lib\\site-packages\\tensorflow_core\\python\\keras\\utils\\__init__.py\", line 38, in <module>\n",
      "    from tensorflow.python.keras.utils.multi_gpu_utils import multi_gpu_model\n",
      "  File \"C:\\Users\\ASUS\\.conda\\envs\\workspace\\lib\\site-packages\\tensorflow_core\\python\\keras\\utils\\multi_gpu_utils.py\", line 22, in <module>\n",
      "    from tensorflow.python.keras.engine.training import Model\n",
      "  File \"C:\\Users\\ASUS\\.conda\\envs\\workspace\\lib\\site-packages\\tensorflow_core\\python\\keras\\engine\\training.py\", line 42, in <module>\n",
      "    from tensorflow.python.keras import metrics as metrics_module\n",
      "  File \"C:\\Users\\ASUS\\.conda\\envs\\workspace\\lib\\site-packages\\tensorflow_core\\python\\keras\\metrics.py\", line 34, in <module>\n",
      "    from tensorflow.python.keras.engine.base_layer import Layer\n",
      "ImportError: cannot import name 'Layer'\n"
     ]
    }
   ],
   "source": [
    "import csv\n",
    "import tensorflow as tf\n",
    "import numpy as np\n",
    "from tensorflow.keras.preprocessing.text import Tokenizer\n",
    "from tensorflow.keras.preprocessing.sequence import pad_sequences\n",
    "import nltk\n",
    "nltk.download('stopwords')\n",
    "import pandas as pd\n",
    "from nltk.corpus import stopwords\n",
    "STOPWORDS = set(stopwords.words('english'))\n",
    "%matplotlib inline\n",
    "\n",
    "print(tf.__version__)"
   ]
  },
  {
   "cell_type": "code",
   "execution_count": 2,
   "metadata": {
    "ExecuteTime": {
     "end_time": "2021-02-02T14:18:20.952438Z",
     "start_time": "2021-02-02T14:18:20.812444Z"
    },
    "id": "lPYLwjdCPOez"
   },
   "outputs": [],
   "source": [
    "import pandas as pd\n",
    "import numpy as np\n",
    "import joblib\n",
    "from time import time\n",
    "\n",
    "\n",
    "def get_data(urls, sheets, types):\n",
    "    data = \"\"\n",
    "    t0 = time()\n",
    "    a = []\n",
    "    i = 0\n",
    "    for s in sheets:\n",
    "        s = pd.read_excel(urls, sheet_name=s)\n",
    "        s = s[[types, 'description']]\n",
    "        s['description'] = s['description'].str.lower()\n",
    "        print(len(s))\n",
    "        if i == 0:\n",
    "            data = s.copy()\n",
    "        else:\n",
    "            data = pd.concat([data, s], ignore_index=True)\n",
    "        i += 1\n",
    "    data.columns = ['target', 'data']\n",
    "    data['target'] = data['target'].apply(str)\n",
    "    load_time = time() - t0\n",
    "    print(\"Load dataset time:  %0.3fs\" % load_time)\n",
    "\n",
    "    return data"
   ]
  },
  {
   "cell_type": "code",
   "execution_count": null,
   "metadata": {
    "ExecuteTime": {
     "start_time": "2021-02-02T14:14:18.525Z"
    },
    "colab": {
     "base_uri": "https://localhost:8080/",
     "height": 427
    },
    "id": "hIbk2Q-mPYSS",
    "outputId": "abab7915-3a5f-40b9-a0b5-73f7b899221a"
   },
   "outputs": [],
   "source": [
    "t0 = time()\n",
    "urls = 'https://github.com/dragon-library/work_space/raw/main/HS_Code/Lab/data/hs_code.xlsx'\n",
    "types = 'section'\n",
    "#sheets = ['8_digit','6_digit','4_digit', 'test_01', 'Declaration_2019_10']\n",
    "sheets = ['8_digit','6_digit','4_digit', '2_digit']\n",
    "df = get_data(urls,sheets,types)\n",
    "\n",
    "print(len(df))\n",
    "df.columns = ['category', 'text']\n",
    "\n",
    "print(len(df))\n",
    "\n",
    "load_time = time() - t0\n",
    "print(\"Load data time:  %0.3fs\" % load_time)\n",
    "df.sample(10)"
   ]
  },
  {
   "cell_type": "code",
   "execution_count": null,
   "metadata": {
    "ExecuteTime": {
     "start_time": "2021-02-02T14:14:18.530Z"
    },
    "id": "38E7fIkF2m8_"
   },
   "outputs": [],
   "source": [
    "vocab_size = 5000\n",
    "embedding_dim = 64\n",
    "max_length = 200\n",
    "trunc_type = 'post'\n",
    "padding_type = 'post'\n",
    "oov_tok = '<OOV>'\n",
    "training_portion = .8"
   ]
  },
  {
   "cell_type": "code",
   "execution_count": null,
   "metadata": {
    "ExecuteTime": {
     "start_time": "2021-02-02T14:14:18.535Z"
    },
    "id": "QEsXtLS7RWkP"
   },
   "outputs": [],
   "source": [
    "labels = df.category\n",
    "articles = df.text"
   ]
  },
  {
   "cell_type": "code",
   "execution_count": null,
   "metadata": {
    "ExecuteTime": {
     "start_time": "2021-02-02T14:14:18.538Z"
    },
    "colab": {
     "base_uri": "https://localhost:8080/"
    },
    "id": "BeizbrDM2m8_",
    "outputId": "481e14a5-6eb0-4b67-8c92-469122bfb426"
   },
   "outputs": [],
   "source": [
    "train_size = int(len(articles) * training_portion)\n",
    "\n",
    "train_articles = articles[0: train_size]\n",
    "train_labels = labels[0: train_size]\n",
    "\n",
    "validation_articles = articles[train_size:]\n",
    "validation_labels = labels[train_size:]\n",
    "\n",
    "print(train_size)\n",
    "print(len(train_articles))\n",
    "print(len(train_labels))\n",
    "print(len(validation_articles))\n",
    "print(len(validation_labels))"
   ]
  },
  {
   "cell_type": "code",
   "execution_count": null,
   "metadata": {
    "ExecuteTime": {
     "start_time": "2021-02-02T14:14:18.543Z"
    },
    "colab": {
     "base_uri": "https://localhost:8080/"
    },
    "id": "eeWD5oVe2m8_",
    "outputId": "44d52912-d322-4e6b-ae1f-0f549c001ee7"
   },
   "outputs": [],
   "source": [
    "tokenizer = Tokenizer(num_words = vocab_size, oov_token=oov_tok)\n",
    "tokenizer.fit_on_texts(train_articles)\n",
    "word_index = tokenizer.word_index\n",
    "dict(list(word_index.items())[0:10])"
   ]
  },
  {
   "cell_type": "code",
   "execution_count": null,
   "metadata": {
    "ExecuteTime": {
     "start_time": "2021-02-02T14:14:18.547Z"
    },
    "colab": {
     "base_uri": "https://localhost:8080/"
    },
    "id": "Qtx1PoAW2m8_",
    "outputId": "ad396a09-783a-406b-e4fb-520591f6fe96"
   },
   "outputs": [],
   "source": [
    "train_sequences = tokenizer.texts_to_sequences(train_articles)\n",
    "print(train_sequences[10])"
   ]
  },
  {
   "cell_type": "code",
   "execution_count": null,
   "metadata": {
    "ExecuteTime": {
     "start_time": "2021-02-02T14:14:18.550Z"
    },
    "colab": {
     "base_uri": "https://localhost:8080/"
    },
    "id": "gVQXONnr2m8_",
    "outputId": "502eb4a8-1fc6-45a9-fd53-895c246c7692"
   },
   "outputs": [],
   "source": [
    "train_padded = pad_sequences(train_sequences, maxlen=max_length, padding=padding_type, truncating=trunc_type)\n",
    "print(len(train_sequences[0]))\n",
    "print(len(train_padded[0]))\n",
    "\n",
    "print(len(train_sequences[1]))\n",
    "print(len(train_padded[1]))\n",
    "\n",
    "print(len(train_sequences[10]))\n",
    "print(len(train_padded[10]))"
   ]
  },
  {
   "cell_type": "code",
   "execution_count": null,
   "metadata": {
    "ExecuteTime": {
     "start_time": "2021-02-02T14:14:18.554Z"
    },
    "colab": {
     "base_uri": "https://localhost:8080/"
    },
    "id": "f1_HfalA2m8_",
    "outputId": "9cbcb763-ef50-4eb0-e2dc-908223082dad"
   },
   "outputs": [],
   "source": [
    "print(train_padded[10])"
   ]
  },
  {
   "cell_type": "code",
   "execution_count": null,
   "metadata": {
    "ExecuteTime": {
     "start_time": "2021-02-02T14:14:18.559Z"
    },
    "colab": {
     "base_uri": "https://localhost:8080/"
    },
    "id": "N-3SjygY2m8_",
    "outputId": "405976a0-e0e5-4de8-8fd9-9203eb2ef435"
   },
   "outputs": [],
   "source": [
    "validation_sequences = tokenizer.texts_to_sequences(validation_articles)\n",
    "validation_padded = pad_sequences(validation_sequences, maxlen=max_length, padding=padding_type, truncating=trunc_type)\n",
    "\n",
    "print(len(validation_sequences))\n",
    "print(validation_padded.shape)"
   ]
  },
  {
   "cell_type": "code",
   "execution_count": null,
   "metadata": {
    "ExecuteTime": {
     "start_time": "2021-02-02T14:14:18.563Z"
    },
    "colab": {
     "base_uri": "https://localhost:8080/"
    },
    "id": "efwDgV3r2m8_",
    "outputId": "1d24e321-5bc0-4aca-ca1f-8a8aa231f488"
   },
   "outputs": [],
   "source": [
    "label_tokenizer = Tokenizer()\n",
    "label_tokenizer.fit_on_texts(labels)\n",
    "\n",
    "training_label_seq = np.array(label_tokenizer.texts_to_sequences(train_labels))\n",
    "validation_label_seq = np.array(label_tokenizer.texts_to_sequences(validation_labels))\n",
    "print(training_label_seq[0])\n",
    "print(training_label_seq[1])\n",
    "print(training_label_seq[2])\n",
    "print(training_label_seq.shape)\n",
    "\n",
    "print(validation_label_seq[0])\n",
    "print(validation_label_seq[1])\n",
    "print(validation_label_seq[2])\n",
    "print(validation_label_seq.shape)"
   ]
  },
  {
   "cell_type": "code",
   "execution_count": null,
   "metadata": {
    "ExecuteTime": {
     "start_time": "2021-02-02T14:14:18.568Z"
    },
    "colab": {
     "base_uri": "https://localhost:8080/"
    },
    "id": "zslzyWW32m9A",
    "outputId": "e760a804-4f99-480b-bc2f-a967e874d008"
   },
   "outputs": [],
   "source": [
    "reverse_word_index = dict([(value, key) for (key, value) in word_index.items()])\n",
    "\n",
    "def decode_article(text):\n",
    "    return ' '.join([reverse_word_index.get(i, '?') for i in text])\n",
    "print(decode_article(train_padded[10]))\n",
    "print('---')\n",
    "print(train_articles[10])"
   ]
  },
  {
   "cell_type": "code",
   "execution_count": null,
   "metadata": {
    "ExecuteTime": {
     "start_time": "2021-02-02T14:14:18.572Z"
    },
    "colab": {
     "base_uri": "https://localhost:8080/"
    },
    "id": "2JNawmyh2m9A",
    "outputId": "f9d68069-2627-4923-cc98-84e3605b8984"
   },
   "outputs": [],
   "source": [
    "model = tf.keras.Sequential([\n",
    "    # Add an Embedding layer expecting input vocab of size 5000, and output embedding dimension of size 64 we set at the top\n",
    "    tf.keras.layers.Embedding(vocab_size, embedding_dim),\n",
    "    tf.keras.layers.Bidirectional(tf.keras.layers.LSTM(embedding_dim)),\n",
    "#    tf.keras.layers.Bidirectional(tf.keras.layers.LSTM(32)),\n",
    "    # use ReLU in place of tanh function since they are very good alternatives of each other.\n",
    "    tf.keras.layers.Dense(embedding_dim, activation='relu'),\n",
    "    # Add a Dense layer with 6 units and softmax activation.\n",
    "    # When we have multiple outputs, softmax convert outputs layers into a probability distribution.\n",
    "    tf.keras.layers.Dense(32, activation='softmax')\n",
    "])\n",
    "model.summary()"
   ]
  },
  {
   "cell_type": "code",
   "execution_count": null,
   "metadata": {
    "ExecuteTime": {
     "start_time": "2021-02-02T14:14:18.576Z"
    },
    "colab": {
     "base_uri": "https://localhost:8080/"
    },
    "id": "BG20wv1n2m9A",
    "outputId": "b8199afb-efc9-491e-aa2c-8f24ef993e81"
   },
   "outputs": [],
   "source": [
    "print(set(labels))"
   ]
  },
  {
   "cell_type": "code",
   "execution_count": null,
   "metadata": {
    "ExecuteTime": {
     "start_time": "2021-02-02T14:14:18.580Z"
    },
    "colab": {
     "base_uri": "https://localhost:8080/"
    },
    "id": "HigYTD0V2m9A",
    "outputId": "6bc53f2c-2059-401c-a1f2-161edfed090b"
   },
   "outputs": [],
   "source": [
    "model.compile(loss='sparse_categorical_crossentropy', optimizer='adam', metrics=['accuracy'])\n",
    "num_epochs = 5\n",
    "history = model.fit(train_padded, training_label_seq, epochs=num_epochs, validation_data=(validation_padded, validation_label_seq), verbose=2)"
   ]
  },
  {
   "cell_type": "code",
   "execution_count": null,
   "metadata": {
    "ExecuteTime": {
     "start_time": "2021-02-02T14:14:18.584Z"
    },
    "colab": {
     "base_uri": "https://localhost:8080/"
    },
    "id": "oOJdZ8bv2m9A",
    "outputId": "b59bc528-6fc4-4bb7-ff75-1ba651ddcf28"
   },
   "outputs": [],
   "source": [
    "import matplotlib.pyplot as plt\n",
    "\n",
    "def plot_graphs(history, string):\n",
    "    plt.plot(history.history[string])\n",
    "    plt.plot(history.history['val_'+string])\n",
    "    plt.xlabel(\"Epochs\")\n",
    "    plt.ylabel(string)\n",
    "    plt.legend([string, 'val_'+string])\n",
    "    plt.show()\n",
    "\n",
    "plot_graphs(history, \"accuracy\")\n",
    "plot_graphs(history, \"loss\")"
   ]
  },
  {
   "cell_type": "markdown",
   "metadata": {},
   "source": [
    "## Save Model"
   ]
  },
  {
   "cell_type": "code",
   "execution_count": null,
   "metadata": {
    "ExecuteTime": {
     "start_time": "2021-02-02T14:14:18.698Z"
    },
    "colab": {
     "base_uri": "https://localhost:8080/",
     "height": 324
    },
    "id": "6D-p-RCF3uPT",
    "outputId": "28a8ad1a-9663-4d6d-eee6-318aa3b96bca"
   },
   "outputs": [],
   "source": [
    " #save the model\n",
    "print(\"Save Model\")\n",
    "\n",
    "joblib.dump(model, 'data/new_model/model_section.pkl', compress=1)\n",
    "print(\"Create Model.. success\")"
   ]
  },
  {
   "cell_type": "code",
   "execution_count": null,
   "metadata": {
    "id": "RQBY--nv2m9A"
   },
   "outputs": [],
   "source": []
  }
 ],
 "metadata": {
  "colab": {
   "collapsed_sections": [],
   "include_colab_link": true,
   "name": "test-multi-class-text-classification-with-lstm.ipynb",
   "provenance": [],
   "toc_visible": true
  },
  "hide_input": false,
  "kernelspec": {
   "display_name": "workspace",
   "language": "python",
   "name": "workspace"
  },
  "language_info": {
   "codemirror_mode": {
    "name": "ipython",
    "version": 3
   },
   "file_extension": ".py",
   "mimetype": "text/x-python",
   "name": "python",
   "nbconvert_exporter": "python",
   "pygments_lexer": "ipython3",
   "version": "3.6.12"
  },
  "latex_envs": {
   "LaTeX_envs_menu_present": true,
   "autoclose": false,
   "autocomplete": true,
   "bibliofile": "biblio.bib",
   "cite_by": "apalike",
   "current_citInitial": 1,
   "eqLabelWithNumbers": true,
   "eqNumInitial": 1,
   "hotkeys": {
    "equation": "Ctrl-E",
    "itemize": "Ctrl-I"
   },
   "labels_anchors": false,
   "latex_user_defs": false,
   "report_style_numbering": false,
   "user_envs_cfg": false
  },
  "nbTranslate": {
   "displayLangs": [
    "*"
   ],
   "hotkey": "alt-t",
   "langInMainMenu": true,
   "sourceLang": "en",
   "targetLang": "fr",
   "useGoogleTranslate": true
  },
  "toc": {
   "base_numbering": 1,
   "nav_menu": {},
   "number_sections": false,
   "sideBar": true,
   "skip_h1_title": false,
   "title_cell": "Table of Contents",
   "title_sidebar": "Contents",
   "toc_cell": false,
   "toc_position": {
    "height": "calc(100% - 180px)",
    "left": "10px",
    "top": "150px",
    "width": "269.797px"
   },
   "toc_section_display": true,
   "toc_window_display": true
  }
 },
 "nbformat": 4,
 "nbformat_minor": 1
}
