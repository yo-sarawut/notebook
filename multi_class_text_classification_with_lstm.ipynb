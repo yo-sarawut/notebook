{
  "nbformat": 4,
  "nbformat_minor": 0,
  "metadata": {
    "kernelspec": {
      "display_name": "Python 3",
      "language": "python",
      "name": "python3"
    },
    "language_info": {
      "codemirror_mode": {
        "name": "ipython",
        "version": 3
      },
      "file_extension": ".py",
      "mimetype": "text/x-python",
      "name": "python",
      "nbconvert_exporter": "python",
      "pygments_lexer": "ipython3",
      "version": "3.8.3"
    },
    "nbTranslate": {
      "displayLangs": [
        "*"
      ],
      "hotkey": "alt-t",
      "langInMainMenu": true,
      "sourceLang": "en",
      "targetLang": "fr",
      "useGoogleTranslate": true
    },
    "toc": {
      "base_numbering": 1,
      "nav_menu": {},
      "number_sections": false,
      "sideBar": true,
      "skip_h1_title": false,
      "title_cell": "Table of Contents",
      "title_sidebar": "Contents",
      "toc_cell": false,
      "toc_position": {
        "height": "calc(100% - 180px)",
        "left": "10px",
        "top": "150px",
        "width": "269.797px"
      },
      "toc_section_display": true,
      "toc_window_display": true
    },
    "colab": {
      "name": "test-multi-class-text-classification-with-lstm.ipynb",
      "provenance": [],
      "collapsed_sections": [],
      "toc_visible": true,
      "include_colab_link": true
    }
  },
  "cells": [
    {
      "cell_type": "markdown",
      "metadata": {
        "id": "view-in-github",
        "colab_type": "text"
      },
      "source": [
        "<a href=\"https://colab.research.google.com/github/yosarawut/notebook/blob/main/multi_class_text_classification_with_lstm.ipynb\" target=\"_parent\"><img src=\"https://colab.research.google.com/assets/colab-badge.svg\" alt=\"Open In Colab\"/></a>"
      ]
    },
    {
      "cell_type": "markdown",
      "metadata": {
        "id": "Fnx5tVUB2m83"
      },
      "source": [
        "Multi Class Text Classification with LSTM using TensorFlow 2.0\n",
        "===\n",
        "\n",
        "Recurrent Neural Networks, Long Short Term Memory\n",
        "\n",
        "- https://towardsdatascience.com/multi-class-text-classification-with-lstm-using-tensorflow-2-0-d88627c10a35"
      ]
    },
    {
      "cell_type": "code",
      "metadata": {
        "ExecuteTime": {
          "end_time": "2020-11-19T13:45:47.236477Z",
          "start_time": "2020-11-19T13:45:44.902715Z"
        },
        "id": "2lidfsRH2m87"
      },
      "source": [
        "!pip install tensorflow -q"
      ],
      "execution_count": 1,
      "outputs": []
    },
    {
      "cell_type": "code",
      "metadata": {
        "id": "kQhUtrh499rq"
      },
      "source": [
        "!pip install matplotlib -q"
      ],
      "execution_count": 2,
      "outputs": []
    },
    {
      "cell_type": "code",
      "metadata": {
        "ExecuteTime": {
          "end_time": "2020-11-19T14:10:51.642404Z",
          "start_time": "2020-11-19T14:10:51.611376Z"
        },
        "colab": {
          "base_uri": "https://localhost:8080/"
        },
        "id": "66TGumeF2m8-",
        "outputId": "38dd973a-cee7-423e-d50e-313fd39a3d09"
      },
      "source": [
        "import csv\n",
        "import tensorflow as tf\n",
        "import numpy as np\n",
        "from tensorflow.keras.preprocessing.text import Tokenizer\n",
        "from tensorflow.keras.preprocessing.sequence import pad_sequences\n",
        "import nltk\n",
        "nltk.download('stopwords')\n",
        "import pandas as pd\n",
        "from nltk.corpus import stopwords\n",
        "STOPWORDS = set(stopwords.words('english'))\n",
        "%matplotlib inline\n",
        "\n",
        "print(tf.__version__)"
      ],
      "execution_count": 3,
      "outputs": [
        {
          "output_type": "stream",
          "text": [
            "[nltk_data] Downloading package stopwords to /root/nltk_data...\n",
            "[nltk_data]   Unzipping corpora/stopwords.zip.\n",
            "2.3.0\n"
          ],
          "name": "stdout"
        }
      ]
    },
    {
      "cell_type": "code",
      "metadata": {
        "id": "lPYLwjdCPOez"
      },
      "source": [
        "import pandas as pd\n",
        "import numpy as np\n",
        "import joblib\n",
        "from time import time\n",
        "\n",
        "\n",
        "def get_data(urls, sheets, types):\n",
        "    data = \"\"\n",
        "    t0 = time()\n",
        "    a = []\n",
        "    i = 0\n",
        "    for s in sheets:\n",
        "        s = pd.read_excel(urls, sheet_name=s)\n",
        "        s = s[[types, 'description']]\n",
        "        s['description'] = s['description'].str.lower()\n",
        "        if i == 0:\n",
        "            data = s.copy()\n",
        "        else:\n",
        "            data = pd.concat([data, s], ignore_index=True)\n",
        "        i += 1\n",
        "    data.columns = ['target', 'data']\n",
        "    data['target'] = data['target'].apply(str)\n",
        "    load_time = time() - t0\n",
        "    print(\"Load dataset time:  %0.3fs\" % load_time)\n",
        "\n",
        "    return data"
      ],
      "execution_count": 4,
      "outputs": []
    },
    {
      "cell_type": "code",
      "metadata": {
        "colab": {
          "base_uri": "https://localhost:8080/",
          "height": 427
        },
        "id": "hIbk2Q-mPYSS",
        "outputId": "faa692be-9ae5-4316-9a02-7dcd695c7e73"
      },
      "source": [
        "t0 = time()\n",
        "urls = 'https://github.com/dragon-library/work_space/raw/main/HS_Code/Lab/data/hs_code.xlsx'\n",
        "types = 'section'\n",
        "#sheets = ['8_digit','6_digit','4_digit', 'test_01', 'Declaration_2019_10']\n",
        "sheets = ['8_digit','6_digit','4_digit', '2_digit']\n",
        "df = get_data(urls,sheets,types)\n",
        "\n",
        "print(len(df))\n",
        "df.columns = ['category', 'text']\n",
        "\n",
        "print(len(df))\n",
        "\n",
        "load_time = time() - t0\n",
        "print(\"Load data time:  %0.3fs\" % load_time)\n",
        "df.sample(10)"
      ],
      "execution_count": 5,
      "outputs": [
        {
          "output_type": "stream",
          "text": [
            "Load dataset time:  46.847s\n",
            "17222\n",
            "17222\n",
            "Load data time:  46.848s\n"
          ],
          "name": "stdout"
        },
        {
          "output_type": "execute_result",
          "data": {
            "text/html": [
              "<div>\n",
              "<style scoped>\n",
              "    .dataframe tbody tr th:only-of-type {\n",
              "        vertical-align: middle;\n",
              "    }\n",
              "\n",
              "    .dataframe tbody tr th {\n",
              "        vertical-align: top;\n",
              "    }\n",
              "\n",
              "    .dataframe thead th {\n",
              "        text-align: right;\n",
              "    }\n",
              "</style>\n",
              "<table border=\"1\" class=\"dataframe\">\n",
              "  <thead>\n",
              "    <tr style=\"text-align: right;\">\n",
              "      <th></th>\n",
              "      <th>category</th>\n",
              "      <th>text</th>\n",
              "    </tr>\n",
              "  </thead>\n",
              "  <tbody>\n",
              "    <tr>\n",
              "      <th>12335</th>\n",
              "      <td>6</td>\n",
              "      <td>albumins; egg albumin, dried</td>\n",
              "    </tr>\n",
              "    <tr>\n",
              "      <th>12743</th>\n",
              "      <td>8</td>\n",
              "      <td>furskins; raw, of astrakhan, broadtail, caracu...</td>\n",
              "    </tr>\n",
              "    <tr>\n",
              "      <th>8736</th>\n",
              "      <td>16</td>\n",
              "      <td>media n.e.c. in heading 8523, whether or not r...</td>\n",
              "    </tr>\n",
              "    <tr>\n",
              "      <th>10285</th>\n",
              "      <td>20</td>\n",
              "      <td>seats; n.e.c. in heading no. 9401, (excluding ...</td>\n",
              "    </tr>\n",
              "    <tr>\n",
              "      <th>11905</th>\n",
              "      <td>6</td>\n",
              "      <td>epoxides, epoxyalcohols, epoxyphenols and epox...</td>\n",
              "    </tr>\n",
              "    <tr>\n",
              "      <th>10988</th>\n",
              "      <td>2</td>\n",
              "      <td>vegetable roots and tubers; manioc (cassava), ...</td>\n",
              "    </tr>\n",
              "    <tr>\n",
              "      <th>13148</th>\n",
              "      <td>11</td>\n",
              "      <td>fabrics, woven; containing 85% or more by weig...</td>\n",
              "    </tr>\n",
              "    <tr>\n",
              "      <th>12554</th>\n",
              "      <td>7</td>\n",
              "      <td>plastics; tube, pipe and hose fittings (e.g. j...</td>\n",
              "    </tr>\n",
              "    <tr>\n",
              "      <th>3995</th>\n",
              "      <td>9</td>\n",
              "      <td>wood; of bamboo, articles n.e.c. in heading no...</td>\n",
              "    </tr>\n",
              "    <tr>\n",
              "      <th>17195</th>\n",
              "      <td>13</td>\n",
              "      <td>glass and glassware</td>\n",
              "    </tr>\n",
              "  </tbody>\n",
              "</table>\n",
              "</div>"
            ],
            "text/plain": [
              "      category                                               text\n",
              "12335        6                       albumins; egg albumin, dried\n",
              "12743        8  furskins; raw, of astrakhan, broadtail, caracu...\n",
              "8736        16  media n.e.c. in heading 8523, whether or not r...\n",
              "10285       20  seats; n.e.c. in heading no. 9401, (excluding ...\n",
              "11905        6  epoxides, epoxyalcohols, epoxyphenols and epox...\n",
              "10988        2  vegetable roots and tubers; manioc (cassava), ...\n",
              "13148       11  fabrics, woven; containing 85% or more by weig...\n",
              "12554        7  plastics; tube, pipe and hose fittings (e.g. j...\n",
              "3995         9  wood; of bamboo, articles n.e.c. in heading no...\n",
              "17195       13                                glass and glassware"
            ]
          },
          "metadata": {
            "tags": []
          },
          "execution_count": 5
        }
      ]
    },
    {
      "cell_type": "code",
      "metadata": {
        "id": "38E7fIkF2m8_"
      },
      "source": [
        "vocab_size = 5000\n",
        "embedding_dim = 64\n",
        "max_length = 200\n",
        "trunc_type = 'post'\n",
        "padding_type = 'post'\n",
        "oov_tok = '<OOV>'\n",
        "training_portion = .8"
      ],
      "execution_count": 6,
      "outputs": []
    },
    {
      "cell_type": "code",
      "metadata": {
        "id": "QEsXtLS7RWkP"
      },
      "source": [
        "labels = df.category\n",
        "articles = df.text"
      ],
      "execution_count": 7,
      "outputs": []
    },
    {
      "cell_type": "code",
      "metadata": {
        "colab": {
          "base_uri": "https://localhost:8080/"
        },
        "id": "BeizbrDM2m8_",
        "outputId": "253ce18f-e00b-4477-9207-bb486164bd8e"
      },
      "source": [
        "train_size = int(len(articles) * training_portion)\n",
        "\n",
        "train_articles = articles[0: train_size]\n",
        "train_labels = labels[0: train_size]\n",
        "\n",
        "validation_articles = articles[train_size:]\n",
        "validation_labels = labels[train_size:]\n",
        "\n",
        "print(train_size)\n",
        "print(len(train_articles))\n",
        "print(len(train_labels))\n",
        "print(len(validation_articles))\n",
        "print(len(validation_labels))"
      ],
      "execution_count": 8,
      "outputs": [
        {
          "output_type": "stream",
          "text": [
            "13777\n",
            "13777\n",
            "13777\n",
            "3445\n",
            "3445\n"
          ],
          "name": "stdout"
        }
      ]
    },
    {
      "cell_type": "code",
      "metadata": {
        "colab": {
          "base_uri": "https://localhost:8080/"
        },
        "id": "eeWD5oVe2m8_",
        "outputId": "e712d015-5709-48dd-c2f5-255b8b7ba743"
      },
      "source": [
        "tokenizer = Tokenizer(num_words = vocab_size, oov_token=oov_tok)\n",
        "tokenizer.fit_on_texts(train_articles)\n",
        "word_index = tokenizer.word_index\n",
        "dict(list(word_index.items())[0:10])"
      ],
      "execution_count": 9,
      "outputs": [
        {
          "output_type": "execute_result",
          "data": {
            "text/plain": [
              "{'<OOV>': 1,\n",
              " 'a': 10,\n",
              " 'and': 4,\n",
              " 'for': 8,\n",
              " 'in': 7,\n",
              " 'not': 6,\n",
              " 'of': 3,\n",
              " 'or': 2,\n",
              " 'other': 5,\n",
              " 'than': 9}"
            ]
          },
          "metadata": {
            "tags": []
          },
          "execution_count": 9
        }
      ]
    },
    {
      "cell_type": "code",
      "metadata": {
        "colab": {
          "base_uri": "https://localhost:8080/"
        },
        "id": "Qtx1PoAW2m8_",
        "outputId": "50230211-fb06-4320-a16b-c041bbcdcdf0"
      },
      "source": [
        "train_sequences = tokenizer.texts_to_sequences(train_articles)\n",
        "print(train_sequences[10])"
      ],
      "execution_count": 10,
      "outputs": [
        {
          "output_type": "stream",
          "text": [
            "[527, 368, 152, 5, 9, 2531, 4, 1310, 1598, 771, 368]\n"
          ],
          "name": "stdout"
        }
      ]
    },
    {
      "cell_type": "code",
      "metadata": {
        "colab": {
          "base_uri": "https://localhost:8080/"
        },
        "id": "gVQXONnr2m8_",
        "outputId": "054c9fa8-311a-46e5-cce4-b195e2356116"
      },
      "source": [
        "train_padded = pad_sequences(train_sequences, maxlen=max_length, padding=padding_type, truncating=trunc_type)\n",
        "print(len(train_sequences[0]))\n",
        "print(len(train_padded[0]))\n",
        "\n",
        "print(len(train_sequences[1]))\n",
        "print(len(train_padded[1]))\n",
        "\n",
        "print(len(train_sequences[10]))\n",
        "print(len(train_padded[10]))"
      ],
      "execution_count": 11,
      "outputs": [
        {
          "output_type": "stream",
          "text": [
            "8\n",
            "200\n",
            "8\n",
            "200\n",
            "11\n",
            "200\n"
          ],
          "name": "stdout"
        }
      ]
    },
    {
      "cell_type": "code",
      "metadata": {
        "colab": {
          "base_uri": "https://localhost:8080/"
        },
        "id": "f1_HfalA2m8_",
        "outputId": "ae9c6266-e248-44ce-8d70-bf0f370fb349"
      },
      "source": [
        "print(train_padded[10])"
      ],
      "execution_count": 12,
      "outputs": [
        {
          "output_type": "stream",
          "text": [
            "[ 527  368  152    5    9 2531    4 1310 1598  771  368    0    0    0\n",
            "    0    0    0    0    0    0    0    0    0    0    0    0    0    0\n",
            "    0    0    0    0    0    0    0    0    0    0    0    0    0    0\n",
            "    0    0    0    0    0    0    0    0    0    0    0    0    0    0\n",
            "    0    0    0    0    0    0    0    0    0    0    0    0    0    0\n",
            "    0    0    0    0    0    0    0    0    0    0    0    0    0    0\n",
            "    0    0    0    0    0    0    0    0    0    0    0    0    0    0\n",
            "    0    0    0    0    0    0    0    0    0    0    0    0    0    0\n",
            "    0    0    0    0    0    0    0    0    0    0    0    0    0    0\n",
            "    0    0    0    0    0    0    0    0    0    0    0    0    0    0\n",
            "    0    0    0    0    0    0    0    0    0    0    0    0    0    0\n",
            "    0    0    0    0    0    0    0    0    0    0    0    0    0    0\n",
            "    0    0    0    0    0    0    0    0    0    0    0    0    0    0\n",
            "    0    0    0    0    0    0    0    0    0    0    0    0    0    0\n",
            "    0    0    0    0]\n"
          ],
          "name": "stdout"
        }
      ]
    },
    {
      "cell_type": "code",
      "metadata": {
        "colab": {
          "base_uri": "https://localhost:8080/"
        },
        "id": "N-3SjygY2m8_",
        "outputId": "e2818f05-e8f1-468e-b41e-72a7edc06e2c"
      },
      "source": [
        "validation_sequences = tokenizer.texts_to_sequences(validation_articles)\n",
        "validation_padded = pad_sequences(validation_sequences, maxlen=max_length, padding=padding_type, truncating=trunc_type)\n",
        "\n",
        "print(len(validation_sequences))\n",
        "print(validation_padded.shape)"
      ],
      "execution_count": 13,
      "outputs": [
        {
          "output_type": "stream",
          "text": [
            "3445\n",
            "(3445, 200)\n"
          ],
          "name": "stdout"
        }
      ]
    },
    {
      "cell_type": "code",
      "metadata": {
        "colab": {
          "base_uri": "https://localhost:8080/"
        },
        "id": "efwDgV3r2m8_",
        "outputId": "bda766bf-4f06-4c99-cf9a-17cc0347508d"
      },
      "source": [
        "label_tokenizer = Tokenizer()\n",
        "label_tokenizer.fit_on_texts(labels)\n",
        "\n",
        "training_label_seq = np.array(label_tokenizer.texts_to_sequences(train_labels))\n",
        "validation_label_seq = np.array(label_tokenizer.texts_to_sequences(validation_labels))\n",
        "print(training_label_seq[0])\n",
        "print(training_label_seq[1])\n",
        "print(training_label_seq[2])\n",
        "print(training_label_seq.shape)\n",
        "\n",
        "print(validation_label_seq[0])\n",
        "print(validation_label_seq[1])\n",
        "print(validation_label_seq[2])\n",
        "print(validation_label_seq.shape)"
      ],
      "execution_count": 14,
      "outputs": [
        {
          "output_type": "stream",
          "text": [
            "[6]\n",
            "[6]\n",
            "[6]\n",
            "(13777, 1)\n",
            "[3]\n",
            "[3]\n",
            "[3]\n",
            "(3445, 1)\n"
          ],
          "name": "stdout"
        }
      ]
    },
    {
      "cell_type": "code",
      "metadata": {
        "colab": {
          "base_uri": "https://localhost:8080/"
        },
        "id": "zslzyWW32m9A",
        "outputId": "20b4edfa-bc16-4ac6-d3ff-35ea9801f14d"
      },
      "source": [
        "reverse_word_index = dict([(value, key) for (key, value) in word_index.items()])\n",
        "\n",
        "def decode_article(text):\n",
        "    return ' '.join([reverse_word_index.get(i, '?') for i in text])\n",
        "print(decode_article(train_padded[10]))\n",
        "print('---')\n",
        "print(train_articles[10])"
      ],
      "execution_count": 15,
      "outputs": [
        {
          "output_type": "stream",
          "text": [
            "bovine animals live other than cattle and buffalo purebred breeding animals ? ? ? ? ? ? ? ? ? ? ? ? ? ? ? ? ? ? ? ? ? ? ? ? ? ? ? ? ? ? ? ? ? ? ? ? ? ? ? ? ? ? ? ? ? ? ? ? ? ? ? ? ? ? ? ? ? ? ? ? ? ? ? ? ? ? ? ? ? ? ? ? ? ? ? ? ? ? ? ? ? ? ? ? ? ? ? ? ? ? ? ? ? ? ? ? ? ? ? ? ? ? ? ? ? ? ? ? ? ? ? ? ? ? ? ? ? ? ? ? ? ? ? ? ? ? ? ? ? ? ? ? ? ? ? ? ? ? ? ? ? ? ? ? ? ? ? ? ? ? ? ? ? ? ? ? ? ? ? ? ? ? ? ? ? ? ? ? ? ? ? ? ? ? ? ? ? ? ? ? ? ? ? ? ? ? ? ? ?\n",
            "---\n",
            "bovine animals; live, other than cattle and buffalo - purebred breeding animals\n"
          ],
          "name": "stdout"
        }
      ]
    },
    {
      "cell_type": "code",
      "metadata": {
        "colab": {
          "base_uri": "https://localhost:8080/"
        },
        "id": "2JNawmyh2m9A",
        "outputId": "2da225fa-58e1-4849-f574-002b27e95601"
      },
      "source": [
        "model = tf.keras.Sequential([\n",
        "    # Add an Embedding layer expecting input vocab of size 5000, and output embedding dimension of size 64 we set at the top\n",
        "    tf.keras.layers.Embedding(vocab_size, embedding_dim),\n",
        "    tf.keras.layers.Bidirectional(tf.keras.layers.LSTM(embedding_dim)),\n",
        "#    tf.keras.layers.Bidirectional(tf.keras.layers.LSTM(32)),\n",
        "    # use ReLU in place of tanh function since they are very good alternatives of each other.\n",
        "    tf.keras.layers.Dense(embedding_dim, activation='relu'),\n",
        "    # Add a Dense layer with 6 units and softmax activation.\n",
        "    # When we have multiple outputs, softmax convert outputs layers into a probability distribution.\n",
        "    tf.keras.layers.Dense(32, activation='softmax')\n",
        "])\n",
        "model.summary()"
      ],
      "execution_count": 16,
      "outputs": [
        {
          "output_type": "stream",
          "text": [
            "Model: \"sequential\"\n",
            "_________________________________________________________________\n",
            "Layer (type)                 Output Shape              Param #   \n",
            "=================================================================\n",
            "embedding (Embedding)        (None, None, 64)          320000    \n",
            "_________________________________________________________________\n",
            "bidirectional (Bidirectional (None, 128)               66048     \n",
            "_________________________________________________________________\n",
            "dense (Dense)                (None, 64)                8256      \n",
            "_________________________________________________________________\n",
            "dense_1 (Dense)              (None, 32)                2080      \n",
            "=================================================================\n",
            "Total params: 396,384\n",
            "Trainable params: 396,384\n",
            "Non-trainable params: 0\n",
            "_________________________________________________________________\n"
          ],
          "name": "stdout"
        }
      ]
    },
    {
      "cell_type": "code",
      "metadata": {
        "colab": {
          "base_uri": "https://localhost:8080/"
        },
        "id": "BG20wv1n2m9A",
        "outputId": "3cfe20c3-9d27-4f11-d236-6efd64097cbc"
      },
      "source": [
        "print(set(labels))"
      ],
      "execution_count": 17,
      "outputs": [
        {
          "output_type": "stream",
          "text": [
            "{'11', '7', '12', '10', '14', '2', '3', '8', '16', '13', '1', '6', '21', '17', '18', '19', '20', '5', '15', '4', '9'}\n"
          ],
          "name": "stdout"
        }
      ]
    },
    {
      "cell_type": "code",
      "metadata": {
        "colab": {
          "base_uri": "https://localhost:8080/"
        },
        "id": "HigYTD0V2m9A",
        "outputId": "82454077-fbbc-4a15-956f-f7760f30caff"
      },
      "source": [
        "model.compile(loss='sparse_categorical_crossentropy', optimizer='adam', metrics=['accuracy'])\n",
        "num_epochs = 10\n",
        "history = model.fit(train_padded, training_label_seq, epochs=num_epochs, validation_data=(validation_padded, validation_label_seq), verbose=2)"
      ],
      "execution_count": 18,
      "outputs": [
        {
          "output_type": "stream",
          "text": [
            "Epoch 1/10\n",
            "431/431 - 81s - loss: 1.1813 - accuracy: 0.6778 - val_loss: 0.7103 - val_accuracy: 0.8110\n",
            "Epoch 2/10\n",
            "431/431 - 80s - loss: 0.1544 - accuracy: 0.9628 - val_loss: 0.2832 - val_accuracy: 0.9202\n",
            "Epoch 3/10\n",
            "431/431 - 80s - loss: 0.0500 - accuracy: 0.9889 - val_loss: 0.2028 - val_accuracy: 0.9483\n",
            "Epoch 4/10\n",
            "431/431 - 80s - loss: 0.0255 - accuracy: 0.9953 - val_loss: 0.1689 - val_accuracy: 0.9538\n",
            "Epoch 5/10\n",
            "431/431 - 80s - loss: 0.0193 - accuracy: 0.9956 - val_loss: 0.1507 - val_accuracy: 0.9614\n",
            "Epoch 6/10\n",
            "431/431 - 80s - loss: 0.0141 - accuracy: 0.9969 - val_loss: 0.1313 - val_accuracy: 0.9655\n",
            "Epoch 7/10\n",
            "431/431 - 80s - loss: 0.0121 - accuracy: 0.9972 - val_loss: 0.1274 - val_accuracy: 0.9687\n",
            "Epoch 8/10\n",
            "431/431 - 80s - loss: 0.0102 - accuracy: 0.9969 - val_loss: 0.1664 - val_accuracy: 0.9559\n",
            "Epoch 9/10\n",
            "431/431 - 80s - loss: 0.0094 - accuracy: 0.9978 - val_loss: 0.1455 - val_accuracy: 0.9628\n",
            "Epoch 10/10\n",
            "431/431 - 80s - loss: 0.0105 - accuracy: 0.9975 - val_loss: 0.1149 - val_accuracy: 0.9721\n"
          ],
          "name": "stdout"
        }
      ]
    },
    {
      "cell_type": "code",
      "metadata": {
        "colab": {
          "base_uri": "https://localhost:8080/",
          "height": 541
        },
        "id": "oOJdZ8bv2m9A",
        "outputId": "aac5f72b-5d69-402e-a439-7a9884117648"
      },
      "source": [
        "import matplotlib.pyplot as plt\n",
        "\n",
        "def plot_graphs(history, string):\n",
        "  plt.plot(history.history[string])\n",
        "  plt.plot(history.history['val_'+string])\n",
        "  plt.xlabel(\"Epochs\")\n",
        "  plt.ylabel(string)\n",
        "  plt.legend([string, 'val_'+string])\n",
        "  plt.show()\n",
        "  \n",
        "plot_graphs(history, \"accuracy\")\n",
        "plot_graphs(history, \"loss\")"
      ],
      "execution_count": 19,
      "outputs": [
        {
          "output_type": "display_data",
          "data": {
            "image/png": "[encoded data removed]",
            "text/plain": [
              "<Figure size 432x288 with 1 Axes>"
            ]
          },
          "metadata": {
            "tags": [],
            "needs_background": "light"
          }
        },
        {
          "output_type": "display_data",
          "data": {
            "image/png": "[encoded data removed]",
            "text/plain": [
              "<Figure size 432x288 with 1 Axes>"
            ]
          },
          "metadata": {
            "tags": [],
            "needs_background": "light"
          }
        }
      ]
    },
    {
      "cell_type": "code",
      "metadata": {
        "colab": {
          "base_uri": "https://localhost:8080/",
          "height": 181
        },
        "id": "kOwlBobo_-Fi",
        "outputId": "45239f70-af57-4d38-bd44-63833b1f3b4e"
      },
      "source": [
        "from sklearn.metrics import classification_report\n",
        "print (classification_report(validation_data, pred))"
      ],
      "execution_count": 20,
      "outputs": [
        {
          "output_type": "error",
          "ename": "NameError",
          "evalue": "ignored",
          "traceback": [
            "\u001b[0;31m---------------------------------------------------------------------------\u001b[0m",
            "\u001b[0;31mNameError\u001b[0m                                 Traceback (most recent call last)",
            "\u001b[0;32m<ipython-input-20-60b160e16640>\u001b[0m in \u001b[0;36m<module>\u001b[0;34m()\u001b[0m\n\u001b[1;32m      1\u001b[0m \u001b[0;32mfrom\u001b[0m \u001b[0msklearn\u001b[0m\u001b[0;34m.\u001b[0m\u001b[0mmetrics\u001b[0m \u001b[0;32mimport\u001b[0m \u001b[0mclassification_report\u001b[0m\u001b[0;34m\u001b[0m\u001b[0;34m\u001b[0m\u001b[0m\n\u001b[0;32m----> 2\u001b[0;31m \u001b[0mprint\u001b[0m \u001b[0;34m(\u001b[0m\u001b[0mclassification_report\u001b[0m\u001b[0;34m(\u001b[0m\u001b[0mvalidation_data\u001b[0m\u001b[0;34m,\u001b[0m \u001b[0mpred\u001b[0m\u001b[0;34m)\u001b[0m\u001b[0;34m)\u001b[0m\u001b[0;34m\u001b[0m\u001b[0;34m\u001b[0m\u001b[0m\n\u001b[0m",
            "\u001b[0;31mNameError\u001b[0m: name 'validation_data' is not defined"
          ]
        }
      ]
    },
    {
      "cell_type": "code",
      "metadata": {
        "id": "0O9dCTsd2m9A"
      },
      "source": [
        "#save the model\n",
        "import joblib\n",
        "import pickle\n",
        "\n",
        "files = \"model_LSTM_section.pkl\"\n",
        "print(\"Save Model\")\n",
        "joblib.dump(model, \"content/model_LSTM_section.pkl\", compress=1)\n",
        "print(\"Success\")"
      ],
      "execution_count": null,
      "outputs": []
    },
    {
      "cell_type": "code",
      "metadata": {
        "id": "RQBY--nv2m9A"
      },
      "source": [
        ""
      ],
      "execution_count": null,
      "outputs": []
    }
  ]
}