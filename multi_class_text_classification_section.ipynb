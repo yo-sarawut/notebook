{
  "nbformat": 4,
  "nbformat_minor": 0,
  "metadata": {
    "colab": {
      "name": "multi-class-text-classification-section.ipynb",
      "provenance": [],
      "collapsed_sections": [],
      "include_colab_link": true
    },
    "kernelspec": {
      "display_name": "Python 3",
      "language": "python",
      "name": "python3"
    },
    "language_info": {
      "codemirror_mode": {
        "name": "ipython",
        "version": 3
      },
      "file_extension": ".py",
      "mimetype": "text/x-python",
      "name": "python",
      "nbconvert_exporter": "python",
      "pygments_lexer": "ipython3",
      "version": "3.8.3"
    },
    "nbTranslate": {
      "displayLangs": [
        "*"
      ],
      "hotkey": "alt-t",
      "langInMainMenu": true,
      "sourceLang": "en",
      "targetLang": "fr",
      "useGoogleTranslate": true
    },
    "toc": {
      "base_numbering": 1,
      "nav_menu": {},
      "number_sections": false,
      "sideBar": true,
      "skip_h1_title": false,
      "title_cell": "Table of Contents",
      "title_sidebar": "Contents",
      "toc_cell": false,
      "toc_position": {
        "height": "calc(100% - 180px)",
        "left": "10px",
        "top": "150px",
        "width": "269.797px"
      },
      "toc_section_display": true,
      "toc_window_display": true
    }
  },
  "cells": [
    {
      "cell_type": "markdown",
      "metadata": {
        "id": "view-in-github",
        "colab_type": "text"
      },
      "source": [
        "<a href=\"https://colab.research.google.com/github/yosarawut/notebook/blob/main/multi_class_text_classification_section.ipynb\" target=\"_parent\"><img src=\"https://colab.research.google.com/assets/colab-badge.svg\" alt=\"Open In Colab\"/></a>"
      ]
    },
    {
      "cell_type": "markdown",
      "metadata": {
        "id": "Fnx5tVUB2m83"
      },
      "source": [
        "Multi Class Text Classification with LSTM using TensorFlow 2.0\n",
        "===\n",
        "\n",
        "Recurrent Neural Networks, Long Short Term Memory\n",
        "\n",
        "- https://towardsdatascience.com/multi-class-text-classification-with-lstm-using-tensorflow-2-0-d88627c10a35"
      ]
    },
    {
      "cell_type": "markdown",
      "metadata": {
        "id": "Z9m01kuO8BFS"
      },
      "source": [
        "## 4 Digit"
      ]
    },
    {
      "cell_type": "code",
      "metadata": {
        "id": "2lidfsRH2m87"
      },
      "source": [
        "#!pip install tensorflow -q\n",
        "#!pip install matplotlib -q"
      ],
      "execution_count": 1,
      "outputs": []
    },
    {
      "cell_type": "code",
      "metadata": {
        "colab": {
          "base_uri": "https://localhost:8080/"
        },
        "id": "66TGumeF2m8-",
        "outputId": "4eaa8d57-da2a-4825-a9d2-ada46a565d24"
      },
      "source": [
        "import csv\n",
        "import tensorflow as tf\n",
        "import numpy as np\n",
        "from tensorflow.keras.preprocessing.text import Tokenizer\n",
        "from tensorflow.keras.preprocessing.sequence import pad_sequences\n",
        "import nltk\n",
        "nltk.download('stopwords')\n",
        "import pandas as pd\n",
        "from nltk.corpus import stopwords\n",
        "STOPWORDS = set(stopwords.words('english'))\n",
        "%matplotlib inline\n",
        "\n",
        "print(tf.__version__)"
      ],
      "execution_count": 2,
      "outputs": [
        {
          "output_type": "stream",
          "text": [
            "[nltk_data] Downloading package stopwords to /root/nltk_data...\n",
            "[nltk_data]   Package stopwords is already up-to-date!\n",
            "2.3.0\n"
          ],
          "name": "stdout"
        }
      ]
    },
    {
      "cell_type": "code",
      "metadata": {
        "id": "lPYLwjdCPOez"
      },
      "source": [
        "import pandas as pd\n",
        "import numpy as np\n",
        "import joblib\n",
        "from time import time\n",
        "\n",
        "\n",
        "def get_data(urls, sheets, types):\n",
        "    data = \"\"\n",
        "    t0 = time()\n",
        "    a = []\n",
        "    i = 0\n",
        "    for s in sheets:\n",
        "        s = pd.read_excel(urls, sheet_name=s)\n",
        "        s = s[[types, 'description']]\n",
        "        s['description'] = s['description'].str.lower()\n",
        "        if i == 0:\n",
        "            data = s.copy()\n",
        "        else:\n",
        "            data = pd.concat([data, s], ignore_index=True)\n",
        "        i += 1\n",
        "    data.columns = ['target', 'data']\n",
        "    data['target'] = data['target'].apply(str)\n",
        "    load_time = time() - t0\n",
        "    print(\"Load dataset time:  %0.3fs\" % load_time)\n",
        "\n",
        "    return data"
      ],
      "execution_count": 3,
      "outputs": []
    },
    {
      "cell_type": "code",
      "metadata": {
        "colab": {
          "base_uri": "https://localhost:8080/",
          "height": 427
        },
        "id": "hIbk2Q-mPYSS",
        "outputId": "759de41c-5158-4822-bd17-6c4c90d6f2ea"
      },
      "source": [
        "t0 = time()\n",
        "urls = 'https://github.com/dragon-library/work_space/raw/main/HS_Code/Lab/data/hs_code.xlsx'\n",
        "\n",
        "types = 'section'\n",
        "#sheets = ['8_digit','6_digit','4_digit', 'test_01', 'Declaration_2019_10']\n",
        "sheets = ['8_digit','6_digit','4_digit', '2_digit']\n",
        "df = get_data(urls,sheets,types)\n",
        "\n",
        "print(len(df))\n",
        "df.columns = ['category', 'text']\n",
        "\n",
        "print(len(df))\n",
        "\n",
        "load_time = time() - t0\n",
        "print(\"Load data time:  %0.3fs\" % load_time)\n",
        "df.sample(10)"
      ],
      "execution_count": 4,
      "outputs": [
        {
          "output_type": "stream",
          "text": [
            "Load dataset time:  43.604s\n",
            "17222\n",
            "17222\n",
            "Load data time:  43.604s\n"
          ],
          "name": "stdout"
        },
        {
          "output_type": "execute_result",
          "data": {
            "text/html": [
              "<div>\n",
              "<style scoped>\n",
              "    .dataframe tbody tr th:only-of-type {\n",
              "        vertical-align: middle;\n",
              "    }\n",
              "\n",
              "    .dataframe tbody tr th {\n",
              "        vertical-align: top;\n",
              "    }\n",
              "\n",
              "    .dataframe thead th {\n",
              "        text-align: right;\n",
              "    }\n",
              "</style>\n",
              "<table border=\"1\" class=\"dataframe\">\n",
              "  <thead>\n",
              "    <tr style=\"text-align: right;\">\n",
              "      <th></th>\n",
              "      <th>category</th>\n",
              "      <th>text</th>\n",
              "    </tr>\n",
              "  </thead>\n",
              "  <tbody>\n",
              "    <tr>\n",
              "      <th>4162</th>\n",
              "      <td>10</td>\n",
              "      <td>paper and paperboard; uncoated, fluting paper ...</td>\n",
              "    </tr>\n",
              "    <tr>\n",
              "      <th>9389</th>\n",
              "      <td>17</td>\n",
              "      <td>vehicles; with both sparkignition internal com...</td>\n",
              "    </tr>\n",
              "    <tr>\n",
              "      <th>13655</th>\n",
              "      <td>11</td>\n",
              "      <td>coats; men's or boys', overcoats, raincoats, c...</td>\n",
              "    </tr>\n",
              "    <tr>\n",
              "      <th>14326</th>\n",
              "      <td>15</td>\n",
              "      <td>cooking appliances and plate warmers; for liqu...</td>\n",
              "    </tr>\n",
              "    <tr>\n",
              "      <th>3462</th>\n",
              "      <td>7</td>\n",
              "      <td>plastics; baths, showerbaths, sinks and washba...</td>\n",
              "    </tr>\n",
              "    <tr>\n",
              "      <th>5650</th>\n",
              "      <td>13</td>\n",
              "      <td>cellulose fibrecement; articles or the like, s...</td>\n",
              "    </tr>\n",
              "    <tr>\n",
              "      <th>4868</th>\n",
              "      <td>11</td>\n",
              "      <td>carpets and other textile floor coverings; tuf...</td>\n",
              "    </tr>\n",
              "    <tr>\n",
              "      <th>14957</th>\n",
              "      <td>16</td>\n",
              "      <td>machine tools; for working any material by rem...</td>\n",
              "    </tr>\n",
              "    <tr>\n",
              "      <th>4536</th>\n",
              "      <td>11</td>\n",
              "      <td>fabrics, woven; of cotton, dyed, weighing more...</td>\n",
              "    </tr>\n",
              "    <tr>\n",
              "      <th>15297</th>\n",
              "      <td>16</td>\n",
              "      <td>reception and transmission apparatus; aerials ...</td>\n",
              "    </tr>\n",
              "  </tbody>\n",
              "</table>\n",
              "</div>"
            ],
            "text/plain": [
              "      category                                               text\n",
              "4162        10  paper and paperboard; uncoated, fluting paper ...\n",
              "9389        17  vehicles; with both sparkignition internal com...\n",
              "13655       11  coats; men's or boys', overcoats, raincoats, c...\n",
              "14326       15  cooking appliances and plate warmers; for liqu...\n",
              "3462         7  plastics; baths, showerbaths, sinks and washba...\n",
              "5650        13  cellulose fibrecement; articles or the like, s...\n",
              "4868        11  carpets and other textile floor coverings; tuf...\n",
              "14957       16  machine tools; for working any material by rem...\n",
              "4536        11  fabrics, woven; of cotton, dyed, weighing more...\n",
              "15297       16  reception and transmission apparatus; aerials ..."
            ]
          },
          "metadata": {
            "tags": []
          },
          "execution_count": 4
        }
      ]
    },
    {
      "cell_type": "code",
      "metadata": {
        "id": "38E7fIkF2m8_"
      },
      "source": [
        "vocab_size = 5000\n",
        "embedding_dim = 64\n",
        "max_length = 200\n",
        "trunc_type = 'post'\n",
        "padding_type = 'post'\n",
        "oov_tok = '<OOV>'\n",
        "training_portion = .8"
      ],
      "execution_count": 5,
      "outputs": []
    },
    {
      "cell_type": "code",
      "metadata": {
        "id": "QEsXtLS7RWkP"
      },
      "source": [
        "labels = df.category\n",
        "articles = df.text"
      ],
      "execution_count": 6,
      "outputs": []
    },
    {
      "cell_type": "code",
      "metadata": {
        "colab": {
          "base_uri": "https://localhost:8080/"
        },
        "id": "BeizbrDM2m8_",
        "outputId": "6085858f-e7b6-40fe-82ec-f96e59563057"
      },
      "source": [
        "train_size = int(len(articles) * training_portion)\n",
        "\n",
        "train_articles = articles[0: train_size]\n",
        "train_labels = labels[0: train_size]\n",
        "\n",
        "validation_articles = articles[train_size:]\n",
        "validation_labels = labels[train_size:]\n",
        "\n",
        "print(train_size)\n",
        "print(len(train_articles))\n",
        "print(len(train_labels))\n",
        "print(len(validation_articles))\n",
        "print(len(validation_labels))"
      ],
      "execution_count": 7,
      "outputs": [
        {
          "output_type": "stream",
          "text": [
            "13777\n",
            "13777\n",
            "13777\n",
            "3445\n",
            "3445\n"
          ],
          "name": "stdout"
        }
      ]
    },
    {
      "cell_type": "code",
      "metadata": {
        "colab": {
          "base_uri": "https://localhost:8080/"
        },
        "id": "eeWD5oVe2m8_",
        "outputId": "289307bb-9a67-42ba-fbf0-5f81ea37806a"
      },
      "source": [
        "tokenizer = Tokenizer(num_words = vocab_size, oov_token=oov_tok)\n",
        "tokenizer.fit_on_texts(train_articles)\n",
        "word_index = tokenizer.word_index\n",
        "dict(list(word_index.items())[0:10])"
      ],
      "execution_count": 8,
      "outputs": [
        {
          "output_type": "execute_result",
          "data": {
            "text/plain": [
              "{'<OOV>': 1,\n",
              " 'a': 10,\n",
              " 'and': 4,\n",
              " 'for': 8,\n",
              " 'in': 7,\n",
              " 'not': 6,\n",
              " 'of': 3,\n",
              " 'or': 2,\n",
              " 'other': 5,\n",
              " 'than': 9}"
            ]
          },
          "metadata": {
            "tags": []
          },
          "execution_count": 8
        }
      ]
    },
    {
      "cell_type": "code",
      "metadata": {
        "colab": {
          "base_uri": "https://localhost:8080/"
        },
        "id": "Qtx1PoAW2m8_",
        "outputId": "53bdd3cb-2973-4cb6-9798-6088892eb4bb"
      },
      "source": [
        "train_sequences = tokenizer.texts_to_sequences(train_articles)\n",
        "print(train_sequences[10])"
      ],
      "execution_count": 9,
      "outputs": [
        {
          "output_type": "stream",
          "text": [
            "[527, 368, 152, 5, 9, 2531, 4, 1310, 1598, 771, 368]\n"
          ],
          "name": "stdout"
        }
      ]
    },
    {
      "cell_type": "code",
      "metadata": {
        "colab": {
          "base_uri": "https://localhost:8080/"
        },
        "id": "gVQXONnr2m8_",
        "outputId": "d986ef7e-16f9-4fc4-b11c-fac5c239f2be"
      },
      "source": [
        "train_padded = pad_sequences(train_sequences, maxlen=max_length, padding=padding_type, truncating=trunc_type)\n",
        "print(len(train_sequences[0]))\n",
        "print(len(train_padded[0]))\n",
        "\n",
        "print(len(train_sequences[1]))\n",
        "print(len(train_padded[1]))\n",
        "\n",
        "print(len(train_sequences[10]))\n",
        "print(len(train_padded[10]))"
      ],
      "execution_count": 10,
      "outputs": [
        {
          "output_type": "stream",
          "text": [
            "8\n",
            "200\n",
            "8\n",
            "200\n",
            "11\n",
            "200\n"
          ],
          "name": "stdout"
        }
      ]
    },
    {
      "cell_type": "code",
      "metadata": {
        "colab": {
          "base_uri": "https://localhost:8080/"
        },
        "id": "f1_HfalA2m8_",
        "outputId": "031f3f72-f6e4-4a35-d5a8-c92f37cf29e8"
      },
      "source": [
        "print(train_padded[10])"
      ],
      "execution_count": 11,
      "outputs": [
        {
          "output_type": "stream",
          "text": [
            "[ 527  368  152    5    9 2531    4 1310 1598  771  368    0    0    0\n",
            "    0    0    0    0    0    0    0    0    0    0    0    0    0    0\n",
            "    0    0    0    0    0    0    0    0    0    0    0    0    0    0\n",
            "    0    0    0    0    0    0    0    0    0    0    0    0    0    0\n",
            "    0    0    0    0    0    0    0    0    0    0    0    0    0    0\n",
            "    0    0    0    0    0    0    0    0    0    0    0    0    0    0\n",
            "    0    0    0    0    0    0    0    0    0    0    0    0    0    0\n",
            "    0    0    0    0    0    0    0    0    0    0    0    0    0    0\n",
            "    0    0    0    0    0    0    0    0    0    0    0    0    0    0\n",
            "    0    0    0    0    0    0    0    0    0    0    0    0    0    0\n",
            "    0    0    0    0    0    0    0    0    0    0    0    0    0    0\n",
            "    0    0    0    0    0    0    0    0    0    0    0    0    0    0\n",
            "    0    0    0    0    0    0    0    0    0    0    0    0    0    0\n",
            "    0    0    0    0    0    0    0    0    0    0    0    0    0    0\n",
            "    0    0    0    0]\n"
          ],
          "name": "stdout"
        }
      ]
    },
    {
      "cell_type": "code",
      "metadata": {
        "colab": {
          "base_uri": "https://localhost:8080/"
        },
        "id": "N-3SjygY2m8_",
        "outputId": "f281557a-4631-4573-cbf0-bd5f1ca10f8f"
      },
      "source": [
        "validation_sequences = tokenizer.texts_to_sequences(validation_articles)\n",
        "validation_padded = pad_sequences(validation_sequences, maxlen=max_length, padding=padding_type, truncating=trunc_type)\n",
        "\n",
        "print(len(validation_sequences))\n",
        "print(validation_padded.shape)"
      ],
      "execution_count": 12,
      "outputs": [
        {
          "output_type": "stream",
          "text": [
            "3445\n",
            "(3445, 200)\n"
          ],
          "name": "stdout"
        }
      ]
    },
    {
      "cell_type": "code",
      "metadata": {
        "colab": {
          "base_uri": "https://localhost:8080/"
        },
        "id": "efwDgV3r2m8_",
        "outputId": "93378588-75c8-41c2-d8be-da9877e719cf"
      },
      "source": [
        "label_tokenizer = Tokenizer()\n",
        "label_tokenizer.fit_on_texts(labels)\n",
        "\n",
        "training_label_seq = np.array(label_tokenizer.texts_to_sequences(train_labels))\n",
        "validation_label_seq = np.array(label_tokenizer.texts_to_sequences(validation_labels))\n",
        "print(training_label_seq[0])\n",
        "print(training_label_seq[1])\n",
        "print(training_label_seq[2])\n",
        "print(training_label_seq.shape)\n",
        "\n",
        "print(validation_label_seq[0])\n",
        "print(validation_label_seq[1])\n",
        "print(validation_label_seq[2])\n",
        "print(validation_label_seq.shape)"
      ],
      "execution_count": 13,
      "outputs": [
        {
          "output_type": "stream",
          "text": [
            "[6]\n",
            "[6]\n",
            "[6]\n",
            "(13777, 1)\n",
            "[3]\n",
            "[3]\n",
            "[3]\n",
            "(3445, 1)\n"
          ],
          "name": "stdout"
        }
      ]
    },
    {
      "cell_type": "code",
      "metadata": {
        "colab": {
          "base_uri": "https://localhost:8080/"
        },
        "id": "zslzyWW32m9A",
        "outputId": "874e64aa-92ce-4161-b429-76f977b14175"
      },
      "source": [
        "reverse_word_index = dict([(value, key) for (key, value) in word_index.items()])\n",
        "\n",
        "def decode_article(text):\n",
        "    return ' '.join([reverse_word_index.get(i, '?') for i in text])\n",
        "print(decode_article(train_padded[10]))\n",
        "print('---')\n",
        "print(train_articles[10])"
      ],
      "execution_count": 14,
      "outputs": [
        {
          "output_type": "stream",
          "text": [
            "bovine animals live other than cattle and buffalo purebred breeding animals ? ? ? ? ? ? ? ? ? ? ? ? ? ? ? ? ? ? ? ? ? ? ? ? ? ? ? ? ? ? ? ? ? ? ? ? ? ? ? ? ? ? ? ? ? ? ? ? ? ? ? ? ? ? ? ? ? ? ? ? ? ? ? ? ? ? ? ? ? ? ? ? ? ? ? ? ? ? ? ? ? ? ? ? ? ? ? ? ? ? ? ? ? ? ? ? ? ? ? ? ? ? ? ? ? ? ? ? ? ? ? ? ? ? ? ? ? ? ? ? ? ? ? ? ? ? ? ? ? ? ? ? ? ? ? ? ? ? ? ? ? ? ? ? ? ? ? ? ? ? ? ? ? ? ? ? ? ? ? ? ? ? ? ? ? ? ? ? ? ? ? ? ? ? ? ? ? ? ? ? ? ? ? ? ? ? ? ? ?\n",
            "---\n",
            "bovine animals; live, other than cattle and buffalo - purebred breeding animals\n"
          ],
          "name": "stdout"
        }
      ]
    },
    {
      "cell_type": "code",
      "metadata": {
        "colab": {
          "base_uri": "https://localhost:8080/"
        },
        "id": "2JNawmyh2m9A",
        "outputId": "0c894698-3472-4cbb-98ce-c5eae80c18ea"
      },
      "source": [
        "model = tf.keras.Sequential([\n",
        "    # Add an Embedding layer expecting input vocab of size 5000, and output embedding dimension of size 64 we set at the top\n",
        "    tf.keras.layers.Embedding(vocab_size, embedding_dim),\n",
        "    tf.keras.layers.Bidirectional(tf.keras.layers.LSTM(embedding_dim)),\n",
        "#    tf.keras.layers.Bidirectional(tf.keras.layers.LSTM(32)),\n",
        "    # use ReLU in place of tanh function since they are very good alternatives of each other.\n",
        "    tf.keras.layers.Dense(embedding_dim, activation='relu'),\n",
        "    # Add a Dense layer with 6 units and softmax activation.\n",
        "    # When we have multiple outputs, softmax convert outputs layers into a probability distribution.\n",
        "    tf.keras.layers.Dense(100, activation='softmax')\n",
        "])\n",
        "model.summary()"
      ],
      "execution_count": 15,
      "outputs": [
        {
          "output_type": "stream",
          "text": [
            "Model: \"sequential\"\n",
            "_________________________________________________________________\n",
            "Layer (type)                 Output Shape              Param #   \n",
            "=================================================================\n",
            "embedding (Embedding)        (None, None, 64)          320000    \n",
            "_________________________________________________________________\n",
            "bidirectional (Bidirectional (None, 128)               66048     \n",
            "_________________________________________________________________\n",
            "dense (Dense)                (None, 64)                8256      \n",
            "_________________________________________________________________\n",
            "dense_1 (Dense)              (None, 100)               6500      \n",
            "=================================================================\n",
            "Total params: 400,804\n",
            "Trainable params: 400,804\n",
            "Non-trainable params: 0\n",
            "_________________________________________________________________\n"
          ],
          "name": "stdout"
        }
      ]
    },
    {
      "cell_type": "code",
      "metadata": {
        "colab": {
          "base_uri": "https://localhost:8080/"
        },
        "id": "BG20wv1n2m9A",
        "outputId": "e9d8ee24-3f1c-41e8-92d8-8b4811e338ef"
      },
      "source": [
        "print(set(labels))"
      ],
      "execution_count": 16,
      "outputs": [
        {
          "output_type": "stream",
          "text": [
            "{'13', '15', '6', '9', '1', '10', '16', '7', '3', '11', '4', '12', '17', '19', '20', '18', '2', '21', '14', '8', '5'}\n"
          ],
          "name": "stdout"
        }
      ]
    },
    {
      "cell_type": "code",
      "metadata": {
        "colab": {
          "base_uri": "https://localhost:8080/"
        },
        "id": "HigYTD0V2m9A",
        "outputId": "5cab60d7-f62d-4ef1-e31f-74c0c59a96c2"
      },
      "source": [
        "model.compile(loss='sparse_categorical_crossentropy', optimizer='adam', metrics=['accuracy'])\n",
        "num_epochs = 20\n",
        "history = model.fit(train_padded, training_label_seq, epochs=num_epochs, validation_data=(validation_padded, validation_label_seq), verbose=2)"
      ],
      "execution_count": 17,
      "outputs": [
        {
          "output_type": "stream",
          "text": [
            "Epoch 1/20\n",
            "431/431 - 80s - loss: 1.5192 - accuracy: 0.5876 - val_loss: 0.9960 - val_accuracy: 0.7234\n",
            "Epoch 2/20\n",
            "431/431 - 80s - loss: 0.2082 - accuracy: 0.9508 - val_loss: 0.3881 - val_accuracy: 0.9126\n",
            "Epoch 3/20\n",
            "431/431 - 80s - loss: 0.0643 - accuracy: 0.9856 - val_loss: 0.2202 - val_accuracy: 0.9419\n",
            "Epoch 4/20\n",
            "431/431 - 80s - loss: 0.0294 - accuracy: 0.9940 - val_loss: 0.1851 - val_accuracy: 0.9556\n",
            "Epoch 5/20\n",
            "431/431 - 80s - loss: 0.0173 - accuracy: 0.9964 - val_loss: 0.1685 - val_accuracy: 0.9655\n",
            "Epoch 6/20\n",
            "431/431 - 80s - loss: 0.0138 - accuracy: 0.9967 - val_loss: 0.1230 - val_accuracy: 0.9721\n",
            "Epoch 7/20\n",
            "431/431 - 80s - loss: 0.0092 - accuracy: 0.9982 - val_loss: 0.1137 - val_accuracy: 0.9756\n",
            "Epoch 8/20\n",
            "431/431 - 80s - loss: 0.0074 - accuracy: 0.9983 - val_loss: 0.1487 - val_accuracy: 0.9637\n",
            "Epoch 9/20\n",
            "431/431 - 80s - loss: 0.0083 - accuracy: 0.9978 - val_loss: 0.1200 - val_accuracy: 0.9713\n",
            "Epoch 10/20\n",
            "431/431 - 80s - loss: 0.0135 - accuracy: 0.9968 - val_loss: 0.1172 - val_accuracy: 0.9718\n",
            "Epoch 11/20\n",
            "431/431 - 80s - loss: 0.0100 - accuracy: 0.9975 - val_loss: 0.1227 - val_accuracy: 0.9704\n",
            "Epoch 12/20\n",
            "431/431 - 80s - loss: 0.0075 - accuracy: 0.9985 - val_loss: 0.1514 - val_accuracy: 0.9663\n",
            "Epoch 13/20\n",
            "431/431 - 80s - loss: 0.0045 - accuracy: 0.9990 - val_loss: 0.0998 - val_accuracy: 0.9750\n",
            "Epoch 14/20\n",
            "431/431 - 80s - loss: 0.0047 - accuracy: 0.9990 - val_loss: 0.1167 - val_accuracy: 0.9721\n",
            "Epoch 15/20\n",
            "431/431 - 80s - loss: 0.0045 - accuracy: 0.9989 - val_loss: 0.1082 - val_accuracy: 0.9727\n",
            "Epoch 16/20\n",
            "431/431 - 80s - loss: 0.0062 - accuracy: 0.9983 - val_loss: 0.1270 - val_accuracy: 0.9718\n",
            "Epoch 17/20\n",
            "431/431 - 80s - loss: 0.0078 - accuracy: 0.9977 - val_loss: 0.1292 - val_accuracy: 0.9678\n",
            "Epoch 18/20\n",
            "431/431 - 80s - loss: 0.0059 - accuracy: 0.9983 - val_loss: 0.1273 - val_accuracy: 0.9733\n",
            "Epoch 19/20\n",
            "431/431 - 80s - loss: 0.0039 - accuracy: 0.9988 - val_loss: 0.1253 - val_accuracy: 0.9713\n",
            "Epoch 20/20\n",
            "431/431 - 80s - loss: 0.0036 - accuracy: 0.9991 - val_loss: 0.1109 - val_accuracy: 0.9750\n"
          ],
          "name": "stdout"
        }
      ]
    },
    {
      "cell_type": "code",
      "metadata": {
        "colab": {
          "base_uri": "https://localhost:8080/",
          "height": 541
        },
        "id": "oOJdZ8bv2m9A",
        "outputId": "674a1fed-654b-4cb4-88ac-bf6e53393c74"
      },
      "source": [
        "import matplotlib.pyplot as plt\n",
        "\n",
        "def plot_graphs(history, string):\n",
        "  plt.plot(history.history[string])\n",
        "  plt.plot(history.history['val_'+string])\n",
        "  plt.xlabel(\"Epochs\")\n",
        "  plt.ylabel(string)\n",
        "  plt.legend([string, 'val_'+string])\n",
        "  plt.show()\n",
        "  \n",
        "plot_graphs(history, \"accuracy\")\n",
        "plot_graphs(history, \"loss\")"
      ],
      "execution_count": 18,
      "outputs": [
        {
          "output_type": "display_data",
          "data": {
            "image/png": "[encoded data removed]",
            "text/plain": [
              "<Figure size 432x288 with 1 Axes>"
            ]
          },
          "metadata": {
            "tags": [],
            "needs_background": "light"
          }
        },
        {
          "output_type": "display_data",
          "data": {
            "image/png": "[encoded data removed]",
            "text/plain": [
              "<Figure size 432x288 with 1 Axes>"
            ]
          },
          "metadata": {
            "tags": [],
            "needs_background": "light"
          }
        }
      ]
    },
    {
      "cell_type": "code",
      "metadata": {
        "id": "RQBY--nv2m9A",
        "colab": {
          "base_uri": "https://localhost:8080/",
          "height": 669
        },
        "outputId": "5a53953b-b190-42be-841d-06120c212d79"
      },
      "source": [
        "df.head(20)"
      ],
      "execution_count": 19,
      "outputs": [
        {
          "output_type": "execute_result",
          "data": {
            "text/html": [
              "<div>\n",
              "<style scoped>\n",
              "    .dataframe tbody tr th:only-of-type {\n",
              "        vertical-align: middle;\n",
              "    }\n",
              "\n",
              "    .dataframe tbody tr th {\n",
              "        vertical-align: top;\n",
              "    }\n",
              "\n",
              "    .dataframe thead th {\n",
              "        text-align: right;\n",
              "    }\n",
              "</style>\n",
              "<table border=\"1\" class=\"dataframe\">\n",
              "  <thead>\n",
              "    <tr style=\"text-align: right;\">\n",
              "      <th></th>\n",
              "      <th>category</th>\n",
              "      <th>text</th>\n",
              "    </tr>\n",
              "  </thead>\n",
              "  <tbody>\n",
              "    <tr>\n",
              "      <th>0</th>\n",
              "      <td>1</td>\n",
              "      <td>horses; live, purebred breeding animals - pure...</td>\n",
              "    </tr>\n",
              "    <tr>\n",
              "      <th>1</th>\n",
              "      <td>1</td>\n",
              "      <td>horses; live, other than purebred breeding ani...</td>\n",
              "    </tr>\n",
              "    <tr>\n",
              "      <th>2</th>\n",
              "      <td>1</td>\n",
              "      <td>asses; live - other</td>\n",
              "    </tr>\n",
              "    <tr>\n",
              "      <th>3</th>\n",
              "      <td>1</td>\n",
              "      <td>mules and hinnies; live-  other</td>\n",
              "    </tr>\n",
              "    <tr>\n",
              "      <th>4</th>\n",
              "      <td>1</td>\n",
              "      <td>cattle; live, purebred breeding animals - pure...</td>\n",
              "    </tr>\n",
              "    <tr>\n",
              "      <th>5</th>\n",
              "      <td>1</td>\n",
              "      <td>cattle; live, other than purebred breeding ani...</td>\n",
              "    </tr>\n",
              "    <tr>\n",
              "      <th>6</th>\n",
              "      <td>1</td>\n",
              "      <td>cattle; live, other than purebred breeding ani...</td>\n",
              "    </tr>\n",
              "    <tr>\n",
              "      <th>7</th>\n",
              "      <td>1</td>\n",
              "      <td>cattle; live, other than purebred breeding ani...</td>\n",
              "    </tr>\n",
              "    <tr>\n",
              "      <th>8</th>\n",
              "      <td>1</td>\n",
              "      <td>buffalo; live, purebred breeding animals - pur...</td>\n",
              "    </tr>\n",
              "    <tr>\n",
              "      <th>9</th>\n",
              "      <td>1</td>\n",
              "      <td>buffalo; live, other than purebred breeding an...</td>\n",
              "    </tr>\n",
              "    <tr>\n",
              "      <th>10</th>\n",
              "      <td>1</td>\n",
              "      <td>bovine animals; live, other than cattle and bu...</td>\n",
              "    </tr>\n",
              "    <tr>\n",
              "      <th>11</th>\n",
              "      <td>1</td>\n",
              "      <td>bovine animals; live, other than cattle and bu...</td>\n",
              "    </tr>\n",
              "    <tr>\n",
              "      <th>12</th>\n",
              "      <td>1</td>\n",
              "      <td>swine; live, purebred breeding animals-  pureb...</td>\n",
              "    </tr>\n",
              "    <tr>\n",
              "      <th>13</th>\n",
              "      <td>1</td>\n",
              "      <td>swine; live, other than purebred breeding anim...</td>\n",
              "    </tr>\n",
              "    <tr>\n",
              "      <th>14</th>\n",
              "      <td>1</td>\n",
              "      <td>swine; live, other than purebred breeding anim...</td>\n",
              "    </tr>\n",
              "    <tr>\n",
              "      <th>15</th>\n",
              "      <td>1</td>\n",
              "      <td>sheep; live - purebred breeding animals</td>\n",
              "    </tr>\n",
              "    <tr>\n",
              "      <th>16</th>\n",
              "      <td>1</td>\n",
              "      <td>sheep; live - other</td>\n",
              "    </tr>\n",
              "    <tr>\n",
              "      <th>17</th>\n",
              "      <td>1</td>\n",
              "      <td>goats; live - purebred breeding animals</td>\n",
              "    </tr>\n",
              "    <tr>\n",
              "      <th>18</th>\n",
              "      <td>1</td>\n",
              "      <td>goats; live - other</td>\n",
              "    </tr>\n",
              "    <tr>\n",
              "      <th>19</th>\n",
              "      <td>1</td>\n",
              "      <td>poultry; live, fowls of the species gallus dom...</td>\n",
              "    </tr>\n",
              "  </tbody>\n",
              "</table>\n",
              "</div>"
            ],
            "text/plain": [
              "   category                                               text\n",
              "0         1  horses; live, purebred breeding animals - pure...\n",
              "1         1  horses; live, other than purebred breeding ani...\n",
              "2         1                                asses; live - other\n",
              "3         1                    mules and hinnies; live-  other\n",
              "4         1  cattle; live, purebred breeding animals - pure...\n",
              "5         1  cattle; live, other than purebred breeding ani...\n",
              "6         1  cattle; live, other than purebred breeding ani...\n",
              "7         1  cattle; live, other than purebred breeding ani...\n",
              "8         1  buffalo; live, purebred breeding animals - pur...\n",
              "9         1  buffalo; live, other than purebred breeding an...\n",
              "10        1  bovine animals; live, other than cattle and bu...\n",
              "11        1  bovine animals; live, other than cattle and bu...\n",
              "12        1  swine; live, purebred breeding animals-  pureb...\n",
              "13        1  swine; live, other than purebred breeding anim...\n",
              "14        1  swine; live, other than purebred breeding anim...\n",
              "15        1            sheep; live - purebred breeding animals\n",
              "16        1                                sheep; live - other\n",
              "17        1            goats; live - purebred breeding animals\n",
              "18        1                                goats; live - other\n",
              "19        1  poultry; live, fowls of the species gallus dom..."
            ]
          },
          "metadata": {
            "tags": []
          },
          "execution_count": 19
        }
      ]
    },
    {
      "cell_type": "code",
      "metadata": {
        "id": "SbHUNd-R9vuD"
      },
      "source": [
        ""
      ],
      "execution_count": 19,
      "outputs": []
    }
  ]
}